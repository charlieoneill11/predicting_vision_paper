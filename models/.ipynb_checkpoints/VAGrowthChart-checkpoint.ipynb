{
 "cells": [
  {
   "cell_type": "code",
   "execution_count": null,
   "id": "8b119631-614d-416f-99af-e408c46621ed",
   "metadata": {},
   "outputs": [],
   "source": [
    "from sklearn.model_selection import cross_val_score\n",
    "from sklearn.model_selection import RandomizedSearchCV\n",
    "from sklearn.model_selection import train_test_split\n",
    "from sklearn import metrics\n",
    "from sklearn.metrics import roc_curve\n",
    "from sklearn.metrics import roc_auc_score\n",
    "from sklearn.metrics import confusion_matrix\n",
    "from sklearn.metrics import accuracy_score\n",
    "import warnings\n",
    "warnings.filterwarnings('ignore')\n",
    "import pandas as pd\n",
    "import numpy as np\n",
    "\n",
    "def label_bcva(row): \n",
    "    final_bcva = row.target_va\n",
    "    toRtn = 0\n",
    "    if final_bcva < 60: \n",
    "        if final_bcva < 40: toRtn = 0\n",
    "        else: toRtn = 1\n",
    "    else:\n",
    "        if final_bcva < 80: toRtn = 2\n",
    "        else: toRtn = 3\n",
    "    return toRtn\n",
    "\n",
    "df = pd.read_csv(\"~/Documents/Github/paper/input/df_3_years.csv\")\n",
    "df['outcome'] = df.apply(lambda row: label_bcva(row), axis=1)\n",
    "\n",
    "X, y = df.drop(columns=['target_va', 'outcome']), df.outcome.values\n",
    "X_train, X_valid, y_train, y_valid = train_test_split(X, y, test_size=0.2, random_state=4)\n",
    "\n",
    "def score(model, X, y, cv=5, scoring='accuracy'):\n",
    "    scores = cross_val_score(model, X, y, cv=cv, scoring=scoring)\n",
    "    return np.mean(scores), np.std(scores)"
   ]
  },
  {
   "cell_type": "code",
   "execution_count": null,
   "id": "05903f3a-863b-4a67-ab52-3cfca682862a",
   "metadata": {},
   "outputs": [],
   "source": [
    "from pytorch_tabnet.tab_model import TabNetClassifier\n",
    "\n",
    "import torch\n",
    "from sklearn.preprocessing import LabelEncoder\n",
    "from sklearn.metrics import accuracy_score\n",
    "from sklearn.model_selection import train_test_split\n",
    "import pandas as pd\n",
    "import numpy as np\n",
    "np.random.seed(0)\n",
    "\n",
    "from matplotlib import pyplot as plt\n",
    "%matplotlib inline\n",
    "\n",
    "X, y = df.drop(columns=['target_va', 'outcome']).values, df.outcome.values\n",
    "X_train, X_valid, y_train, y_valid = train_test_split(X, y, test_size=0.2, random_state=4)"
   ]
  },
  {
   "cell_type": "code",
   "execution_count": null,
   "id": "3cdbe9f7-5c5e-4442-96b3-951dd4b25178",
   "metadata": {},
   "outputs": [],
   "source": [
    "clf = TabNetClassifier(\n",
    "    n_d=64, n_a=64, n_steps=5,\n",
    "    gamma=1.5, n_independent=2, n_shared=2,\n",
    "    lambda_sparse=1e-4, momentum=0.3, clip_value=2.,\n",
    "    optimizer_fn=torch.optim.Adam,\n",
    "    optimizer_params=dict(lr=2e-2),\n",
    "    scheduler_params = {\"gamma\": 0.95,\n",
    "                     \"step_size\": 20},\n",
    "    scheduler_fn=torch.optim.lr_scheduler.StepLR, epsilon=1e-15,\n",
    "    verbose=0\n",
    ")"
   ]
  },
  {
   "cell_type": "code",
   "execution_count": null,
   "id": "92c44a17-6a7a-4178-909b-66ccf6d9ab64",
   "metadata": {},
   "outputs": [],
   "source": [
    "clf.fit(\n",
    "    X_train=X_train, y_train=y_train,\n",
    "    eval_set=[(X_train, y_train), (X_valid, y_valid)],\n",
    "    eval_name=['train', 'valid'],\n",
    "    max_epochs=1000, patience=100,\n",
    "    batch_size=64\n",
    ") "
   ]
  },
  {
   "cell_type": "code",
   "execution_count": 4,
   "id": "f3757a00-0772-4f91-8dc7-23a6592fcef8",
   "metadata": {},
   "outputs": [],
   "source": [
    "import os \n",
    "os.chdir('/Users/charlesoneill/Documents/GitHub/paper/results')"
   ]
  },
  {
   "cell_type": "code",
   "execution_count": 5,
   "id": "84f7e127-8823-48cd-9e16-7929e06d8ed7",
   "metadata": {},
   "outputs": [],
   "source": [
    "def return_tabnet():\n",
    "    return TabNetClassifier(\n",
    "    n_d=64, n_a=64, n_steps=5,\n",
    "    gamma=1.5, n_independent=2, n_shared=2,\n",
    "    lambda_sparse=1e-4, momentum=0.3, clip_value=2.,\n",
    "    optimizer_fn=torch.optim.Adam,\n",
    "    optimizer_params=dict(lr=2e-2),\n",
    "    scheduler_params = {\"gamma\": 0.95,\n",
    "                     \"step_size\": 20},\n",
    "    scheduler_fn=torch.optim.lr_scheduler.StepLR, epsilon=1e-15,\n",
    "    verbose=0)"
   ]
  },
  {
   "cell_type": "code",
   "execution_count": 6,
   "id": "a4686f90-3fe3-4424-a3f8-7bae2dcbbbce",
   "metadata": {},
   "outputs": [],
   "source": [
    "def train_tabnet(year):\n",
    "    df = pd.read_csv(f\"~/Documents/Github/paper/input/df_{year}_years.csv\")\n",
    "    df['outcome'] = df.apply(lambda row: label_bcva(row), axis=1)\n",
    "    X, y = df.drop(columns=['target_va', 'outcome']).values, df.outcome.values\n",
    "    X_train, X_valid, y_train, y_valid = train_test_split(X, y, test_size=0.2, random_state=4)\n",
    "    clf = return_tabnet()\n",
    "    clf.fit(X_train=X_train, y_train=y_train, \n",
    "            eval_set=[(X_train, y_train), (X_valid, y_valid)],\n",
    "            eval_name=['train', 'valid'], max_epochs=1000, patience=100,\n",
    "            batch_size=64)\n",
    "    return clf"
   ]
  },
  {
   "cell_type": "code",
   "execution_count": null,
   "id": "286a7bf1-a3c5-4383-ad96-1c46f5cec95d",
   "metadata": {},
   "outputs": [],
   "source": [
    "clf_1 = train_tabnet(1)\n",
    "clf_2 = train_tabnet(2)\n",
    "clf_3 = train_tabnet(3)\n",
    "model_lst = [clf_1, clf_2, clf_3]"
   ]
  },
  {
   "cell_type": "code",
   "execution_count": null,
   "id": "333e46cf-6c6a-4895-ae57-1ca4f485e1bb",
   "metadata": {},
   "outputs": [],
   "source": [
    "def bcva_prob_dist(model, sample, year, ground_truth):\n",
    "    t = [0, 30, 50, 70, 90, 100]\n",
    "    preds_proba = model.predict_proba(sample).tolist()[0]\n",
    "    preds_proba.insert(0, 0.0)\n",
    "    preds_proba.append(0)\n",
    "    plt.plot(t, preds_proba, color=\"orange\")\n",
    "    plt.fill_between(t, preds_proba, color=\"navy\")\n",
    "    plt.axvline(x=ground_truth, color='r', linestyle='-', label=\"True vision\")\n",
    "    plt.ylabel(\"Probability of BCVA\")\n",
    "    plt.xlabel(f\"Vision at end of Year {year} (logMAR letters)\")\n",
    "    plt.legend()\n",
    "    plt.savefig(f\"year{year}_patient_distribution.png\", dpi=300)\n",
    "    plt.show()"
   ]
  },
  {
   "cell_type": "code",
   "execution_count": null,
   "id": "bcb7c823-5091-4ea0-a967-873caac87bd3",
   "metadata": {},
   "outputs": [],
   "source": [
    "sample = X_valid[11:12]\n",
    "bcva_prob_dist(clf, sample, 3, 40)"
   ]
  },
  {
   "cell_type": "code",
   "execution_count": null,
   "id": "b69d134f-2d68-4412-985a-b96bb8fb1e9e",
   "metadata": {},
   "outputs": [],
   "source": []
  }
 ],
 "metadata": {
  "kernelspec": {
   "display_name": "Python 3 (ipykernel)",
   "language": "python",
   "name": "python3"
  },
  "language_info": {
   "codemirror_mode": {
    "name": "ipython",
    "version": 3
   },
   "file_extension": ".py",
   "mimetype": "text/x-python",
   "name": "python",
   "nbconvert_exporter": "python",
   "pygments_lexer": "ipython3",
   "version": "3.9.7"
  }
 },
 "nbformat": 4,
 "nbformat_minor": 5
}
