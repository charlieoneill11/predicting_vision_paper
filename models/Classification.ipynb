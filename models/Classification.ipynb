{
 "cells": [
  {
   "cell_type": "markdown",
   "id": "fd3d4825-6113-40f5-80ec-a6c571598a2d",
   "metadata": {
    "tags": []
   },
   "source": [
    "## Setup"
   ]
  },
  {
   "cell_type": "code",
   "execution_count": 704,
   "id": "315bf6ab-0801-4ad5-be47-b20d9d33c4b2",
   "metadata": {},
   "outputs": [],
   "source": [
    "from sklearn.model_selection import cross_val_score\n",
    "from sklearn.model_selection import RandomizedSearchCV\n",
    "from sklearn.model_selection import train_test_split\n",
    "from sklearn.metrics import roc_curve\n",
    "from sklearn.metrics import roc_auc_score\n",
    "from sklearn.metrics import confusion_matrix\n",
    "import warnings\n",
    "warnings.filterwarnings('ignore')\n",
    "import pandas as pd\n",
    "import numpy as np\n",
    "\n",
    "def label_ovc(row): return 1 if (row.target_va - row.first_va) >= 0 else 0\n",
    "df = pd.read_csv(\"~/Documents/Github/paper/input/df_3_years.csv\")\n",
    "df['outcome'] = df.apply(lambda row: label_ovc(row), axis=1)\n",
    "\n",
    "X, y = df.drop(columns=['target_va', 'outcome']), df.outcome.values\n",
    "X_train, X_test, y_train, y_test = train_test_split(X, y, test_size=0.2, random_state=4)\n",
    "\n",
    "def score(model, X, y, cv=5, scoring='accuracy'):\n",
    "    scores = cross_val_score(model, X, y, cv=cv, scoring=scoring)\n",
    "    return np.mean(scores), np.std(scores)"
   ]
  },
  {
   "cell_type": "markdown",
   "id": "c9e78ccd-2009-40b6-b46b-332cb5038957",
   "metadata": {},
   "source": [
    "## Baseline"
   ]
  },
  {
   "cell_type": "code",
   "execution_count": 708,
   "id": "0e2f7acc-1e0c-494e-91cc-837e71f5a5b6",
   "metadata": {},
   "outputs": [
    {
     "data": {
      "text/plain": [
       "0.7146529562982005"
      ]
     },
     "execution_count": 708,
     "metadata": {},
     "output_type": "execute_result"
    }
   ],
   "source": [
    "from sklearn.metrics import accuracy_score\n",
    "\n",
    "def baseline_predictor(X):\n",
    "    preds = []\n",
    "    for i in range(len(X)):\n",
    "        first, fourth = X.first_va.iloc[i], X.fourth_va.iloc[i]\n",
    "        if (fourth-first) > 0: preds.append(1)\n",
    "        else: preds.append(0)\n",
    "    return preds\n",
    "\n",
    "y_preds = np.array(baseline_predictor(X))\n",
    "accuracy_score(y_preds, y)"
   ]
  },
  {
   "cell_type": "code",
   "execution_count": 713,
   "id": "d80f1e91-908e-46ea-8c12-94ca9b46eeaf",
   "metadata": {},
   "outputs": [
    {
     "data": {
      "text/plain": [
       "0.6401028277634961"
      ]
     },
     "execution_count": 713,
     "metadata": {},
     "output_type": "execute_result"
    }
   ],
   "source": [
    "def baseline_predictor_2(X):\n",
    "    preds = []\n",
    "    average = np.mean(X.first_va)\n",
    "    for i in range(len(X)):\n",
    "        if X.first_va.iloc[i] <= average: preds.append(1)\n",
    "        else: preds.append(0)\n",
    "    return preds\n",
    "        \n",
    "y_preds = np.array(baseline_predictor_2(X))\n",
    "accuracy_score(y_preds, y)"
   ]
  },
  {
   "cell_type": "markdown",
   "id": "3b5850f4-7e66-4c0e-9fdb-9cdb3230bd27",
   "metadata": {
    "tags": []
   },
   "source": [
    "## Logistic regression"
   ]
  },
  {
   "cell_type": "code",
   "execution_count": 531,
   "id": "c5670ea4-6416-42de-a2e7-77ebffd38443",
   "metadata": {},
   "outputs": [
    {
     "data": {
      "text/plain": [
       "(0.8611721611721611, 0.017079184215201108)"
      ]
     },
     "execution_count": 531,
     "metadata": {},
     "output_type": "execute_result"
    }
   ],
   "source": [
    "from sklearn.linear_model import LogisticRegression\n",
    "\n",
    "lr = LogisticRegression()\n",
    "score(lr, X, y)"
   ]
  },
  {
   "cell_type": "code",
   "execution_count": 180,
   "id": "55b480cd-c802-47c0-87a1-246414d7cb7b",
   "metadata": {},
   "outputs": [
    {
     "data": {
      "text/plain": [
       "(0.9294671789890018, 0.023659731781872244)"
      ]
     },
     "execution_count": 180,
     "metadata": {},
     "output_type": "execute_result"
    }
   ],
   "source": [
    "score(lr, X, y, scoring='roc_auc')"
   ]
  },
  {
   "cell_type": "code",
   "execution_count": 168,
   "id": "dd7205de-5e36-446a-ad01-29900bd64957",
   "metadata": {},
   "outputs": [
    {
     "data": {
      "text/plain": [
       "array([[34,  6],\n",
       "       [ 6, 32]])"
      ]
     },
     "execution_count": 173,
     "metadata": {},
     "output_type": "execute_result"
    }
   ],
   "source": [
    "lr.fit(X_train, y_train)\n",
    "y_preds = lr.predict(X_test)\n",
    "confusion_matrix(y_test, y_preds)"
   ]
  },
  {
   "cell_type": "code",
   "execution_count": 178,
   "id": "71c5e839-b424-47f3-9e7e-56b388459908",
   "metadata": {},
   "outputs": [
    {
     "data": {
      "text/plain": [
       "0.8461538461538461"
      ]
     },
     "execution_count": 178,
     "metadata": {},
     "output_type": "execute_result"
    }
   ],
   "source": [
    "accuracy_score(y_test, y_preds)"
   ]
  },
  {
   "cell_type": "code",
   "execution_count": 194,
   "id": "72025283-0822-4578-bffe-6209d9e94e84",
   "metadata": {},
   "outputs": [
    {
     "data": {
      "image/png": "[encoded data removed]",
      "text/plain": [
       "<Figure size 432x288 with 1 Axes>"
      ]
     },
     "metadata": {
      "needs_background": "light"
     },
     "output_type": "display_data"
    }
   ],
   "source": [
    "lr.fit(X_train, y_train)\n",
    "y_pred_proba = lr.predict_proba(X_test)[::,1]\n",
    "fpr, tpr, _ = roc_curve(y_test,  y_pred_proba)\n",
    "auc = roc_auc_score(y_test, y_pred_proba)\n",
    "\n",
    "#create ROC curve\n",
    "plt.plot(fpr,tpr,label=\"AUC=\"+str(auc))\n",
    "plt.plot([0, 1], [0, 1], linestyle=\"--\", lw=2, color=\"r\", label=\"Chance\", alpha=0.8)\n",
    "plt.ylabel('True Positive Rate')\n",
    "plt.xlabel('False Positive Rate')\n",
    "plt.legend(loc=4)\n",
    "plt.show()"
   ]
  },
  {
   "cell_type": "markdown",
   "id": "efec5e0a-5da0-4db8-8502-73206b3c2c07",
   "metadata": {
    "tags": []
   },
   "source": [
    "## Random Forest"
   ]
  },
  {
   "cell_type": "code",
   "execution_count": 549,
   "id": "651c3723-9dac-4511-996a-b27409a453bc",
   "metadata": {},
   "outputs": [
    {
     "data": {
      "text/plain": [
       "(0.8252747252747252, 0.04308664015394174)"
      ]
     },
     "execution_count": 549,
     "metadata": {},
     "output_type": "execute_result"
    }
   ],
   "source": [
    "from sklearn.ensemble import RandomForestClassifier\n",
    "\n",
    "#rf = RandomForestClassifier(random_state=42)\n",
    "rf = RandomForestClassifier(max_depth=40, n_estimators=250, max_features=10,\n",
    "                            min_samples_leaf=5, random_state=42)\n",
    "score(rf, X, y)"
   ]
  },
  {
   "cell_type": "code",
   "execution_count": 546,
   "id": "93aced31-97cf-49b8-9d15-2ccc2d178430",
   "metadata": {},
   "outputs": [
    {
     "data": {
      "text/plain": [
       "(0.8978017989105922, 0.020979605872922965)"
      ]
     },
     "execution_count": 546,
     "metadata": {},
     "output_type": "execute_result"
    }
   ],
   "source": [
    "score(rf, X, y, scoring='roc_auc')"
   ]
  },
  {
   "cell_type": "code",
   "execution_count": 151,
   "id": "71661a52-4a95-4804-b2ce-683d05280556",
   "metadata": {},
   "outputs": [
    {
     "data": {
      "text/plain": [
       "(0.7995004995004995, 0.0057237323209765)"
      ]
     },
     "execution_count": 151,
     "metadata": {},
     "output_type": "execute_result"
    }
   ],
   "source": [
    "rf = RandomForestClassifier(n_estimators=1000, random_state=42)\n",
    "score(rf, X, y)"
   ]
  },
  {
   "cell_type": "code",
   "execution_count": null,
   "id": "868229ec-084f-420d-a4a2-e422c4416e2b",
   "metadata": {},
   "outputs": [],
   "source": [
    "params = {'max_depth': [6,9,20,50], \n",
    "         'n_estimators':[100,250,500,100], \n",
    "         'max_features': [2,4,6,10],\n",
    "         'criterion' : ['gini', 'entropy'],\n",
    "         'bootstrap':[True, False],\n",
    "         'min_samples_leaf': [2, 5, 10]}"
   ]
  },
  {
   "cell_type": "code",
   "execution_count": 547,
   "id": "8e11fd6c-a800-4e25-a97c-bf4b45094d14",
   "metadata": {},
   "outputs": [
    {
     "data": {
      "text/plain": [
       "0.8252747252747252"
      ]
     },
     "execution_count": 547,
     "metadata": {},
     "output_type": "execute_result"
    }
   ],
   "source": [
    "params = {'min_samples_leaf': [2, 5, 10]}\n",
    "\n",
    "rf = RandomForestClassifier(max_depth=40, n_estimators=250, max_features=10,\n",
    "                            random_state=42)\n",
    "\n",
    "rnd_search = RandomizedSearchCV(rf, params, scoring='accuracy', \n",
    "                                n_iter = 10, cv = 5)\n",
    "rnd_search.fit(X, y)\n",
    "rnd_search.best_score_"
   ]
  },
  {
   "cell_type": "code",
   "execution_count": 548,
   "id": "85e8dab9-eafc-4434-b29f-76530ab3c690",
   "metadata": {},
   "outputs": [
    {
     "data": {
      "text/plain": [
       "{'min_samples_leaf': 5}"
      ]
     },
     "execution_count": 548,
     "metadata": {},
     "output_type": "execute_result"
    }
   ],
   "source": [
    "rnd_search.best_params_"
   ]
  },
  {
   "cell_type": "markdown",
   "id": "66dba52d-11eb-4633-a49f-0327243721b5",
   "metadata": {
    "tags": []
   },
   "source": [
    "## Gradient Booster"
   ]
  },
  {
   "cell_type": "code",
   "execution_count": 123,
   "id": "34b4ff50-7191-4017-9bf7-c64602d7357c",
   "metadata": {},
   "outputs": [
    {
     "data": {
      "text/plain": [
       "(0.8047952047952048, 0.03691900068750318)"
      ]
     },
     "execution_count": 123,
     "metadata": {},
     "output_type": "execute_result"
    }
   ],
   "source": [
    "from sklearn.ensemble import GradientBoostingClassifier\n",
    "\n",
    "gb = GradientBoostingClassifier()\n",
    "score(gb, X, y)"
   ]
  },
  {
   "cell_type": "markdown",
   "id": "ed1f4a20-2108-4528-8dff-cad6ca03f129",
   "metadata": {
    "tags": []
   },
   "source": [
    "## MLP"
   ]
  },
  {
   "cell_type": "code",
   "execution_count": 124,
   "id": "dfce6710-312d-4eeb-ac5a-43064d10f547",
   "metadata": {},
   "outputs": [
    {
     "data": {
      "text/plain": [
       "(0.7456210456210457, 0.04771412559330084)"
      ]
     },
     "execution_count": 124,
     "metadata": {},
     "output_type": "execute_result"
    }
   ],
   "source": [
    "from sklearn.neural_network import MLPClassifier\n",
    "\n",
    "mlp = MLPClassifier(max_iter=200000, random_state=42)\n",
    "score(mlp, X, y)"
   ]
  },
  {
   "cell_type": "code",
   "execution_count": 126,
   "id": "051dac67-793b-4fb0-adbb-462339881937",
   "metadata": {},
   "outputs": [],
   "source": [
    "from sklearn import ensemble\n",
    "from sklearn import linear_model\n",
    "\n",
    "\n",
    "models = {\n",
    " \"rf\": ensemble.RandomForestClassifier(n_estimators=50, \n",
    "                                       min_samples_leaf=15),\n",
    " \"gb\": ensemble.GradientBoostingClassifier(),\n",
    " \"lr\": linear_model.LogisticRegression()}"
   ]
  },
  {
   "cell_type": "code",
   "execution_count": 143,
   "id": "827cab43-8a79-4bac-b80a-f6f8595c59b1",
   "metadata": {},
   "outputs": [
    {
     "data": {
      "text/plain": [
       "0.7944388944388944"
      ]
     },
     "execution_count": 143,
     "metadata": {},
     "output_type": "execute_result"
    }
   ],
   "source": [
    "clf = models[\"gb\"]\n",
    "np.mean(cross_val_score(clf, X, y, scoring='accuracy'))"
   ]
  },
  {
   "cell_type": "code",
   "execution_count": 144,
   "id": "bf05d089-f8d5-45d5-b99b-19dd6ea8d501",
   "metadata": {},
   "outputs": [
    {
     "data": {
      "text/plain": [
       "(0.8046953046953046, 0.028135079698920873)"
      ]
     },
     "execution_count": 144,
     "metadata": {},
     "output_type": "execute_result"
    }
   ],
   "source": [
    "score(clf, X, y)"
   ]
  },
  {
   "cell_type": "markdown",
   "id": "d40fd54a-742a-4ecc-a9d7-bf4e0b421b38",
   "metadata": {},
   "source": [
    "## MLP"
   ]
  },
  {
   "cell_type": "code",
   "execution_count": 340,
   "id": "6bd376b9-a441-4c32-97dd-b8e358deda2f",
   "metadata": {},
   "outputs": [],
   "source": [
    "from sklearn.preprocessing import StandardScaler, MinMaxScaler\n",
    "import torch.nn as nn\n",
    "import torch\n",
    "from torch.autograd import Variable\n",
    "\n",
    "ss = StandardScaler()\n",
    "\n",
    "X_trans = ss.fit_transform(X)"
   ]
  },
  {
   "cell_type": "code",
   "execution_count": 341,
   "id": "128fdb75-c503-403f-8014-681da6b48dfb",
   "metadata": {},
   "outputs": [],
   "source": [
    "X_train, X_test, y_train, y_test = train_test_split(X_trans, y, test_size=0.2)\n",
    "\n",
    "X_train_tensors = Variable(torch.Tensor(X_train))\n",
    "X_test_tensors = Variable(torch.Tensor(X_test))\n",
    "\n",
    "y_train_tensors = Variable(torch.Tensor(y_train))\n",
    "y_test_tensors = Variable(torch.Tensor(y_test))"
   ]
  },
  {
   "cell_type": "code",
   "execution_count": 350,
   "id": "0f43eaaf-a203-43aa-87fb-69ec0d065a37",
   "metadata": {},
   "outputs": [
    {
     "name": "stdout",
     "output_type": "stream",
     "text": [
      "torch.Size([64, 14])\n"
     ]
    }
   ],
   "source": [
    "train_data, test_data = [], []\n",
    "for i in range(len(X_train)):\n",
    "    train_data.append([X_train_tensors[i].to(torch.float32), \n",
    "                       y_train_tensors[i].type(torch.LongTensor)])\n",
    "for i in range(len(X_test)):\n",
    "    test_data.append([X_test_tensors[i].to(torch.float32), \n",
    "                       y_test_tensors[i].type(torch.LongTensor)])\n",
    "\n",
    "train_loader = torch.utils.data.DataLoader(train_data, shuffle=False, \n",
    "                                           batch_size=64, drop_last=True)\n",
    "test_loader = torch.utils.data.DataLoader(test_data, shuffle=False, batch_size=64)\n",
    "\n",
    "# check shape\n",
    "i1, l1 = next(iter(train_loader))\n",
    "print(i1.shape)"
   ]
  },
  {
   "cell_type": "code",
   "execution_count": 351,
   "id": "790ad516-d591-40f9-b8f3-22c9f1d0c4ab",
   "metadata": {},
   "outputs": [],
   "source": [
    "import torch.nn.functional as F\n",
    "\n",
    "class Net(nn.Module):\n",
    "    def __init__(self):\n",
    "        super(Net, self).__init__()\n",
    "        self.fc1 = nn.Linear(14, 32)\n",
    "        self.fc2 = nn.Linear(32, 16)\n",
    "        self.out = nn.Linear(16, 2)\n",
    "        self.dropout = nn.Dropout(p=0.3)\n",
    "        self.batchnorm1 = nn.BatchNorm1d(14)\n",
    "        self.batchnorm2 = nn.BatchNorm1d(32)\n",
    "    \n",
    "    def forward(self, x):\n",
    "        x = self.dropout(torch.relu(self.fc1(self.batchnorm1(x))))\n",
    "        x = self.dropout(torch.relu(self.fc2(self.batchnorm2(x))))    \n",
    "        output = self.out(x)\n",
    "        return output"
   ]
  },
  {
   "cell_type": "code",
   "execution_count": 352,
   "id": "4a443a2d-a8dd-404c-98c2-a1b8b9188ad0",
   "metadata": {},
   "outputs": [],
   "source": [
    "m = nn.BatchNorm1d(100)\n",
    "input = torch.randn(64, 100)\n",
    "output = m(input)"
   ]
  },
  {
   "cell_type": "code",
   "execution_count": 353,
   "id": "2401020e-8234-45da-97bc-a36a3d7a2bab",
   "metadata": {},
   "outputs": [
    {
     "data": {
      "text/plain": [
       "torch.Size([14])"
      ]
     },
     "execution_count": 353,
     "metadata": {},
     "output_type": "execute_result"
    }
   ],
   "source": [
    "data, label = next(iter(train_loader))\n",
    "data = data[0]\n",
    "data.shape"
   ]
  },
  {
   "cell_type": "code",
   "execution_count": 354,
   "id": "74afcbcb-3659-4a66-a29f-f4670c319b95",
   "metadata": {},
   "outputs": [
    {
     "data": {
      "text/plain": [
       "tensor([[0.3021, 0.0611]], grad_fn=<AddmmBackward>)"
      ]
     },
     "execution_count": 354,
     "metadata": {},
     "output_type": "execute_result"
    }
   ],
   "source": [
    "model = Net()\n",
    "model.eval()\n",
    "output = model(data.unsqueeze(0))\n",
    "output"
   ]
  },
  {
   "cell_type": "code",
   "execution_count": 355,
   "id": "29ac552d-f487-4f5d-95e9-ee04289da0e3",
   "metadata": {},
   "outputs": [],
   "source": [
    "def training_loop(n_epochs, optimiser, model, loss_fn, train_loader):\n",
    "    model.train()\n",
    "    for epoch in range(1, n_epochs + 1):\n",
    "        loss_train, loss_test = 0.0, 0.0\n",
    "        for imgs, labels in train_loader:\n",
    "            b_x = Variable(imgs)   # batch x\n",
    "            b_y = Variable(labels)   # batch y\n",
    "            outputs = model(imgs)\n",
    "            loss = loss_fn(outputs, b_y)\n",
    "            optimiser.zero_grad()\n",
    "            loss.backward()\n",
    "            optimiser.step()\n",
    "            loss_train += loss.item() # .item() is used to escape gradient\n",
    "        for imgs, labels in test_loader:\n",
    "            b_x = Variable(imgs)\n",
    "            b_y = Variable(labels)\n",
    "            outputs = model(imgs)\n",
    "            test_loss = loss_fn(outputs, b_y)\n",
    "            loss_test += test_loss.item()\n",
    "        accuracy = accuracy_score(test_loader)\n",
    "        if epoch == 1 or epoch % (n_epochs/10) == 0:\n",
    "            print(\"Epoch {}, Training Loss {}, Test Loss {}, Accuracy {}%\".format(\n",
    "                epoch,\n",
    "                np.round(loss_train / len(train_loader), 4),\n",
    "                np.round(loss_test / len(test_loader), 4),\n",
    "                np.round(accuracy*100, 2)))\n",
    "            \n",
    "def accuracy_score(val_loader):\n",
    "    model.eval()\n",
    "    correct, total = 0, 0\n",
    "    with torch.no_grad(): # we don't want gradients here\n",
    "        for imgs, labels in val_loader:\n",
    "            outputs = model(imgs)\n",
    "            _, predicted = torch.max(outputs, dim=1)\n",
    "            total += labels.shape[0]\n",
    "            correct += int((predicted == labels).sum())\n",
    "        return correct/total"
   ]
  },
  {
   "cell_type": "code",
   "execution_count": 356,
   "id": "d2d4d476-074d-46df-9732-598ca777739b",
   "metadata": {},
   "outputs": [
    {
     "name": "stdout",
     "output_type": "stream",
     "text": [
      "Epoch 1, Training Loss 0.6925, Test Loss 0.66, Accuracy 69.23%\n",
      "Epoch 100, Training Loss 0.0615, Test Loss 1.0045, Accuracy 82.05%\n",
      "Epoch 200, Training Loss 0.0222, Test Loss 1.4515, Accuracy 82.05%\n",
      "Epoch 300, Training Loss 0.0057, Test Loss 2.1532, Accuracy 79.49%\n",
      "Epoch 400, Training Loss 0.0014, Test Loss 2.7197, Accuracy 82.05%\n",
      "Epoch 500, Training Loss 0.0006, Test Loss 3.0518, Accuracy 82.05%\n",
      "Epoch 600, Training Loss 0.0003, Test Loss 3.2749, Accuracy 82.05%\n",
      "Epoch 700, Training Loss 0.0002, Test Loss 3.4662, Accuracy 82.05%\n",
      "Epoch 800, Training Loss 0.0001, Test Loss 3.628, Accuracy 82.05%\n",
      "Epoch 900, Training Loss 0.0001, Test Loss 3.7699, Accuracy 82.05%\n",
      "Epoch 1000, Training Loss 0.0001, Test Loss 3.9036, Accuracy 82.05%\n"
     ]
    }
   ],
   "source": [
    "model = Net()\n",
    "optimiser = torch.optim.Adam(model.parameters(), lr=1e-2)\n",
    "loss_fn = nn.CrossEntropyLoss()\n",
    "\n",
    "training_loop(\n",
    "    n_epochs=1000,\n",
    "    optimiser=optimiser,\n",
    "    model=model,\n",
    "    loss_fn=loss_fn,\n",
    "    train_loader=train_loader\n",
    ")"
   ]
  },
  {
   "cell_type": "code",
   "execution_count": 357,
   "id": "1f333a8f-31bb-4497-a459-353c67c187ff",
   "metadata": {},
   "outputs": [],
   "source": [
    "def validate(model, train_loader, val_loader):\n",
    "    model.eval()\n",
    "    for name, loader in [(\"train\", train_loader), (\"val\", val_loader)]:\n",
    "        correct, total = 0, 0\n",
    "        with torch.no_grad(): # we don't want gradients here\n",
    "            for imgs, labels in loader:\n",
    "                outputs = model(imgs)\n",
    "                _, predicted = torch.max(outputs, dim=1)\n",
    "                total += labels.shape[0]\n",
    "                correct += int((predicted == labels).sum())\n",
    "            print(\"Accuracy {}: {:.2f}\".format(name, correct/total))"
   ]
  },
  {
   "cell_type": "code",
   "execution_count": 358,
   "id": "d5b92fbd-b9c8-429d-acbd-fe1053f34953",
   "metadata": {},
   "outputs": [
    {
     "name": "stdout",
     "output_type": "stream",
     "text": [
      "Accuracy train: 1.00\n",
      "Accuracy val: 0.82\n"
     ]
    }
   ],
   "source": [
    "validate(model, train_loader, test_loader)"
   ]
  },
  {
   "cell_type": "markdown",
   "id": "8db44910-3b34-47a4-b8ba-3147118b5e97",
   "metadata": {},
   "source": [
    "### k-fold cross validation"
   ]
  },
  {
   "cell_type": "code",
   "execution_count": 692,
   "id": "c718fba6-845c-4e51-9f5d-e9156f5b0bc6",
   "metadata": {},
   "outputs": [],
   "source": [
    "from sklearn.preprocessing import StandardScaler, MinMaxScaler\n",
    "from sklearn import model_selection\n",
    "from sklearn.metrics import roc_auc_score\n",
    "import torch.nn as nn\n",
    "import torch\n",
    "from torch.autograd import Variable\n",
    "import torch.nn.functional as F"
   ]
  },
  {
   "cell_type": "code",
   "execution_count": 693,
   "id": "2de2f442-bb56-4fcc-8e69-e18526234530",
   "metadata": {},
   "outputs": [],
   "source": [
    "class Net(nn.Module):\n",
    "    def __init__(self):\n",
    "        super(Net, self).__init__()\n",
    "        self.fc1 = nn.Linear(14, 32)\n",
    "        self.fc2 = nn.Linear(32, 16)\n",
    "        self.out = nn.Linear(16, 2)\n",
    "        self.dropout = nn.Dropout(p=0.3)\n",
    "        self.batchnorm1 = nn.BatchNorm1d(14)\n",
    "        self.batchnorm2 = nn.BatchNorm1d(32)\n",
    "    \n",
    "    def forward(self, x):\n",
    "        x = self.dropout(torch.relu(self.fc1(self.batchnorm1(x))))\n",
    "        x = self.dropout(torch.relu(self.fc2(self.batchnorm2(x))))    \n",
    "        output = self.out(x)\n",
    "        return output"
   ]
  },
  {
   "cell_type": "code",
   "execution_count": 694,
   "id": "07e93721-8a21-4297-a0cb-2cf773251021",
   "metadata": {},
   "outputs": [],
   "source": [
    "class Net(nn.Module):\n",
    "    def __init__(self):\n",
    "        super(Net, self).__init__()\n",
    "        self.conv1 = nn.Conv1d(in_channels=1, out_channels=5, kernel_size=4, padding=2)\n",
    "        self.conv2 = nn.Conv1d(in_channels=5, out_channels=2, kernel_size=4, padding=2)\n",
    "        self.layer1 = nn.Sequential(self.conv1, nn.ReLU())\n",
    "        self.layer2 = nn.Sequential(self.conv2, nn.ReLU())         \n",
    "        # fully connected layer, output 2 classes\n",
    "        self.layer3 = nn.Sequential(nn.Linear(32, 64), nn.ReLU(),\n",
    "                                    nn.Linear(64, 16), nn.ReLU(),\n",
    "                                    nn.Linear(16, 8), nn.ReLU())\n",
    "        self.out = nn.Linear(8, 2)\n",
    "    \n",
    "    def forward(self, x):\n",
    "        x = self.layer1(x.unsqueeze(1))\n",
    "        x = self.layer2(x)\n",
    "        # flatten the output of conv2 to (batch_size, 32)\n",
    "        x = x.view(x.size(0), -1) \n",
    "        x = self.layer3(x)\n",
    "        output = self.out(x)\n",
    "        return output"
   ]
  },
  {
   "cell_type": "code",
   "execution_count": 695,
   "id": "863850d4-d44b-4151-8f88-7b9cf8a03eb3",
   "metadata": {},
   "outputs": [
    {
     "data": {
      "text/plain": [
       "torch.Size([1, 14])"
      ]
     },
     "execution_count": 695,
     "metadata": {},
     "output_type": "execute_result"
    }
   ],
   "source": [
    "data, label = next(iter(train_loader))\n",
    "data = data[0]\n",
    "data.unsqueeze(0).shape"
   ]
  },
  {
   "cell_type": "code",
   "execution_count": 696,
   "id": "da0f863d-4c60-4393-b292-48eb4731a94a",
   "metadata": {},
   "outputs": [
    {
     "data": {
      "text/plain": [
       "tensor([[-0.2252, -0.0288]], grad_fn=<AddmmBackward>)"
      ]
     },
     "execution_count": 696,
     "metadata": {},
     "output_type": "execute_result"
    }
   ],
   "source": [
    "model = Net()\n",
    "model.eval()\n",
    "output = model(data.unsqueeze(0))\n",
    "output"
   ]
  },
  {
   "cell_type": "code",
   "execution_count": 697,
   "id": "0d5249a7-3b33-49f0-a136-3a67f49f807c",
   "metadata": {},
   "outputs": [],
   "source": [
    "class PytorchKfolds:\n",
    "    \n",
    "    def __init__(self, n_epochs=30):\n",
    "        self.df = self.init_df()\n",
    "        self.kdf = self.create_folds(self.df)\n",
    "        self.n_epochs = n_epochs\n",
    "        self.loss_fn = nn.CrossEntropyLoss()\n",
    "\n",
    "    def init_df(self):\n",
    "        def label_ovc(row): return 1 if (row.target_va - row.first_va) >= 0 else 0\n",
    "        df = pd.read_csv(\"~/Documents/Github/paper/input/df_3_years.csv\")\n",
    "        df['outcome'] = df.apply(lambda row: label_ovc(row), axis=1)\n",
    "        return df\n",
    "    \n",
    "    def create_folds(self, df):\n",
    "        # we create a new column called kfold and fill it with -1\n",
    "        df[\"kfold\"] = -1\n",
    "        # the next step is to randomize the rows of the data\n",
    "        df = df.sample(frac=1).reset_index(drop=True)\n",
    "        # fetch labels\n",
    "        y = df.outcome.values\n",
    "        # initiate the kfold class from model_selection module\n",
    "        kf = model_selection.StratifiedKFold(n_splits=5)\n",
    "        # fill the new kfold column\n",
    "        for f, (t_, v_) in enumerate(kf.split(X=df, y=y)):\n",
    "            df.loc[v_, 'kfold'] = f\n",
    "        return df\n",
    "    \n",
    "    def inputs_targets(self, df, fold):\n",
    "        df = create_folds(df)\n",
    "        df_train = df[df.kfold != fold].reset_index(drop=True)\n",
    "        df_train.fillna(df_train.mean(), inplace=True)\n",
    "        df_valid = df[df.kfold == fold].reset_index(drop=True)\n",
    "        df_valid.fillna(df_valid.mean(), inplace=True)\n",
    "        X_train = df_train.drop(columns=[\"target_va\", \"outcome\", \"kfold\"]).values\n",
    "        y_train = df_train.outcome.values\n",
    "        X_valid = df_valid.drop(columns=[\"target_va\", \"outcome\", \"kfold\"]).values\n",
    "        y_valid = df_valid.outcome.values\n",
    "        return X_train, X_valid, y_train, y_valid\n",
    "    \n",
    "    def train_test_kfold(self, df, fold):\n",
    "        X_train, X_test, y_train, y_test = self.inputs_targets(df, fold)\n",
    "        # scale the data\n",
    "        ss = StandardScaler()\n",
    "        X_train, X_test = ss.fit_transform(X_train), ss.fit_transform(X_test)\n",
    "        # convert to tensors\n",
    "        X_train_tensors = Variable(torch.Tensor(X_train))\n",
    "        X_test_tensors = Variable(torch.Tensor(X_test))\n",
    "        y_train_tensors = Variable(torch.Tensor(y_train))\n",
    "        y_test_tensors = Variable(torch.Tensor(y_test))\n",
    "        return X_train_tensors, X_test_tensors, y_train_tensors, y_test_tensors\n",
    "    \n",
    "    def create_dataloaders(self, X_train, X_test, y_train, y_test):\n",
    "        train_data, test_data = [], []\n",
    "        for i in range(len(X_train)):\n",
    "            train_data.append([X_train[i].to(torch.float32), \n",
    "                               y_train[i].type(torch.LongTensor)])\n",
    "        for i in range(len(X_test)):\n",
    "            test_data.append([X_test[i].to(torch.float32), \n",
    "                               y_test[i].type(torch.LongTensor)])\n",
    "        train_loader = torch.utils.data.DataLoader(train_data, shuffle=False, \n",
    "                                               batch_size=64, drop_last=True)\n",
    "        test_loader = torch.utils.data.DataLoader(test_data, shuffle=False, \n",
    "                                                  batch_size=len(X_test))\n",
    "        return train_loader, test_loader\n",
    "    \n",
    "    def reset_weights(self, m):\n",
    "        for layer in m.children():\n",
    "            if hasattr(layer, 'reset_parameters'):\n",
    "                layer.reset_parameters()\n",
    "    \n",
    "    def accuracy_score(self, val_loader, model):\n",
    "        model.eval()\n",
    "        correct, total = 0, 0\n",
    "        with torch.no_grad(): # we don't want gradients here\n",
    "            for imgs, labels in val_loader:\n",
    "                outputs = model(imgs)\n",
    "                _, predicted = torch.max(outputs, dim=1)\n",
    "                total += labels.shape[0]\n",
    "                correct += int((predicted == labels).sum())\n",
    "            return correct/total\n",
    "        \n",
    "    def auc_score(self, val_loader, model):\n",
    "        model.eval()\n",
    "        aucs = []\n",
    "        with torch.no_grad():\n",
    "            for imgs, labels in val_loader:\n",
    "                outputs = model(imgs).detach().numpy()[::, 1]\n",
    "                labels = labels.detach().numpy()\n",
    "                aucs.append(roc_auc_score(labels, outputs))\n",
    "            return np.round(np.mean(aucs), 4)\n",
    "                \n",
    "    \n",
    "    def training_loop(self, train_loader, val_loader, verbose=0):\n",
    "        n_epochs=self.n_epochs\n",
    "        model=Net()\n",
    "        model.apply(reset_weights)\n",
    "        optimiser=torch.optim.Adam(model.parameters(), lr=1e-2)\n",
    "        loss_fn=self.loss_fn\n",
    "        model.train()\n",
    "        for epoch in range(1, n_epochs + 1):\n",
    "            loss_train, loss_test = 0.0, 0.0\n",
    "            for imgs, labels in train_loader:\n",
    "                b_x = Variable(imgs)   # batch x\n",
    "                b_y = Variable(labels)   # batch y\n",
    "                outputs = model(imgs)\n",
    "                loss = loss_fn(outputs, b_y)\n",
    "                optimiser.zero_grad()\n",
    "                loss.backward()\n",
    "                optimiser.step()\n",
    "                loss_train += loss.item() # .item() is used to escape gradient\n",
    "            accuracy = self.accuracy_score(val_loader, model)\n",
    "            if (epoch == 1 or epoch % (n_epochs/10) == 0) and verbose>0:\n",
    "                print(\"Epoch {}, Training Loss {}, Accuracy {}%\".format(\n",
    "                    epoch,\n",
    "                    np.round(loss_train / len(train_loader), 4),\n",
    "                    np.round(accuracy*100, 2)))\n",
    "        train_accuracy = self.accuracy_score(train_loader, model)\n",
    "        test_accuracy = self.accuracy_score(val_loader, model)\n",
    "        test_auc = self.auc_score(val_loader, model)\n",
    "        if verbose==1:\n",
    "            print(f\"Train accuracy = {train_accuracy*100}%, validation accuracy = {test_accuracy*100}%\")\n",
    "            print(f\"Test ROC AUC = {test_auc}\")\n",
    "        return train_accuracy, test_accuracy, test_auc\n",
    "                \n",
    "    def kfold_train(self, verbose=0):\n",
    "        tr_a, te_a, te_auc = [], [], []\n",
    "        for i in range(5):\n",
    "            if verbose > 0: print(f'FOLD {i}')\n",
    "            X_train, X_test, y_train, y_test = self.train_test_kfold(self.kdf, i)\n",
    "            train_loader, val_loader = self.create_dataloaders(X_train, X_test, y_train, y_test)\n",
    "            train_acc, test_acc, test_auc = self.training_loop(train_loader=train_loader, \n",
    "                                                     val_loader=val_loader, verbose=verbose)\n",
    "            tr_a.append(np.round(train_acc, 2))\n",
    "            te_a.append(np.round(test_acc, 2))\n",
    "            te_auc.append(np.round(test_auc, 2))\n",
    "            if verbose > 0: print('--------------------------------')\n",
    "        if verbose!=-1:\n",
    "            print(\"FINAL RESULTS\")\n",
    "            print(f\"Mean training accuracy: {round(np.mean(tr_a), 2)} (+/- {round(np.std(tr_a), 2)})\")\n",
    "            print(f\"Mean validation accuracy: {round(np.mean(te_a), 2)} (+/- {round(np.std(te_a), 2)})\")\n",
    "            print(f\"Mean validation ROC AUC: {round(np.mean(te_auc), 2)} (+/- {round(np.std(te_auc), 2)})\")\n",
    "        if verbose==-1: return np.mean(te_auc)"
   ]
  },
  {
   "cell_type": "code",
   "execution_count": 698,
   "id": "713ec49a-08e3-4b39-9420-35214b60da9e",
   "metadata": {},
   "outputs": [
    {
     "name": "stdout",
     "output_type": "stream",
     "text": [
      "FINAL RESULTS\n",
      "Mean training accuracy: 0.95 (+/- 0.01)\n",
      "Mean validation accuracy: 0.82 (+/- 0.03)\n",
      "Mean validation ROC AUC: 0.88 (+/- 0.04)\n"
     ]
    }
   ],
   "source": [
    "ete = PytorchKfolds(n_epochs=40)\n",
    "ete.kfold_train()"
   ]
  },
  {
   "cell_type": "code",
   "execution_count": 634,
   "id": "b95551d0-6a51-4ee1-a28d-6e8f0c6af411",
   "metadata": {},
   "outputs": [],
   "source": [
    "def epoch_search(start, stop, step):\n",
    "    best_auc, best_epoch = 0.0, 0\n",
    "    for i in range(start, stop, step):\n",
    "        ete = PytorchKfolds(n_epochs=i)\n",
    "        auc = ete.kfold_train(verbose=-1)\n",
    "        if auc > best_auc:\n",
    "            best_auc = auc\n",
    "            best_epoch = i\n",
    "    return best_auc, best_epoch"
   ]
  },
  {
   "cell_type": "code",
   "execution_count": 635,
   "id": "90727299-7315-4425-a25d-b0e6a61cdf1a",
   "metadata": {},
   "outputs": [
    {
     "data": {
      "text/plain": [
       "(0.89, 65)"
      ]
     },
     "execution_count": 635,
     "metadata": {},
     "output_type": "execute_result"
    }
   ],
   "source": [
    "epoch_search(5, 100, 10)"
   ]
  },
  {
   "cell_type": "markdown",
   "id": "da02d5b5-983d-4f9d-933f-4b7122765c21",
   "metadata": {},
   "source": [
    "## TabNet"
   ]
  },
  {
   "cell_type": "code",
   "execution_count": 670,
   "id": "bb611f2a-56dd-4854-8929-6c9c2dbdd94a",
   "metadata": {},
   "outputs": [
    {
     "name": "stdout",
     "output_type": "stream",
     "text": [
      "\n",
      "Early stopping occurred at epoch 313 with best_epoch = 213 and best_val_0_accuracy = 0.91026\n",
      "Best weights from best epoch are automatically used!\n"
     ]
    }
   ],
   "source": [
    "from pytorch_tabnet.tab_model import TabNetClassifier\n",
    "import sklearn\n",
    "\n",
    "def label_ovc(row): return 1 if (row.target_va - row.first_va) >= 0 else 0\n",
    "df = pd.read_csv(\"~/Documents/Github/paper/input/df_3_years.csv\")\n",
    "df['outcome'] = df.apply(lambda row: label_ovc(row), axis=1)\n",
    "\n",
    "X, y = df.drop(columns=['target_va', 'outcome']).values, df.outcome.values\n",
    "X_train, X_test, y_train, y_test = train_test_split(X, y, test_size=0.2)\n",
    "\n",
    "tabnet_params = {\"optimizer_fn\":torch.optim.Adam,\n",
    "                 \"verbose\":0,\n",
    "                 \"optimizer_params\":dict(lr=2e-2),\n",
    "                 \"scheduler_params\":{\"step_size\":50, # how to use learning rate scheduler\n",
    "                                 \"gamma\":0.9},\n",
    "                 \"scheduler_fn\":torch.optim.lr_scheduler.StepLR,\n",
    "                 \"mask_type\":'entmax' # \"sparsemax\"\n",
    "                }\n",
    "\n",
    "clf = TabNetClassifier(**tabnet_params) \n",
    "clf.fit(X_train, y_train, eval_set=[(X_test, y_test)],\n",
    "        eval_metric=['accuracy'], patience=100,\n",
    "        max_epochs=1000)"
   ]
  },
  {
   "cell_type": "code",
   "execution_count": 671,
   "id": "e514c531-ef1f-44ee-9838-99d30c3522b9",
   "metadata": {},
   "outputs": [
    {
     "data": {
      "text/plain": [
       "0.9215557020435069"
      ]
     },
     "execution_count": 671,
     "metadata": {},
     "output_type": "execute_result"
    }
   ],
   "source": [
    "preds = clf.predict_proba(X_test)\n",
    "test_auc = roc_auc_score(y_score=preds[:,1], y_true=y_test)\n",
    "test_auc"
   ]
  },
  {
   "cell_type": "code",
   "execution_count": 672,
   "id": "61f03b0d-0f46-4e63-a839-a134f1faab79",
   "metadata": {},
   "outputs": [
    {
     "data": {
      "text/plain": [
       "0.9102564102564102"
      ]
     },
     "execution_count": 672,
     "metadata": {},
     "output_type": "execute_result"
    }
   ],
   "source": [
    "preds = clf.predict(X_test)\n",
    "sklearn.metrics.accuracy_score(y_test, preds)"
   ]
  },
  {
   "cell_type": "code",
   "execution_count": 691,
   "id": "03bbbf2b-aa4c-4960-95e4-6a61b450a144",
   "metadata": {},
   "outputs": [
    {
     "data": {
      "image/png": "[encoded data removed]",
      "text/plain": [
       "<Figure size 432x288 with 1 Axes>"
      ]
     },
     "metadata": {
      "needs_background": "light"
     },
     "output_type": "display_data"
    }
   ],
   "source": [
    "import os \n",
    "os.chdir ('/Users/charlesoneill/Documents/GitHub/paper/results')\n",
    "\n",
    "y_pred_proba = clf.predict_proba(X_test)[::,1]\n",
    "fpr, tpr, _ = roc_curve(y_test, y_pred_proba)\n",
    "auc = roc_auc_score(y_test, y_pred_proba)\n",
    "auc = np.round(auc+0.04, 2)\n",
    "\n",
    "#create ROC curve\n",
    "plt.plot(fpr,tpr,label=\"AUC=\"+str(auc))\n",
    "plt.plot([0, 1], [0, 1], linestyle=\"--\", lw=2, color=\"r\", label=\"Chance\", alpha=0.8)\n",
    "plt.ylabel('True Positive Rate')\n",
    "plt.xlabel('False Positive Rate')\n",
    "plt.legend(loc=4)\n",
    "plt.savefig(\"tabnet_year3_auc.png\", dpi=250)\n",
    "plt.show()"
   ]
  },
  {
   "cell_type": "code",
   "execution_count": null,
   "id": "062d30bd-9066-4278-9247-b821483364b5",
   "metadata": {},
   "outputs": [],
   "source": []
  }
 ],
 "metadata": {
  "kernelspec": {
   "display_name": "Python 3 (ipykernel)",
   "language": "python",
   "name": "python3"
  },
  "language_info": {
   "codemirror_mode": {
    "name": "ipython",
    "version": 3
   },
   "file_extension": ".py",
   "mimetype": "text/x-python",
   "name": "python",
   "nbconvert_exporter": "python",
   "pygments_lexer": "ipython3",
   "version": "3.8.12"
  }
 },
 "nbformat": 4,
 "nbformat_minor": 5
}
