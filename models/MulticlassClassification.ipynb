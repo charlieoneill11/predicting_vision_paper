{
 "cells": [
  {
   "cell_type": "markdown",
   "id": "07fcc71c-893b-453c-870c-9e63bff34981",
   "metadata": {},
   "source": [
    "# Multiclass Classification"
   ]
  },
  {
   "cell_type": "code",
   "execution_count": 57,
   "id": "5250be27-5cd9-4974-aa1f-718dd6ecc33c",
   "metadata": {},
   "outputs": [],
   "source": [
    "from sklearn.model_selection import cross_val_score\n",
    "from sklearn.model_selection import RandomizedSearchCV\n",
    "from sklearn.model_selection import train_test_split\n",
    "from sklearn import metrics\n",
    "from sklearn.metrics import roc_curve\n",
    "from sklearn.metrics import roc_auc_score\n",
    "from sklearn.metrics import confusion_matrix\n",
    "from sklearn.metrics import accuracy_score\n",
    "import warnings\n",
    "warnings.filterwarnings('ignore')\n",
    "import pandas as pd\n",
    "import numpy as np\n",
    "\n",
    "def label_bcva(row): \n",
    "    final_bcva = row.target_va\n",
    "    toRtn = 0\n",
    "    if final_bcva < 60: \n",
    "        if final_bcva < 40: toRtn = 0\n",
    "        else: toRtn = 1\n",
    "    else:\n",
    "        if final_bcva < 80: toRtn = 2\n",
    "        else: toRtn = 3\n",
    "    return toRtn\n",
    "\n",
    "df = pd.read_csv(\"~/Documents/Github/paper/input/df_3_years.csv\")\n",
    "df['outcome'] = df.apply(lambda row: label_bcva(row), axis=1)\n",
    "\n",
    "X, y = df.drop(columns=['target_va', 'outcome']), df.outcome.values\n",
    "X_train, X_valid, y_train, y_valid = train_test_split(X, y, test_size=0.2, random_state=4)\n",
    "\n",
    "def score(model, X, y, cv=5, scoring='accuracy'):\n",
    "    scores = cross_val_score(model, X, y, cv=cv, scoring=scoring)\n",
    "    return np.mean(scores), np.std(scores)"
   ]
  },
  {
   "cell_type": "code",
   "execution_count": 2,
   "id": "b40d8b71-d338-401e-8925-879b78400c3c",
   "metadata": {},
   "outputs": [
    {
     "data": {
      "text/plain": [
       "0.583547557840617"
      ]
     },
     "execution_count": 2,
     "metadata": {},
     "output_type": "execute_result"
    }
   ],
   "source": [
    "# baseline\n",
    "def label_bcva(row): \n",
    "    final_bcva = row.va_4\n",
    "    toRtn = 0\n",
    "    if final_bcva < 60: \n",
    "        if final_bcva < 40: toRtn = 0\n",
    "        else: toRtn = 1\n",
    "    else:\n",
    "        if final_bcva < 80: toRtn = 2\n",
    "        else: toRtn = 3\n",
    "    return toRtn\n",
    "\n",
    "preds = X.apply(lambda row: label_bcva(row), axis=1).values\n",
    "accuracy_score(preds, y)"
   ]
  },
  {
   "cell_type": "markdown",
   "id": "6a85ca84-4834-4ad6-9386-4c1adbd17af9",
   "metadata": {},
   "source": [
    "## Logistic regression"
   ]
  },
  {
   "cell_type": "code",
   "execution_count": 3,
   "id": "fd9f34a0-0fb3-4be1-9a50-8e327940bdc4",
   "metadata": {
    "tags": []
   },
   "outputs": [
    {
     "data": {
      "text/plain": [
       "(0.4652347652347652, 0.02068288631751248)"
      ]
     },
     "execution_count": 3,
     "metadata": {},
     "output_type": "execute_result"
    }
   ],
   "source": [
    "from sklearn.linear_model import LogisticRegression\n",
    "\n",
    "lr = LogisticRegression()\n",
    "score(lr, X, y)"
   ]
  },
  {
   "cell_type": "code",
   "execution_count": 4,
   "id": "ed6f1b8c-52c4-4885-ac15-1b5b7a67f5cd",
   "metadata": {},
   "outputs": [
    {
     "data": {
      "text/plain": [
       "0.47435897435897434"
      ]
     },
     "execution_count": 4,
     "metadata": {},
     "output_type": "execute_result"
    }
   ],
   "source": [
    "lr.fit(X_train, y_train)\n",
    "preds = lr.predict(X_valid)\n",
    "accuracy_score(y_valid, preds)"
   ]
  },
  {
   "cell_type": "code",
   "execution_count": 5,
   "id": "ac678e78-23b8-4daa-9ebd-b2dee50c0b85",
   "metadata": {
    "tags": []
   },
   "outputs": [
    {
     "data": {
      "text/plain": [
       "0.7148094062799946"
      ]
     },
     "execution_count": 5,
     "metadata": {},
     "output_type": "execute_result"
    }
   ],
   "source": [
    "lr.fit(X_train, y_train)\n",
    "preds = lr.predict_proba(X_valid)\n",
    "roc_auc_score(y_valid, preds, average=\"weighted\", multi_class=\"ovr\")"
   ]
  },
  {
   "cell_type": "markdown",
   "id": "c6a7f5fa-479b-4f0a-8b2e-97c7bba3e63b",
   "metadata": {},
   "source": [
    "## Random forest"
   ]
  },
  {
   "cell_type": "code",
   "execution_count": 14,
   "id": "636a2caa-8e03-4fb3-82ff-7581cd809fed",
   "metadata": {},
   "outputs": [
    {
     "data": {
      "text/plain": [
       "(0.5886113886113886, 0.05731277234757068)"
      ]
     },
     "execution_count": 14,
     "metadata": {},
     "output_type": "execute_result"
    }
   ],
   "source": [
    "from sklearn.ensemble import RandomForestClassifier\n",
    "\n",
    "rf = RandomForestClassifier()\n",
    "score(rf, X, y)"
   ]
  },
  {
   "cell_type": "code",
   "execution_count": 15,
   "id": "e244e152-e21e-40db-ba11-7ef048ee10b3",
   "metadata": {},
   "outputs": [
    {
     "data": {
      "text/plain": [
       "0.5641025641025641"
      ]
     },
     "execution_count": 15,
     "metadata": {},
     "output_type": "execute_result"
    }
   ],
   "source": [
    "rf.fit(X_train, y_train)\n",
    "preds = rf.predict(X_valid)\n",
    "accuracy_score(y_valid, preds)"
   ]
  },
  {
   "cell_type": "code",
   "execution_count": 16,
   "id": "2d8d0622-f7dc-41c8-8bdc-9e7d1bbdd2f2",
   "metadata": {},
   "outputs": [
    {
     "data": {
      "text/plain": [
       "0.7987591983180218"
      ]
     },
     "execution_count": 16,
     "metadata": {},
     "output_type": "execute_result"
    }
   ],
   "source": [
    "rf.fit(X_train, y_train)\n",
    "preds = rf.predict_proba(X_valid)\n",
    "roc_auc_score(y_valid, preds, average=\"weighted\", multi_class=\"ovr\")"
   ]
  },
  {
   "cell_type": "code",
   "execution_count": 17,
   "id": "e5e602fa-a197-4958-a838-b771865cdb0d",
   "metadata": {},
   "outputs": [
    {
     "data": {
      "text/html": [
       "<div>\n",
       "<style scoped>\n",
       "    .dataframe tbody tr th:only-of-type {\n",
       "        vertical-align: middle;\n",
       "    }\n",
       "\n",
       "    .dataframe tbody tr th {\n",
       "        vertical-align: top;\n",
       "    }\n",
       "\n",
       "    .dataframe thead th {\n",
       "        text-align: right;\n",
       "    }\n",
       "</style>\n",
       "<table border=\"1\" class=\"dataframe\">\n",
       "  <thead>\n",
       "    <tr style=\"text-align: right;\">\n",
       "      <th></th>\n",
       "      <th>cols</th>\n",
       "      <th>imp</th>\n",
       "    </tr>\n",
       "  </thead>\n",
       "  <tbody>\n",
       "    <tr>\n",
       "      <th>0</th>\n",
       "      <td>va_1</td>\n",
       "      <td>0.055546</td>\n",
       "    </tr>\n",
       "    <tr>\n",
       "      <th>1</th>\n",
       "      <td>irf_1</td>\n",
       "      <td>0.019667</td>\n",
       "    </tr>\n",
       "    <tr>\n",
       "      <th>2</th>\n",
       "      <td>srf_1</td>\n",
       "      <td>0.033656</td>\n",
       "    </tr>\n",
       "    <tr>\n",
       "      <th>3</th>\n",
       "      <td>va_2</td>\n",
       "      <td>0.065551</td>\n",
       "    </tr>\n",
       "    <tr>\n",
       "      <th>4</th>\n",
       "      <td>irf_2</td>\n",
       "      <td>0.022166</td>\n",
       "    </tr>\n",
       "    <tr>\n",
       "      <th>5</th>\n",
       "      <td>srf_2</td>\n",
       "      <td>0.036677</td>\n",
       "    </tr>\n",
       "    <tr>\n",
       "      <th>6</th>\n",
       "      <td>int_2</td>\n",
       "      <td>0.065153</td>\n",
       "    </tr>\n",
       "    <tr>\n",
       "      <th>7</th>\n",
       "      <td>va_3</td>\n",
       "      <td>0.077042</td>\n",
       "    </tr>\n",
       "    <tr>\n",
       "      <th>8</th>\n",
       "      <td>irf_3</td>\n",
       "      <td>0.021772</td>\n",
       "    </tr>\n",
       "    <tr>\n",
       "      <th>9</th>\n",
       "      <td>srf_3</td>\n",
       "      <td>0.032622</td>\n",
       "    </tr>\n",
       "    <tr>\n",
       "      <th>10</th>\n",
       "      <td>int_3</td>\n",
       "      <td>0.059436</td>\n",
       "    </tr>\n",
       "    <tr>\n",
       "      <th>11</th>\n",
       "      <td>va_4</td>\n",
       "      <td>0.098276</td>\n",
       "    </tr>\n",
       "    <tr>\n",
       "      <th>12</th>\n",
       "      <td>irf_4</td>\n",
       "      <td>0.018616</td>\n",
       "    </tr>\n",
       "    <tr>\n",
       "      <th>13</th>\n",
       "      <td>srf_4</td>\n",
       "      <td>0.033445</td>\n",
       "    </tr>\n",
       "    <tr>\n",
       "      <th>14</th>\n",
       "      <td>int_4</td>\n",
       "      <td>0.061256</td>\n",
       "    </tr>\n",
       "    <tr>\n",
       "      <th>15</th>\n",
       "      <td>mean_vision</td>\n",
       "      <td>0.106223</td>\n",
       "    </tr>\n",
       "    <tr>\n",
       "      <th>16</th>\n",
       "      <td>std_vision</td>\n",
       "      <td>0.192896</td>\n",
       "    </tr>\n",
       "  </tbody>\n",
       "</table>\n",
       "</div>"
      ],
      "text/plain": [
       "           cols       imp\n",
       "0          va_1  0.055546\n",
       "1         irf_1  0.019667\n",
       "2         srf_1  0.033656\n",
       "3          va_2  0.065551\n",
       "4         irf_2  0.022166\n",
       "5         srf_2  0.036677\n",
       "6         int_2  0.065153\n",
       "7          va_3  0.077042\n",
       "8         irf_3  0.021772\n",
       "9         srf_3  0.032622\n",
       "10        int_3  0.059436\n",
       "11         va_4  0.098276\n",
       "12        irf_4  0.018616\n",
       "13        srf_4  0.033445\n",
       "14        int_4  0.061256\n",
       "15  mean_vision  0.106223\n",
       "16   std_vision  0.192896"
      ]
     },
     "execution_count": 17,
     "metadata": {},
     "output_type": "execute_result"
    }
   ],
   "source": [
    "def rf_feat_importance(m, df):\n",
    "    return pd.DataFrame({'cols':df.columns, 'imp':m.feature_importances_}\n",
    "                       )\n",
    "rf.fit(X, y)\n",
    "fi = rf_feat_importance(rf, X)\n",
    "fi"
   ]
  },
  {
   "cell_type": "code",
   "execution_count": 20,
   "id": "6a6c03c7",
   "metadata": {},
   "outputs": [
    {
     "ename": "ValueError",
     "evalue": "target must be specified for multi-class",
     "output_type": "error",
     "traceback": [
      "\u001b[0;31m---------------------------------------------------------------------------\u001b[0m",
      "\u001b[0;31mValueError\u001b[0m                                Traceback (most recent call last)",
      "\u001b[0;32m/var/folders/k4/z1fdqs457dx3kgvlgz2mxrz80000gn/T/ipykernel_90392/3610158611.py\u001b[0m in \u001b[0;36m<module>\u001b[0;34m\u001b[0m\n\u001b[1;32m      3\u001b[0m \u001b[0;34m\u001b[0m\u001b[0m\n\u001b[1;32m      4\u001b[0m \u001b[0mfeatures\u001b[0m \u001b[0;34m=\u001b[0m \u001b[0;34m[\u001b[0m\u001b[0;34m'first_va'\u001b[0m\u001b[0;34m,\u001b[0m \u001b[0;34m'mean_vision'\u001b[0m\u001b[0;34m,\u001b[0m \u001b[0;34m'std_vision'\u001b[0m\u001b[0;34m]\u001b[0m\u001b[0;34m\u001b[0m\u001b[0;34m\u001b[0m\u001b[0m\n\u001b[0;32m----> 5\u001b[0;31m \u001b[0mPartialDependenceDisplay\u001b[0m\u001b[0;34m.\u001b[0m\u001b[0mfrom_estimator\u001b[0m\u001b[0;34m(\u001b[0m\u001b[0mrf\u001b[0m\u001b[0;34m,\u001b[0m \u001b[0mX\u001b[0m\u001b[0;34m,\u001b[0m \u001b[0mfeatures\u001b[0m\u001b[0;34m,\u001b[0m \u001b[0mkind\u001b[0m\u001b[0;34m=\u001b[0m\u001b[0;34m'individual'\u001b[0m\u001b[0;34m)\u001b[0m\u001b[0;34m\u001b[0m\u001b[0;34m\u001b[0m\u001b[0m\n\u001b[0m\u001b[1;32m      6\u001b[0m \u001b[0;34m\u001b[0m\u001b[0m\n\u001b[1;32m      7\u001b[0m display = PartialDependenceDisplay.from_estimator(\n",
      "\u001b[0;32m~/opt/anaconda3/lib/python3.9/site-packages/sklearn/inspection/_plot/partial_dependence.py\u001b[0m in \u001b[0;36mfrom_estimator\u001b[0;34m(cls, estimator, X, features, feature_names, target, response_method, n_cols, grid_resolution, percentiles, method, n_jobs, verbose, line_kw, ice_lines_kw, pd_line_kw, contour_kw, ax, kind, subsample, random_state)\u001b[0m\n\u001b[1;32m    911\u001b[0m         \"\"\"\n\u001b[1;32m    912\u001b[0m         \u001b[0mcheck_matplotlib_support\u001b[0m\u001b[0;34m(\u001b[0m\u001b[0;34mf\"{cls.__name__}.from_estimator\"\u001b[0m\u001b[0;34m)\u001b[0m  \u001b[0;31m# noqa\u001b[0m\u001b[0;34m\u001b[0m\u001b[0;34m\u001b[0m\u001b[0m\n\u001b[0;32m--> 913\u001b[0;31m         return _plot_partial_dependence(\n\u001b[0m\u001b[1;32m    914\u001b[0m             \u001b[0mestimator\u001b[0m\u001b[0;34m,\u001b[0m\u001b[0;34m\u001b[0m\u001b[0;34m\u001b[0m\u001b[0m\n\u001b[1;32m    915\u001b[0m             \u001b[0mX\u001b[0m\u001b[0;34m,\u001b[0m\u001b[0;34m\u001b[0m\u001b[0;34m\u001b[0m\u001b[0m\n",
      "\u001b[0;32m~/opt/anaconda3/lib/python3.9/site-packages/sklearn/inspection/_plot/partial_dependence.py\u001b[0m in \u001b[0;36m_plot_partial_dependence\u001b[0;34m(estimator, X, features, feature_names, target, response_method, n_cols, grid_resolution, percentiles, method, n_jobs, verbose, line_kw, ice_lines_kw, pd_line_kw, contour_kw, ax, kind, subsample, random_state)\u001b[0m\n\u001b[1;32m    341\u001b[0m     \u001b[0;32mif\u001b[0m \u001b[0mhasattr\u001b[0m\u001b[0;34m(\u001b[0m\u001b[0mestimator\u001b[0m\u001b[0;34m,\u001b[0m \u001b[0;34m\"classes_\"\u001b[0m\u001b[0;34m)\u001b[0m \u001b[0;32mand\u001b[0m \u001b[0mnp\u001b[0m\u001b[0;34m.\u001b[0m\u001b[0msize\u001b[0m\u001b[0;34m(\u001b[0m\u001b[0mestimator\u001b[0m\u001b[0;34m.\u001b[0m\u001b[0mclasses_\u001b[0m\u001b[0;34m)\u001b[0m \u001b[0;34m>\u001b[0m \u001b[0;36m2\u001b[0m\u001b[0;34m:\u001b[0m\u001b[0;34m\u001b[0m\u001b[0;34m\u001b[0m\u001b[0m\n\u001b[1;32m    342\u001b[0m         \u001b[0;32mif\u001b[0m \u001b[0mtarget\u001b[0m \u001b[0;32mis\u001b[0m \u001b[0;32mNone\u001b[0m\u001b[0;34m:\u001b[0m\u001b[0;34m\u001b[0m\u001b[0;34m\u001b[0m\u001b[0m\n\u001b[0;32m--> 343\u001b[0;31m             \u001b[0;32mraise\u001b[0m \u001b[0mValueError\u001b[0m\u001b[0;34m(\u001b[0m\u001b[0;34m\"target must be specified for multi-class\"\u001b[0m\u001b[0;34m)\u001b[0m\u001b[0;34m\u001b[0m\u001b[0;34m\u001b[0m\u001b[0m\n\u001b[0m\u001b[1;32m    344\u001b[0m         \u001b[0mtarget_idx\u001b[0m \u001b[0;34m=\u001b[0m \u001b[0mnp\u001b[0m\u001b[0;34m.\u001b[0m\u001b[0msearchsorted\u001b[0m\u001b[0;34m(\u001b[0m\u001b[0mestimator\u001b[0m\u001b[0;34m.\u001b[0m\u001b[0mclasses_\u001b[0m\u001b[0;34m,\u001b[0m \u001b[0mtarget\u001b[0m\u001b[0;34m)\u001b[0m\u001b[0;34m\u001b[0m\u001b[0;34m\u001b[0m\u001b[0m\n\u001b[1;32m    345\u001b[0m         if (\n",
      "\u001b[0;31mValueError\u001b[0m: target must be specified for multi-class"
     ]
    }
   ],
   "source": [
    "from sklearn.inspection import plot_partial_dependence\n",
    "from sklearn.inspection import PartialDependenceDisplay\n",
    "\n",
    "features = ['first_va', 'mean_vision', 'std_vision']\n",
    "PartialDependenceDisplay.from_estimator(rf, X, features, kind='individual')\n",
    "\n",
    "display = PartialDependenceDisplay.from_estimator(\n",
    "    rf,\n",
    "    X,\n",
    "    features,\n",
    "    kind=\"both\",\n",
    "    grid_resolution=20,\n",
    "    random_state=0,\n",
    "    ice_lines_kw={\"color\": \"tab:blue\", \"alpha\": 0.2, \"linewidth\": 0.5},\n",
    "    pd_line_kw={\"color\": \"tab:orange\", \"linestyle\": \"--\"},\n",
    ")\n",
    "display.figure_.suptitle(\n",
    "    \"Partial dependence of target VA\", size=20\n",
    ")\n",
    "display.figure_.subplots_adjust(hspace=0.3)\n",
    "display.figure_.savefig(\"partial_dependence.png\", dpi=250)"
   ]
  },
  {
   "cell_type": "markdown",
   "id": "196d2055-32f1-4122-a80b-723cc7c1ea19",
   "metadata": {},
   "source": [
    "## Gradient boosted classifier"
   ]
  },
  {
   "cell_type": "code",
   "execution_count": 11,
   "id": "a083af74-ca36-434d-a0b3-9255ef50a235",
   "metadata": {},
   "outputs": [
    {
     "data": {
      "text/plain": [
       "(0.7250749250749251, 0.04025564984934498)"
      ]
     },
     "execution_count": 11,
     "metadata": {},
     "output_type": "execute_result"
    }
   ],
   "source": [
    "from sklearn.ensemble import GradientBoostingClassifier\n",
    "\n",
    "gb = GradientBoostingClassifier()\n",
    "score(gb, X, y)"
   ]
  },
  {
   "cell_type": "code",
   "execution_count": 21,
   "id": "15be99f2-5e1d-45ff-85a5-be5ff3d398c4",
   "metadata": {},
   "outputs": [
    {
     "data": {
      "text/plain": [
       "0.7692307692307693"
      ]
     },
     "execution_count": 21,
     "metadata": {},
     "output_type": "execute_result"
    }
   ],
   "source": [
    "gb.fit(X_train, y_train)\n",
    "preds = gb.predict(X_valid)\n",
    "accuracy_score(y_valid, preds)"
   ]
  },
  {
   "cell_type": "code",
   "execution_count": 22,
   "id": "f4e27c0e-921f-473d-9eb6-5d8f52d6ca3b",
   "metadata": {},
   "outputs": [
    {
     "data": {
      "text/plain": [
       "0.9369237625119978"
      ]
     },
     "execution_count": 22,
     "metadata": {},
     "output_type": "execute_result"
    }
   ],
   "source": [
    "gb.fit(X_train, y_train)\n",
    "preds = gb.predict_proba(X_test)\n",
    "roc_auc_score(y_test, preds, average=\"weighted\", multi_class=\"ovr\")"
   ]
  },
  {
   "cell_type": "markdown",
   "id": "e5de5e3e-08a4-4aa9-b9be-9bd181005953",
   "metadata": {},
   "source": [
    "## TabNet"
   ]
  },
  {
   "cell_type": "code",
   "execution_count": 6,
   "id": "7f1f89b5-5f0a-4de9-a6e5-5bb1cfdfb52e",
   "metadata": {},
   "outputs": [],
   "source": [
    "from pytorch_tabnet.tab_model import TabNetClassifier\n",
    "\n",
    "import torch\n",
    "from sklearn.preprocessing import LabelEncoder\n",
    "from sklearn.metrics import accuracy_score\n",
    "from sklearn.model_selection import train_test_split\n",
    "import pandas as pd\n",
    "import numpy as np\n",
    "np.random.seed(0)\n",
    "\n",
    "from matplotlib import pyplot as plt\n",
    "%matplotlib inline\n",
    "\n",
    "X, y = df.drop(columns=['target_va', 'outcome']).values, df.outcome.values\n",
    "X_train, X_valid, y_train, y_valid = train_test_split(X, y, test_size=0.2, random_state=4)"
   ]
  },
  {
   "cell_type": "code",
   "execution_count": 7,
   "id": "1d155dde-aaf7-4cf3-93d9-7f11642edc59",
   "metadata": {},
   "outputs": [],
   "source": [
    "clf = TabNetClassifier(\n",
    "    n_d=64, n_a=64, n_steps=5,\n",
    "    gamma=1.5, n_independent=2, n_shared=2,\n",
    "    lambda_sparse=1e-4, momentum=0.3, clip_value=2.,\n",
    "    optimizer_fn=torch.optim.Adam,\n",
    "    optimizer_params=dict(lr=2e-2),\n",
    "    scheduler_params = {\"gamma\": 0.95,\n",
    "                     \"step_size\": 20},\n",
    "    scheduler_fn=torch.optim.lr_scheduler.StepLR, epsilon=1e-15,\n",
    "    verbose=0\n",
    ")"
   ]
  },
  {
   "cell_type": "code",
   "execution_count": 8,
   "id": "1ee4294c-00aa-47b2-a9c4-0190844f4442",
   "metadata": {},
   "outputs": [
    {
     "name": "stdout",
     "output_type": "stream",
     "text": [
      "\n",
      "Early stopping occurred at epoch 189 with best_epoch = 89 and best_valid_accuracy = 0.65385\n",
      "Best weights from best epoch are automatically used!\n"
     ]
    }
   ],
   "source": [
    "clf.fit(\n",
    "    X_train=X_train, y_train=y_train,\n",
    "    eval_set=[(X_train, y_train), (X_valid, y_valid)],\n",
    "    eval_name=['train', 'valid'],\n",
    "    max_epochs=1000, patience=100,\n",
    "    batch_size=64\n",
    ") "
   ]
  },
  {
   "cell_type": "code",
   "execution_count": 9,
   "id": "b49004b7-c737-4417-aac0-8704984307ee",
   "metadata": {},
   "outputs": [
    {
     "data": {
      "text/plain": [
       "0.821765620000914"
      ]
     },
     "execution_count": 9,
     "metadata": {},
     "output_type": "execute_result"
    }
   ],
   "source": [
    "preds = clf.predict_proba(X_valid)\n",
    "valid_auc = roc_auc_score(y_score=preds, y_true=y_valid,\n",
    "                          average=\"weighted\", multi_class=\"ovr\")\n",
    "valid_auc"
   ]
  },
  {
   "cell_type": "code",
   "execution_count": 10,
   "id": "8b0ca0da-a602-491f-9d30-926d3365a1c0",
   "metadata": {},
   "outputs": [
    {
     "data": {
      "text/plain": [
       "0.6538461538461539"
      ]
     },
     "execution_count": 10,
     "metadata": {},
     "output_type": "execute_result"
    }
   ],
   "source": [
    "preds = clf.predict(X_valid)\n",
    "accuracy_score(y_valid, preds)"
   ]
  },
  {
   "cell_type": "code",
   "execution_count": 11,
   "id": "314b68ef-72ef-4303-814d-6c01a3addb5c",
   "metadata": {},
   "outputs": [
    {
     "data": {
      "text/plain": [
       "array([3.37762714e-02, 0.00000000e+00, 9.46332769e-05, 2.28187263e-01,\n",
       "       6.35487301e-02, 4.30121391e-02, 9.66689465e-04, 8.47606095e-02,\n",
       "       4.51645572e-02, 0.00000000e+00, 0.00000000e+00, 1.43125310e-01,\n",
       "       5.38099565e-02, 4.55494864e-03, 2.79484067e-03, 1.45773819e-02,\n",
       "       2.81626669e-01])"
      ]
     },
     "execution_count": 11,
     "metadata": {},
     "output_type": "execute_result"
    }
   ],
   "source": [
    "clf.feature_importances_"
   ]
  },
  {
   "cell_type": "code",
   "execution_count": 12,
   "id": "c15bd825-ea97-4629-b662-d677163d62e2",
   "metadata": {},
   "outputs": [
    {
     "data": {
      "text/plain": [
       "Index(['va_1', 'irf_1', 'srf_1', 'va_2', 'irf_2', 'srf_2', 'int_2', 'va_3',\n",
       "       'irf_3', 'srf_3', 'int_3', 'va_4', 'irf_4', 'srf_4', 'int_4',\n",
       "       'mean_vision', 'std_vision'],\n",
       "      dtype='object')"
      ]
     },
     "execution_count": 12,
     "metadata": {},
     "output_type": "execute_result"
    }
   ],
   "source": [
    "X = df.drop(columns=['target_va', 'outcome'])\n",
    "cols = X.columns\n",
    "cols"
   ]
  },
  {
   "cell_type": "code",
   "execution_count": 13,
   "id": "bdca385e-1cb8-42c8-8ed3-bf208caf5d20",
   "metadata": {},
   "outputs": [
    {
     "data": {
      "image/png": "[encoded data removed]",
      "text/plain": [
       "<Figure size 432x288 with 1 Axes>"
      ]
     },
     "metadata": {
      "needs_background": "light"
     },
     "output_type": "display_data"
    }
   ],
   "source": [
    "plt.barh(cols, clf.feature_importances_);"
   ]
  },
  {
   "cell_type": "code",
   "execution_count": null,
   "id": "3e4793e3",
   "metadata": {},
   "outputs": [],
   "source": []
  },
  {
   "cell_type": "markdown",
   "id": "d7f34274-2d62-4cc0-b64c-9e34a0969196",
   "metadata": {
    "tags": []
   },
   "source": [
    "# Probability distributions"
   ]
  },
  {
   "cell_type": "markdown",
   "id": "fa5b672f-d69f-4c67-ae79-ae1306082e24",
   "metadata": {},
   "source": [
    "## Single-year BCVA distribution"
   ]
  },
  {
   "cell_type": "code",
   "execution_count": 21,
   "id": "57ea7897-556e-4509-a1af-c35c1e8aa9ba",
   "metadata": {},
   "outputs": [],
   "source": [
    "import os \n",
    "os.chdir('/Users/charlesoneill/Documents/GitHub/paper/results')"
   ]
  },
  {
   "cell_type": "code",
   "execution_count": 55,
   "id": "7c69c59a-99c1-46b3-a77a-013e1906d420",
   "metadata": {},
   "outputs": [],
   "source": [
    "def return_tabnet():\n",
    "    return TabNetClassifier(\n",
    "    n_d=64, n_a=64, n_steps=5,\n",
    "    gamma=1.5, n_independent=2, n_shared=2,\n",
    "    lambda_sparse=1e-4, momentum=0.3, clip_value=2.,\n",
    "    optimizer_fn=torch.optim.Adam,\n",
    "    optimizer_params=dict(lr=2e-2),\n",
    "    scheduler_params = {\"gamma\": 0.95,\n",
    "                     \"step_size\": 20},\n",
    "    scheduler_fn=torch.optim.lr_scheduler.StepLR, epsilon=1e-15,\n",
    "    verbose=0)"
   ]
  },
  {
   "cell_type": "code",
   "execution_count": 64,
   "id": "34a6ea47-6997-44db-b162-af28d49ee1f9",
   "metadata": {},
   "outputs": [],
   "source": [
    "def train_tabnet(year):\n",
    "    df = pd.read_csv(f\"~/Documents/Github/paper/input/df_{year}_years.csv\")\n",
    "    df['outcome'] = df.apply(lambda row: label_bcva(row), axis=1)\n",
    "    X, y = df.drop(columns=['target_va', 'outcome']).values, df.outcome.values\n",
    "    X_train, X_valid, y_train, y_valid = train_test_split(X, y, test_size=0.2, random_state=4)\n",
    "    clf = return_tabnet()\n",
    "    clf.fit(X_train=X_train, y_train=y_train, \n",
    "            eval_set=[(X_train, y_train), (X_valid, y_valid)],\n",
    "            eval_name=['train', 'valid'], max_epochs=1000, patience=100,\n",
    "            batch_size=64)\n",
    "    return clf"
   ]
  },
  {
   "cell_type": "code",
   "execution_count": 65,
   "id": "f8c62d7d-f103-4a7a-9a9b-ad65a0b490b6",
   "metadata": {},
   "outputs": [
    {
     "name": "stdout",
     "output_type": "stream",
     "text": [
      "\n",
      "Early stopping occurred at epoch 182 with best_epoch = 82 and best_valid_accuracy = 0.72\n",
      "Best weights from best epoch are automatically used!\n",
      "\n",
      "Early stopping occurred at epoch 202 with best_epoch = 102 and best_valid_accuracy = 0.68085\n",
      "Best weights from best epoch are automatically used!\n",
      "\n",
      "Early stopping occurred at epoch 189 with best_epoch = 89 and best_valid_accuracy = 0.65385\n",
      "Best weights from best epoch are automatically used!\n"
     ]
    }
   ],
   "source": [
    "clf_1 = train_tabnet(1)\n",
    "clf_2 = train_tabnet(2)\n",
    "clf_3 = train_tabnet(3)\n",
    "model_lst = [clf_1, clf_2, clf_3]"
   ]
  },
  {
   "cell_type": "code",
   "execution_count": 68,
   "id": "7bea89c9-fde4-4f4b-9ff0-d5d80a475c5c",
   "metadata": {},
   "outputs": [],
   "source": [
    "def bcva_prob_dist(model, sample, year, ground_truth):\n",
    "    t = [0, 30, 50, 70, 90, 100]\n",
    "    preds_proba = model.predict_proba(sample).tolist()[0]\n",
    "    preds_proba.insert(0, 0.0)\n",
    "    preds_proba.append(0)\n",
    "    plt.plot(t, preds_proba, color=\"orange\")\n",
    "    plt.fill_between(t, preds_proba, color=\"navy\")\n",
    "    plt.axvline(x=ground_truth, color='r', linestyle='-', label=\"True vision\")\n",
    "    plt.ylabel(\"Probability of BCVA\")\n",
    "    plt.xlabel(f\"Vision at end of Year {year} (logMAR letters)\")\n",
    "    plt.legend()\n",
    "    plt.savefig(f\"year{year}_patient_distribution.png\", dpi=300)\n",
    "    plt.show()"
   ]
  },
  {
   "cell_type": "code",
   "execution_count": 70,
   "id": "2033678e-abaa-449d-a3bb-9e9a75be8b4f",
   "metadata": {},
   "outputs": [
    {
     "ename": "KeyError",
     "evalue": "0",
     "output_type": "error",
     "traceback": [
      "\u001b[0;31m---------------------------------------------------------------------------\u001b[0m",
      "\u001b[0;31mKeyError\u001b[0m                                  Traceback (most recent call last)",
      "\u001b[0;32m~/opt/anaconda3/lib/python3.9/site-packages/pandas/core/indexes/base.py\u001b[0m in \u001b[0;36mget_loc\u001b[0;34m(self, key, method, tolerance)\u001b[0m\n\u001b[1;32m   3360\u001b[0m             \u001b[0;32mtry\u001b[0m\u001b[0;34m:\u001b[0m\u001b[0;34m\u001b[0m\u001b[0;34m\u001b[0m\u001b[0m\n\u001b[0;32m-> 3361\u001b[0;31m                 \u001b[0;32mreturn\u001b[0m \u001b[0mself\u001b[0m\u001b[0;34m.\u001b[0m\u001b[0m_engine\u001b[0m\u001b[0;34m.\u001b[0m\u001b[0mget_loc\u001b[0m\u001b[0;34m(\u001b[0m\u001b[0mcasted_key\u001b[0m\u001b[0;34m)\u001b[0m\u001b[0;34m\u001b[0m\u001b[0;34m\u001b[0m\u001b[0m\n\u001b[0m\u001b[1;32m   3362\u001b[0m             \u001b[0;32mexcept\u001b[0m \u001b[0mKeyError\u001b[0m \u001b[0;32mas\u001b[0m \u001b[0merr\u001b[0m\u001b[0;34m:\u001b[0m\u001b[0;34m\u001b[0m\u001b[0;34m\u001b[0m\u001b[0m\n",
      "\u001b[0;32m~/opt/anaconda3/lib/python3.9/site-packages/pandas/_libs/index.pyx\u001b[0m in \u001b[0;36mpandas._libs.index.IndexEngine.get_loc\u001b[0;34m()\u001b[0m\n",
      "\u001b[0;32m~/opt/anaconda3/lib/python3.9/site-packages/pandas/_libs/index.pyx\u001b[0m in \u001b[0;36mpandas._libs.index.IndexEngine.get_loc\u001b[0;34m()\u001b[0m\n",
      "\u001b[0;32mpandas/_libs/hashtable_class_helper.pxi\u001b[0m in \u001b[0;36mpandas._libs.hashtable.PyObjectHashTable.get_item\u001b[0;34m()\u001b[0m\n",
      "\u001b[0;32mpandas/_libs/hashtable_class_helper.pxi\u001b[0m in \u001b[0;36mpandas._libs.hashtable.PyObjectHashTable.get_item\u001b[0;34m()\u001b[0m\n",
      "\u001b[0;31mKeyError\u001b[0m: 0",
      "\nThe above exception was the direct cause of the following exception:\n",
      "\u001b[0;31mKeyError\u001b[0m                                  Traceback (most recent call last)",
      "\u001b[0;32m/var/folders/k4/z1fdqs457dx3kgvlgz2mxrz80000gn/T/ipykernel_90392/812397438.py\u001b[0m in \u001b[0;36m<module>\u001b[0;34m\u001b[0m\n\u001b[1;32m      1\u001b[0m \u001b[0msample\u001b[0m \u001b[0;34m=\u001b[0m \u001b[0mX_valid\u001b[0m\u001b[0;34m[\u001b[0m\u001b[0;36m1\u001b[0m\u001b[0;34m:\u001b[0m\u001b[0;36m2\u001b[0m\u001b[0;34m]\u001b[0m\u001b[0;34m\u001b[0m\u001b[0;34m\u001b[0m\u001b[0m\n\u001b[0;32m----> 2\u001b[0;31m \u001b[0mbcva_prob_dist\u001b[0m\u001b[0;34m(\u001b[0m\u001b[0mclf_1\u001b[0m\u001b[0;34m,\u001b[0m \u001b[0msample\u001b[0m\u001b[0;34m,\u001b[0m \u001b[0;36m3\u001b[0m\u001b[0;34m,\u001b[0m \u001b[0;36m40\u001b[0m\u001b[0;34m)\u001b[0m\u001b[0;34m\u001b[0m\u001b[0;34m\u001b[0m\u001b[0m\n\u001b[0m",
      "\u001b[0;32m/var/folders/k4/z1fdqs457dx3kgvlgz2mxrz80000gn/T/ipykernel_90392/4161511924.py\u001b[0m in \u001b[0;36mbcva_prob_dist\u001b[0;34m(model, sample, year, ground_truth)\u001b[0m\n\u001b[1;32m      1\u001b[0m \u001b[0;32mdef\u001b[0m \u001b[0mbcva_prob_dist\u001b[0m\u001b[0;34m(\u001b[0m\u001b[0mmodel\u001b[0m\u001b[0;34m,\u001b[0m \u001b[0msample\u001b[0m\u001b[0;34m,\u001b[0m \u001b[0myear\u001b[0m\u001b[0;34m,\u001b[0m \u001b[0mground_truth\u001b[0m\u001b[0;34m)\u001b[0m\u001b[0;34m:\u001b[0m\u001b[0;34m\u001b[0m\u001b[0;34m\u001b[0m\u001b[0m\n\u001b[1;32m      2\u001b[0m     \u001b[0mt\u001b[0m \u001b[0;34m=\u001b[0m \u001b[0;34m[\u001b[0m\u001b[0;36m0\u001b[0m\u001b[0;34m,\u001b[0m \u001b[0;36m30\u001b[0m\u001b[0;34m,\u001b[0m \u001b[0;36m50\u001b[0m\u001b[0;34m,\u001b[0m \u001b[0;36m70\u001b[0m\u001b[0;34m,\u001b[0m \u001b[0;36m90\u001b[0m\u001b[0;34m,\u001b[0m \u001b[0;36m100\u001b[0m\u001b[0;34m]\u001b[0m\u001b[0;34m\u001b[0m\u001b[0;34m\u001b[0m\u001b[0m\n\u001b[0;32m----> 3\u001b[0;31m     \u001b[0mpreds_proba\u001b[0m \u001b[0;34m=\u001b[0m \u001b[0mmodel\u001b[0m\u001b[0;34m.\u001b[0m\u001b[0mpredict_proba\u001b[0m\u001b[0;34m(\u001b[0m\u001b[0msample\u001b[0m\u001b[0;34m)\u001b[0m\u001b[0;34m.\u001b[0m\u001b[0mtolist\u001b[0m\u001b[0;34m(\u001b[0m\u001b[0;34m)\u001b[0m\u001b[0;34m[\u001b[0m\u001b[0;36m0\u001b[0m\u001b[0;34m]\u001b[0m\u001b[0;34m\u001b[0m\u001b[0;34m\u001b[0m\u001b[0m\n\u001b[0m\u001b[1;32m      4\u001b[0m     \u001b[0mpreds_proba\u001b[0m\u001b[0;34m.\u001b[0m\u001b[0minsert\u001b[0m\u001b[0;34m(\u001b[0m\u001b[0;36m0\u001b[0m\u001b[0;34m,\u001b[0m \u001b[0;36m0.0\u001b[0m\u001b[0;34m)\u001b[0m\u001b[0;34m\u001b[0m\u001b[0;34m\u001b[0m\u001b[0m\n\u001b[1;32m      5\u001b[0m     \u001b[0mpreds_proba\u001b[0m\u001b[0;34m.\u001b[0m\u001b[0mappend\u001b[0m\u001b[0;34m(\u001b[0m\u001b[0;36m0\u001b[0m\u001b[0;34m)\u001b[0m\u001b[0;34m\u001b[0m\u001b[0;34m\u001b[0m\u001b[0m\n",
      "\u001b[0;32m~/opt/anaconda3/lib/python3.9/site-packages/pytorch_tabnet/tab_model.py\u001b[0m in \u001b[0;36mpredict_proba\u001b[0;34m(self, X)\u001b[0m\n\u001b[1;32m     97\u001b[0m \u001b[0;34m\u001b[0m\u001b[0m\n\u001b[1;32m     98\u001b[0m         \u001b[0mresults\u001b[0m \u001b[0;34m=\u001b[0m \u001b[0;34m[\u001b[0m\u001b[0;34m]\u001b[0m\u001b[0;34m\u001b[0m\u001b[0;34m\u001b[0m\u001b[0m\n\u001b[0;32m---> 99\u001b[0;31m         \u001b[0;32mfor\u001b[0m \u001b[0mbatch_nb\u001b[0m\u001b[0;34m,\u001b[0m \u001b[0mdata\u001b[0m \u001b[0;32min\u001b[0m \u001b[0menumerate\u001b[0m\u001b[0;34m(\u001b[0m\u001b[0mdataloader\u001b[0m\u001b[0;34m)\u001b[0m\u001b[0;34m:\u001b[0m\u001b[0;34m\u001b[0m\u001b[0;34m\u001b[0m\u001b[0m\n\u001b[0m\u001b[1;32m    100\u001b[0m             \u001b[0mdata\u001b[0m \u001b[0;34m=\u001b[0m \u001b[0mdata\u001b[0m\u001b[0;34m.\u001b[0m\u001b[0mto\u001b[0m\u001b[0;34m(\u001b[0m\u001b[0mself\u001b[0m\u001b[0;34m.\u001b[0m\u001b[0mdevice\u001b[0m\u001b[0;34m)\u001b[0m\u001b[0;34m.\u001b[0m\u001b[0mfloat\u001b[0m\u001b[0;34m(\u001b[0m\u001b[0;34m)\u001b[0m\u001b[0;34m\u001b[0m\u001b[0;34m\u001b[0m\u001b[0m\n\u001b[1;32m    101\u001b[0m \u001b[0;34m\u001b[0m\u001b[0m\n",
      "\u001b[0;32m~/opt/anaconda3/lib/python3.9/site-packages/torch/utils/data/dataloader.py\u001b[0m in \u001b[0;36m__next__\u001b[0;34m(self)\u001b[0m\n\u001b[1;32m    519\u001b[0m             \u001b[0;32mif\u001b[0m \u001b[0mself\u001b[0m\u001b[0;34m.\u001b[0m\u001b[0m_sampler_iter\u001b[0m \u001b[0;32mis\u001b[0m \u001b[0;32mNone\u001b[0m\u001b[0;34m:\u001b[0m\u001b[0;34m\u001b[0m\u001b[0;34m\u001b[0m\u001b[0m\n\u001b[1;32m    520\u001b[0m                 \u001b[0mself\u001b[0m\u001b[0;34m.\u001b[0m\u001b[0m_reset\u001b[0m\u001b[0;34m(\u001b[0m\u001b[0;34m)\u001b[0m\u001b[0;34m\u001b[0m\u001b[0;34m\u001b[0m\u001b[0m\n\u001b[0;32m--> 521\u001b[0;31m             \u001b[0mdata\u001b[0m \u001b[0;34m=\u001b[0m \u001b[0mself\u001b[0m\u001b[0;34m.\u001b[0m\u001b[0m_next_data\u001b[0m\u001b[0;34m(\u001b[0m\u001b[0;34m)\u001b[0m\u001b[0;34m\u001b[0m\u001b[0;34m\u001b[0m\u001b[0m\n\u001b[0m\u001b[1;32m    522\u001b[0m             \u001b[0mself\u001b[0m\u001b[0;34m.\u001b[0m\u001b[0m_num_yielded\u001b[0m \u001b[0;34m+=\u001b[0m \u001b[0;36m1\u001b[0m\u001b[0;34m\u001b[0m\u001b[0;34m\u001b[0m\u001b[0m\n\u001b[1;32m    523\u001b[0m             \u001b[0;32mif\u001b[0m \u001b[0mself\u001b[0m\u001b[0;34m.\u001b[0m\u001b[0m_dataset_kind\u001b[0m \u001b[0;34m==\u001b[0m \u001b[0m_DatasetKind\u001b[0m\u001b[0;34m.\u001b[0m\u001b[0mIterable\u001b[0m \u001b[0;32mand\u001b[0m\u001b[0;31m \u001b[0m\u001b[0;31m\\\u001b[0m\u001b[0;34m\u001b[0m\u001b[0;34m\u001b[0m\u001b[0m\n",
      "\u001b[0;32m~/opt/anaconda3/lib/python3.9/site-packages/torch/utils/data/dataloader.py\u001b[0m in \u001b[0;36m_next_data\u001b[0;34m(self)\u001b[0m\n\u001b[1;32m    559\u001b[0m     \u001b[0;32mdef\u001b[0m \u001b[0m_next_data\u001b[0m\u001b[0;34m(\u001b[0m\u001b[0mself\u001b[0m\u001b[0;34m)\u001b[0m\u001b[0;34m:\u001b[0m\u001b[0;34m\u001b[0m\u001b[0;34m\u001b[0m\u001b[0m\n\u001b[1;32m    560\u001b[0m         \u001b[0mindex\u001b[0m \u001b[0;34m=\u001b[0m \u001b[0mself\u001b[0m\u001b[0;34m.\u001b[0m\u001b[0m_next_index\u001b[0m\u001b[0;34m(\u001b[0m\u001b[0;34m)\u001b[0m  \u001b[0;31m# may raise StopIteration\u001b[0m\u001b[0;34m\u001b[0m\u001b[0;34m\u001b[0m\u001b[0m\n\u001b[0;32m--> 561\u001b[0;31m         \u001b[0mdata\u001b[0m \u001b[0;34m=\u001b[0m \u001b[0mself\u001b[0m\u001b[0;34m.\u001b[0m\u001b[0m_dataset_fetcher\u001b[0m\u001b[0;34m.\u001b[0m\u001b[0mfetch\u001b[0m\u001b[0;34m(\u001b[0m\u001b[0mindex\u001b[0m\u001b[0;34m)\u001b[0m  \u001b[0;31m# may raise StopIteration\u001b[0m\u001b[0;34m\u001b[0m\u001b[0;34m\u001b[0m\u001b[0m\n\u001b[0m\u001b[1;32m    562\u001b[0m         \u001b[0;32mif\u001b[0m \u001b[0mself\u001b[0m\u001b[0;34m.\u001b[0m\u001b[0m_pin_memory\u001b[0m\u001b[0;34m:\u001b[0m\u001b[0;34m\u001b[0m\u001b[0;34m\u001b[0m\u001b[0m\n\u001b[1;32m    563\u001b[0m             \u001b[0mdata\u001b[0m \u001b[0;34m=\u001b[0m \u001b[0m_utils\u001b[0m\u001b[0;34m.\u001b[0m\u001b[0mpin_memory\u001b[0m\u001b[0;34m.\u001b[0m\u001b[0mpin_memory\u001b[0m\u001b[0;34m(\u001b[0m\u001b[0mdata\u001b[0m\u001b[0;34m)\u001b[0m\u001b[0;34m\u001b[0m\u001b[0;34m\u001b[0m\u001b[0m\n",
      "\u001b[0;32m~/opt/anaconda3/lib/python3.9/site-packages/torch/utils/data/_utils/fetch.py\u001b[0m in \u001b[0;36mfetch\u001b[0;34m(self, possibly_batched_index)\u001b[0m\n\u001b[1;32m     47\u001b[0m     \u001b[0;32mdef\u001b[0m \u001b[0mfetch\u001b[0m\u001b[0;34m(\u001b[0m\u001b[0mself\u001b[0m\u001b[0;34m,\u001b[0m \u001b[0mpossibly_batched_index\u001b[0m\u001b[0;34m)\u001b[0m\u001b[0;34m:\u001b[0m\u001b[0;34m\u001b[0m\u001b[0;34m\u001b[0m\u001b[0m\n\u001b[1;32m     48\u001b[0m         \u001b[0;32mif\u001b[0m \u001b[0mself\u001b[0m\u001b[0;34m.\u001b[0m\u001b[0mauto_collation\u001b[0m\u001b[0;34m:\u001b[0m\u001b[0;34m\u001b[0m\u001b[0;34m\u001b[0m\u001b[0m\n\u001b[0;32m---> 49\u001b[0;31m             \u001b[0mdata\u001b[0m \u001b[0;34m=\u001b[0m \u001b[0;34m[\u001b[0m\u001b[0mself\u001b[0m\u001b[0;34m.\u001b[0m\u001b[0mdataset\u001b[0m\u001b[0;34m[\u001b[0m\u001b[0midx\u001b[0m\u001b[0;34m]\u001b[0m \u001b[0;32mfor\u001b[0m \u001b[0midx\u001b[0m \u001b[0;32min\u001b[0m \u001b[0mpossibly_batched_index\u001b[0m\u001b[0;34m]\u001b[0m\u001b[0;34m\u001b[0m\u001b[0;34m\u001b[0m\u001b[0m\n\u001b[0m\u001b[1;32m     50\u001b[0m         \u001b[0;32melse\u001b[0m\u001b[0;34m:\u001b[0m\u001b[0;34m\u001b[0m\u001b[0;34m\u001b[0m\u001b[0m\n\u001b[1;32m     51\u001b[0m             \u001b[0mdata\u001b[0m \u001b[0;34m=\u001b[0m \u001b[0mself\u001b[0m\u001b[0;34m.\u001b[0m\u001b[0mdataset\u001b[0m\u001b[0;34m[\u001b[0m\u001b[0mpossibly_batched_index\u001b[0m\u001b[0;34m]\u001b[0m\u001b[0;34m\u001b[0m\u001b[0;34m\u001b[0m\u001b[0m\n",
      "\u001b[0;32m~/opt/anaconda3/lib/python3.9/site-packages/torch/utils/data/_utils/fetch.py\u001b[0m in \u001b[0;36m<listcomp>\u001b[0;34m(.0)\u001b[0m\n\u001b[1;32m     47\u001b[0m     \u001b[0;32mdef\u001b[0m \u001b[0mfetch\u001b[0m\u001b[0;34m(\u001b[0m\u001b[0mself\u001b[0m\u001b[0;34m,\u001b[0m \u001b[0mpossibly_batched_index\u001b[0m\u001b[0;34m)\u001b[0m\u001b[0;34m:\u001b[0m\u001b[0;34m\u001b[0m\u001b[0;34m\u001b[0m\u001b[0m\n\u001b[1;32m     48\u001b[0m         \u001b[0;32mif\u001b[0m \u001b[0mself\u001b[0m\u001b[0;34m.\u001b[0m\u001b[0mauto_collation\u001b[0m\u001b[0;34m:\u001b[0m\u001b[0;34m\u001b[0m\u001b[0;34m\u001b[0m\u001b[0m\n\u001b[0;32m---> 49\u001b[0;31m             \u001b[0mdata\u001b[0m \u001b[0;34m=\u001b[0m \u001b[0;34m[\u001b[0m\u001b[0mself\u001b[0m\u001b[0;34m.\u001b[0m\u001b[0mdataset\u001b[0m\u001b[0;34m[\u001b[0m\u001b[0midx\u001b[0m\u001b[0;34m]\u001b[0m \u001b[0;32mfor\u001b[0m \u001b[0midx\u001b[0m \u001b[0;32min\u001b[0m \u001b[0mpossibly_batched_index\u001b[0m\u001b[0;34m]\u001b[0m\u001b[0;34m\u001b[0m\u001b[0;34m\u001b[0m\u001b[0m\n\u001b[0m\u001b[1;32m     50\u001b[0m         \u001b[0;32melse\u001b[0m\u001b[0;34m:\u001b[0m\u001b[0;34m\u001b[0m\u001b[0;34m\u001b[0m\u001b[0m\n\u001b[1;32m     51\u001b[0m             \u001b[0mdata\u001b[0m \u001b[0;34m=\u001b[0m \u001b[0mself\u001b[0m\u001b[0;34m.\u001b[0m\u001b[0mdataset\u001b[0m\u001b[0;34m[\u001b[0m\u001b[0mpossibly_batched_index\u001b[0m\u001b[0;34m]\u001b[0m\u001b[0;34m\u001b[0m\u001b[0;34m\u001b[0m\u001b[0m\n",
      "\u001b[0;32m~/opt/anaconda3/lib/python3.9/site-packages/pytorch_tabnet/utils.py\u001b[0m in \u001b[0;36m__getitem__\u001b[0;34m(self, index)\u001b[0m\n\u001b[1;32m     49\u001b[0m \u001b[0;34m\u001b[0m\u001b[0m\n\u001b[1;32m     50\u001b[0m     \u001b[0;32mdef\u001b[0m \u001b[0m__getitem__\u001b[0m\u001b[0;34m(\u001b[0m\u001b[0mself\u001b[0m\u001b[0;34m,\u001b[0m \u001b[0mindex\u001b[0m\u001b[0;34m)\u001b[0m\u001b[0;34m:\u001b[0m\u001b[0;34m\u001b[0m\u001b[0;34m\u001b[0m\u001b[0m\n\u001b[0;32m---> 51\u001b[0;31m         \u001b[0mx\u001b[0m \u001b[0;34m=\u001b[0m \u001b[0mself\u001b[0m\u001b[0;34m.\u001b[0m\u001b[0mx\u001b[0m\u001b[0;34m[\u001b[0m\u001b[0mindex\u001b[0m\u001b[0;34m]\u001b[0m\u001b[0;34m\u001b[0m\u001b[0;34m\u001b[0m\u001b[0m\n\u001b[0m\u001b[1;32m     52\u001b[0m         \u001b[0;32mreturn\u001b[0m \u001b[0mx\u001b[0m\u001b[0;34m\u001b[0m\u001b[0;34m\u001b[0m\u001b[0m\n\u001b[1;32m     53\u001b[0m \u001b[0;34m\u001b[0m\u001b[0m\n",
      "\u001b[0;32m~/opt/anaconda3/lib/python3.9/site-packages/pandas/core/frame.py\u001b[0m in \u001b[0;36m__getitem__\u001b[0;34m(self, key)\u001b[0m\n\u001b[1;32m   3456\u001b[0m             \u001b[0;32mif\u001b[0m \u001b[0mself\u001b[0m\u001b[0;34m.\u001b[0m\u001b[0mcolumns\u001b[0m\u001b[0;34m.\u001b[0m\u001b[0mnlevels\u001b[0m \u001b[0;34m>\u001b[0m \u001b[0;36m1\u001b[0m\u001b[0;34m:\u001b[0m\u001b[0;34m\u001b[0m\u001b[0;34m\u001b[0m\u001b[0m\n\u001b[1;32m   3457\u001b[0m                 \u001b[0;32mreturn\u001b[0m \u001b[0mself\u001b[0m\u001b[0;34m.\u001b[0m\u001b[0m_getitem_multilevel\u001b[0m\u001b[0;34m(\u001b[0m\u001b[0mkey\u001b[0m\u001b[0;34m)\u001b[0m\u001b[0;34m\u001b[0m\u001b[0;34m\u001b[0m\u001b[0m\n\u001b[0;32m-> 3458\u001b[0;31m             \u001b[0mindexer\u001b[0m \u001b[0;34m=\u001b[0m \u001b[0mself\u001b[0m\u001b[0;34m.\u001b[0m\u001b[0mcolumns\u001b[0m\u001b[0;34m.\u001b[0m\u001b[0mget_loc\u001b[0m\u001b[0;34m(\u001b[0m\u001b[0mkey\u001b[0m\u001b[0;34m)\u001b[0m\u001b[0;34m\u001b[0m\u001b[0;34m\u001b[0m\u001b[0m\n\u001b[0m\u001b[1;32m   3459\u001b[0m             \u001b[0;32mif\u001b[0m \u001b[0mis_integer\u001b[0m\u001b[0;34m(\u001b[0m\u001b[0mindexer\u001b[0m\u001b[0;34m)\u001b[0m\u001b[0;34m:\u001b[0m\u001b[0;34m\u001b[0m\u001b[0;34m\u001b[0m\u001b[0m\n\u001b[1;32m   3460\u001b[0m                 \u001b[0mindexer\u001b[0m \u001b[0;34m=\u001b[0m \u001b[0;34m[\u001b[0m\u001b[0mindexer\u001b[0m\u001b[0;34m]\u001b[0m\u001b[0;34m\u001b[0m\u001b[0;34m\u001b[0m\u001b[0m\n",
      "\u001b[0;32m~/opt/anaconda3/lib/python3.9/site-packages/pandas/core/indexes/base.py\u001b[0m in \u001b[0;36mget_loc\u001b[0;34m(self, key, method, tolerance)\u001b[0m\n\u001b[1;32m   3361\u001b[0m                 \u001b[0;32mreturn\u001b[0m \u001b[0mself\u001b[0m\u001b[0;34m.\u001b[0m\u001b[0m_engine\u001b[0m\u001b[0;34m.\u001b[0m\u001b[0mget_loc\u001b[0m\u001b[0;34m(\u001b[0m\u001b[0mcasted_key\u001b[0m\u001b[0;34m)\u001b[0m\u001b[0;34m\u001b[0m\u001b[0;34m\u001b[0m\u001b[0m\n\u001b[1;32m   3362\u001b[0m             \u001b[0;32mexcept\u001b[0m \u001b[0mKeyError\u001b[0m \u001b[0;32mas\u001b[0m \u001b[0merr\u001b[0m\u001b[0;34m:\u001b[0m\u001b[0;34m\u001b[0m\u001b[0;34m\u001b[0m\u001b[0m\n\u001b[0;32m-> 3363\u001b[0;31m                 \u001b[0;32mraise\u001b[0m \u001b[0mKeyError\u001b[0m\u001b[0;34m(\u001b[0m\u001b[0mkey\u001b[0m\u001b[0;34m)\u001b[0m \u001b[0;32mfrom\u001b[0m \u001b[0merr\u001b[0m\u001b[0;34m\u001b[0m\u001b[0;34m\u001b[0m\u001b[0m\n\u001b[0m\u001b[1;32m   3364\u001b[0m \u001b[0;34m\u001b[0m\u001b[0m\n\u001b[1;32m   3365\u001b[0m         \u001b[0;32mif\u001b[0m \u001b[0mis_scalar\u001b[0m\u001b[0;34m(\u001b[0m\u001b[0mkey\u001b[0m\u001b[0;34m)\u001b[0m \u001b[0;32mand\u001b[0m \u001b[0misna\u001b[0m\u001b[0;34m(\u001b[0m\u001b[0mkey\u001b[0m\u001b[0;34m)\u001b[0m \u001b[0;32mand\u001b[0m \u001b[0;32mnot\u001b[0m \u001b[0mself\u001b[0m\u001b[0;34m.\u001b[0m\u001b[0mhasnans\u001b[0m\u001b[0;34m:\u001b[0m\u001b[0;34m\u001b[0m\u001b[0;34m\u001b[0m\u001b[0m\n",
      "\u001b[0;31mKeyError\u001b[0m: 0"
     ]
    }
   ],
   "source": [
    "sample = X_valid[1:2]\n",
    "bcva_prob_dist(clf_1, sample, 3, 40)"
   ]
  },
  {
   "cell_type": "code",
   "execution_count": 71,
   "id": "940f57c2-55b3-43e8-acc7-5137e8b3ef3c",
   "metadata": {},
   "outputs": [],
   "source": [
    "def get_three_years(patient_id, model_lst, plot=True):\n",
    "    preds = []\n",
    "    for i in range(1, 4):\n",
    "        df = pd.read_csv(f\"~/Documents/Github/paper/input/df_{i}_years.csv\")\n",
    "        df['outcome'] = df.apply(lambda row: label_bcva(row), axis=1)\n",
    "        X = df.drop(columns=['target_va', 'outcome']).iloc[patient_id].values\n",
    "        y = df.outcome.iloc[patient_id]\n",
    "        ground_truth = df.target_va.iloc[patient_id]\n",
    "        if plot: bcva_prob_dist(model_lst[i-1], [X], i, ground_truth)\n",
    "        preds.append(model_lst[i-1].predict_proba([X]).tolist()[0])\n",
    "    if not plot: return preds"
   ]
  },
  {
   "cell_type": "code",
   "execution_count": 72,
   "id": "bed35031-0bae-4bb1-97bf-0c4448cc8672",
   "metadata": {},
   "outputs": [
    {
     "data": {
      "image/png": "[encoded data removed]",
      "text/plain": [
       "<Figure size 432x288 with 1 Axes>"
      ]
     },
     "metadata": {
      "needs_background": "light"
     },
     "output_type": "display_data"
    },
    {
     "data": {
      "image/png": "[encoded data removed]",
      "text/plain": [
       "<Figure size 432x288 with 1 Axes>"
      ]
     },
     "metadata": {
      "needs_background": "light"
     },
     "output_type": "display_data"
    },
    {
     "data": {
      "image/png": "[encoded data removed]",
      "text/plain": [
       "<Figure size 432x288 with 1 Axes>"
      ]
     },
     "metadata": {
      "needs_background": "light"
     },
     "output_type": "display_data"
    }
   ],
   "source": [
    "get_three_years(12, model_lst)"
   ]
  },
  {
   "cell_type": "markdown",
   "id": "67b1de0a-23aa-4f54-a1af-fc2f513676c9",
   "metadata": {},
   "source": [
    "## Temporal BCVA distributions"
   ]
  },
  {
   "cell_type": "code",
   "execution_count": 85,
   "id": "a76953e3-f988-48c2-895b-a5d9564619c8",
   "metadata": {},
   "outputs": [
    {
     "data": {
      "text/plain": [
       "[[0.0005350853316485882,\n",
       "  0.001638788846321404,\n",
       "  0.37912705540657043,\n",
       "  0.6186990141868591],\n",
       " [3.75551862816792e-05,\n",
       "  0.00010069409472635016,\n",
       "  0.23822419345378876,\n",
       "  0.7616376280784607],\n",
       " [1.3372237845032942e-05,\n",
       "  0.000156654670718126,\n",
       "  0.8583002686500549,\n",
       "  0.1415296196937561]]"
      ]
     },
     "execution_count": 85,
     "metadata": {},
     "output_type": "execute_result"
    }
   ],
   "source": [
    "preds = get_three_years(11, model_lst, plot=False)\n",
    "preds"
   ]
  },
  {
   "cell_type": "code",
   "execution_count": 86,
   "id": "94e083ca-792f-43f2-b9bf-e87cb3bbdb8d",
   "metadata": {},
   "outputs": [],
   "source": [
    "def prob_to_vision(index): return 30 + (index*20)\n",
    "\n",
    "def preds_to_scalar(preds): \n",
    "    toRtn = 0\n",
    "    for i in range(3):\n",
    "        toRtn += prob_to_vision(i) * preds[i]\n",
    "    return toRtn"
   ]
  },
  {
   "cell_type": "code",
   "execution_count": 87,
   "id": "2f2d28f7-afb0-47ba-ab41-1555a2c4a3a1",
   "metadata": {},
   "outputs": [
    {
     "data": {
      "text/plain": [
       "[[0.0005350853316485882,\n",
       "  0.001638788846321404,\n",
       "  0.37912705540657043,\n",
       "  0.6186990141868591],\n",
       " [3.75551862816792e-05,\n",
       "  0.00010069409472635016,\n",
       "  0.23822419345378876,\n",
       "  0.7616376280784607],\n",
       " [1.3372237845032942e-05,\n",
       "  0.000156654670718126,\n",
       "  0.8583002686500549,\n",
       "  0.1415296196937561]]"
      ]
     },
     "execution_count": 87,
     "metadata": {},
     "output_type": "execute_result"
    }
   ],
   "source": [
    "preds"
   ]
  },
  {
   "cell_type": "code",
   "execution_count": 88,
   "id": "08aa98c3-4c49-4688-af68-d76dd6a5a027",
   "metadata": {},
   "outputs": [],
   "source": [
    "def prob(scalar): return np.round(scalar*100)\n",
    "\n",
    "def temporal_prob_dist(preds):\n",
    "    y_40, y_60, y_80, y_100 = [], [], [], [] \n",
    "    for i in range(3):\n",
    "        y_40.append(prob(preds[i][0])), y_60.append(prob(preds[i][1]))\n",
    "        y_80.append(prob(preds[i][2])), y_100.append(prob(preds[i][3]))\n",
    "    df_plot = pd.DataFrame({\"Below 40\": y_40, \"40-60\": y_60,\n",
    "                            \"60-80\": y_80, \"80-100\": y_100})\n",
    "    df_plot[[\"Below 40\", \"40-60\", \"60-80\", \"80-100\"]].plot(kind=\"bar\", width = .35)\n",
    "    ax = plt.gca()\n",
    "    ax.set_xticklabels((\"Year 1\", \"Year 2\", \"Year 3\"))\n",
    "    ax.set_ylabel(\"Probability of BCVA (%)\")\n",
    "    plt.savefig(\"temporal_patient_prob.png\", dpi=300)\n",
    "    plt.show()\n",
    "    return df_plot"
   ]
  },
  {
   "cell_type": "code",
   "execution_count": 89,
   "id": "24924590-b528-4b0b-97e8-ef7127e1ff36",
   "metadata": {},
   "outputs": [
    {
     "data": {
      "image/png": "[encoded data removed]",
      "text/plain": [
       "<Figure size 432x288 with 1 Axes>"
      ]
     },
     "metadata": {
      "needs_background": "light"
     },
     "output_type": "display_data"
    }
   ],
   "source": [
    "df_plot = temporal_prob_dist(preds)"
   ]
  },
  {
   "cell_type": "code",
   "execution_count": 90,
   "id": "0ca32861-6244-4a44-86b5-bdd8c52b00f4",
   "metadata": {},
   "outputs": [
    {
     "data": {
      "text/plain": [
       "72.3"
      ]
     },
     "execution_count": 90,
     "metadata": {},
     "output_type": "execute_result"
    }
   ],
   "source": [
    "t = df_plot.iloc[2].values\n",
    "\n",
    "def expected_value(t):\n",
    "    total = 0\n",
    "    for i in range(0, 40): total += t[0]/40 * i\n",
    "    for i in range(40, 60): total += t[1]/20 * i\n",
    "    for i in range(60, 80): total += t[2]/20 * i\n",
    "    for i in range(80, 100): total += t[3]/20 * i\n",
    "    return total/100\n",
    "\n",
    "expected_value(t)"
   ]
  },
  {
   "cell_type": "code",
   "execution_count": 91,
   "id": "429c024a-a05f-43c2-9212-ea462ef7bd85",
   "metadata": {},
   "outputs": [],
   "source": [
    "def expected_value(t):\n",
    "    total = 0\n",
    "    total += (20 * t[0]) + (50 * t[1]) + (70 * t[2]) + (90 * t[3])\n",
    "    return total/100\n",
    "\n",
    "def expected_value_plot(df_plot):\n",
    "    toRtn = []\n",
    "    for i in range(3):\n",
    "        t = df_plot.iloc[i].values\n",
    "        ev = expected_value(t)\n",
    "        toRtn.append(ev)\n",
    "    return toRtn"
   ]
  },
  {
   "cell_type": "code",
   "execution_count": 92,
   "id": "bc9bed80-a6a7-4f6c-a7f1-3a176a06d2a0",
   "metadata": {},
   "outputs": [
    {
     "data": {
      "text/plain": [
       "[82.4, 85.2, 72.8]"
      ]
     },
     "execution_count": 92,
     "metadata": {},
     "output_type": "execute_result"
    }
   ],
   "source": [
    "expected_value_plot(df_plot)"
   ]
  },
  {
   "cell_type": "code",
   "execution_count": 93,
   "id": "4141ceae-cf77-4ad6-8cc2-41ab6e803e26",
   "metadata": {},
   "outputs": [
    {
     "data": {
      "image/png": "[encoded data removed]",
      "text/plain": [
       "<Figure size 432x288 with 1 Axes>"
      ]
     },
     "metadata": {
      "needs_background": "light"
     },
     "output_type": "display_data"
    }
   ],
   "source": [
    "import matplotlib.pyplot as plt\n",
    "\n",
    "# Data\n",
    "x =  [1, 2, 3]\n",
    "y0 = df_plot['Below 40'].values\n",
    "y1 = df_plot['40-60'].values\n",
    "y2 = df_plot['60-80'].values\n",
    "y3 = df_plot['80-100'].values\n",
    "\n",
    "# Shade the area between y1 and y2\n",
    "plt.fill_between(x, 100, 80, color=\"black\", alpha=0.2)\n",
    "plt.fill_between(x, 80, 60,\n",
    "                 facecolor=\"orange\", # the fill color\n",
    "                 color='blue',       # the outline color\n",
    "                 alpha=0.2)          # transparency of the fill\n",
    "plt.fill_between(x, 60, 40, color=\"orange\", alpha=0.2)\n",
    "plt.fill_between(x, 40, 0, color=\"gray\", alpha=0.2)\n",
    "\n",
    "from matplotlib.lines import Line2D\n",
    "custom_lines = [Line2D([0], [0], color=\"blue\", lw=4, alpha=0.2),\n",
    "                Line2D([0], [0], color=\"orange\", lw=4, alpha=0.2),\n",
    "                Line2D([0], [0], color=\"gray\", lw=4, alpha=0.2),\n",
    "                Line2D([0], [0], color='red', lw=4)]\n",
    "plt.plot(x, expected_value_plot(df_plot), color='red')\n",
    "\n",
    "plt.legend(custom_lines, ['80-100', '60-80', '40-60', 'Expected Value'])\n",
    "plt.ylabel(\"Visual acuity (logMAR letters)\")\n",
    "plt.xlabel(\"Year\")\n",
    "plt.xticks([1,2,3], [\"1\", \"2\", \"3\"])\n",
    "plt.savefig(\"cumulative_prob.png\", dpi=300)\n",
    "plt.show()"
   ]
  },
  {
   "cell_type": "markdown",
   "id": "a8f28011-967c-4e6b-a5ba-e538c861ec20",
   "metadata": {},
   "source": [
    "## MLP"
   ]
  },
  {
   "cell_type": "code",
   "execution_count": 9,
   "id": "44698056-baf6-44d9-8b60-c2ff1013c780",
   "metadata": {},
   "outputs": [],
   "source": [
    "from sklearn.preprocessing import StandardScaler, MinMaxScaler\n",
    "from sklearn import model_selection\n",
    "from sklearn.metrics import roc_auc_score\n",
    "import torch.nn as nn\n",
    "import torch\n",
    "from torch.autograd import Variable\n",
    "import torch.nn.functional as F"
   ]
  },
  {
   "cell_type": "code",
   "execution_count": 65,
   "id": "037b5c9b-a7b7-4aac-b9b8-8ec12f81175e",
   "metadata": {},
   "outputs": [],
   "source": [
    "class Net(nn.Module):\n",
    "    def __init__(self):\n",
    "        super(Net, self).__init__()\n",
    "        self.fc1 = nn.Linear(18, 32)\n",
    "        self.fc2 = nn.Linear(32, 16)\n",
    "        self.out = nn.Linear(16, 4)\n",
    "        self.dropout = nn.Dropout(p=0)\n",
    "        self.batchnorm1 = nn.BatchNorm1d(18)\n",
    "        self.batchnorm2 = nn.BatchNorm1d(32)\n",
    "    \n",
    "    def forward(self, x):\n",
    "        x = self.dropout(torch.relu(self.fc1(self.batchnorm1(x))))\n",
    "        x = self.dropout(torch.relu(self.fc2(self.batchnorm2(x))))    \n",
    "        output = torch.tanh(self.out(x))\n",
    "        return output"
   ]
  },
  {
   "cell_type": "code",
   "execution_count": 66,
   "id": "c1b605a3-3d40-4f69-935c-6505cb42edc3",
   "metadata": {},
   "outputs": [],
   "source": [
    "class PytorchKfolds:\n",
    "    \n",
    "    def __init__(self, n_epochs=30):\n",
    "        self.df = self.init_df()\n",
    "        self.kdf = self.create_folds(self.df)\n",
    "        self.n_epochs = n_epochs\n",
    "        self.loss_fn = nn.CrossEntropyLoss()\n",
    "\n",
    "    def init_df(self):\n",
    "        def label_bcva(row): \n",
    "            final_bcva = row.target_va\n",
    "            toRtn = 0\n",
    "            if final_bcva < 60: \n",
    "                if final_bcva < 40: toRtn = 0\n",
    "                else: toRtn = 1\n",
    "            else:\n",
    "                if final_bcva < 80: toRtn = 2\n",
    "                else: toRtn = 3\n",
    "            return toRtn\n",
    "        df = pd.read_csv(\"~/Documents/Github/paper/input/df_1_years.csv\")\n",
    "        df['outcome'] = df.apply(lambda row: label_bcva(row), axis=1)\n",
    "        return df\n",
    "    \n",
    "    def create_folds(self, df):\n",
    "        # we create a new column called kfold and fill it with -1\n",
    "        df[\"kfold\"] = -1\n",
    "        # the next step is to randomize the rows of the data\n",
    "        df = df.sample(frac=1).reset_index(drop=True)\n",
    "        # fetch labels\n",
    "        y = df.outcome.values\n",
    "        # initiate the kfold class from model_selection module\n",
    "        kf = model_selection.StratifiedKFold(n_splits=5)\n",
    "        # fill the new kfold column\n",
    "        for f, (t_, v_) in enumerate(kf.split(X=df, y=y)):\n",
    "            df.loc[v_, 'kfold'] = f\n",
    "        return df\n",
    "    \n",
    "    def inputs_targets(self, df, fold):\n",
    "        df = self.create_folds(df)\n",
    "        df_train = df[df.kfold != fold].reset_index(drop=True)\n",
    "        df_train.fillna(df_train.mean(), inplace=True)\n",
    "        df_valid = df[df.kfold == fold].reset_index(drop=True)\n",
    "        df_valid.fillna(df_valid.mean(), inplace=True)\n",
    "        X_train = df_train.drop(columns=[\"target_va\", \"outcome\", \"kfold\"]).values\n",
    "        y_train = df_train.outcome.values\n",
    "        X_valid = df_valid.drop(columns=[\"target_va\", \"outcome\", \"kfold\"]).values\n",
    "        y_valid = df_valid.outcome.values\n",
    "        return X_train, X_valid, y_train, y_valid\n",
    "    \n",
    "    def train_test_kfold(self, df, fold):\n",
    "        X_train, X_test, y_train, y_test = self.inputs_targets(df, fold)\n",
    "        # scale the data\n",
    "        ss = StandardScaler()\n",
    "        X_train, X_test = ss.fit_transform(X_train), ss.fit_transform(X_test)\n",
    "        # convert to tensors\n",
    "        X_train_tensors = Variable(torch.Tensor(X_train))\n",
    "        X_test_tensors = Variable(torch.Tensor(X_test))\n",
    "        y_train_tensors = Variable(torch.Tensor(y_train))\n",
    "        y_test_tensors = Variable(torch.Tensor(y_test))\n",
    "        return X_train_tensors, X_test_tensors, y_train_tensors, y_test_tensors\n",
    "    \n",
    "    def create_dataloaders(self, X_train, X_test, y_train, y_test):\n",
    "        train_data, test_data = [], []\n",
    "        for i in range(len(X_train)):\n",
    "            train_data.append([X_train[i].to(torch.float32), \n",
    "                               y_train[i].type(torch.LongTensor)])\n",
    "        for i in range(len(X_test)):\n",
    "            test_data.append([X_test[i].to(torch.float32), \n",
    "                               y_test[i].type(torch.LongTensor)])\n",
    "        train_loader = torch.utils.data.DataLoader(train_data, shuffle=False, \n",
    "                                               batch_size=64, drop_last=True)\n",
    "        test_loader = torch.utils.data.DataLoader(test_data, shuffle=False, \n",
    "                                                  batch_size=len(X_test))\n",
    "        return train_loader, test_loader\n",
    "    \n",
    "    def reset_weights(self, m):\n",
    "        for layer in m.children():\n",
    "            if hasattr(layer, 'reset_parameters'):\n",
    "                layer.reset_parameters()\n",
    "    \n",
    "    def accuracy_score(self, val_loader, model):\n",
    "        model.eval()\n",
    "        correct, total = 0, 0\n",
    "        with torch.no_grad(): # we don't want gradients here\n",
    "            for imgs, labels in val_loader:\n",
    "                outputs = model(imgs)\n",
    "                _, predicted = torch.max(outputs, dim=1)\n",
    "                total += labels.shape[0]\n",
    "                correct += int((predicted == labels).sum())\n",
    "            return correct/total\n",
    "        \n",
    "    def auc_score(self, val_loader, model):\n",
    "        model.eval()\n",
    "        aucs = []\n",
    "        with torch.no_grad():\n",
    "            for imgs, labels in val_loader:\n",
    "                outputs = model(imgs).detach().numpy()\n",
    "                labels = labels.detach().numpy()\n",
    "                aucs.append(roc_auc_score(labels, outputs[0], average=\"weighted\",\n",
    "                                          multi_class='ovr'))\n",
    "            return np.round(np.mean(aucs), 4)\n",
    "                \n",
    "    \n",
    "    def training_loop(self, train_loader, val_loader, verbose=0):\n",
    "        n_epochs=self.n_epochs\n",
    "        model=Net()\n",
    "        model.apply(self.reset_weights)\n",
    "        optimiser=torch.optim.Adam(model.parameters(), lr=1e-2)\n",
    "        loss_fn=self.loss_fn\n",
    "        model.train()\n",
    "        for epoch in range(1, n_epochs + 1):\n",
    "            loss_train, loss_test = 0.0, 0.0\n",
    "            for imgs, labels in train_loader:\n",
    "                b_x = Variable(imgs)   # batch x\n",
    "                b_y = Variable(labels)   # batch y\n",
    "                outputs = model(imgs)\n",
    "                loss = loss_fn(outputs, b_y)\n",
    "                optimiser.zero_grad()\n",
    "                loss.backward()\n",
    "                optimiser.step()\n",
    "                loss_train += loss.item() # .item() is used to escape gradient\n",
    "            accuracy = self.accuracy_score(val_loader, model)\n",
    "            if (epoch == 1 or epoch % (n_epochs/10) == 0) and verbose>0:\n",
    "                print(\"Epoch {}, Training Loss {}, Accuracy {}%\".format(\n",
    "                    epoch,\n",
    "                    np.round(loss_train / len(train_loader), 4),\n",
    "                    np.round(accuracy*100, 2)))\n",
    "        train_accuracy = self.accuracy_score(train_loader, model)\n",
    "        test_accuracy = self.accuracy_score(val_loader, model)\n",
    "        test_auc = self.auc_score(val_loader, model)\n",
    "        if verbose==1:\n",
    "            print(f\"Train accuracy = {train_accuracy*100}%, validation accuracy = {test_accuracy*100}%\")\n",
    "            print(f\"Test ROC AUC = {test_auc}\")\n",
    "        return train_accuracy, test_accuracy, test_auc\n",
    "                \n",
    "    def kfold_train(self, verbose=0):\n",
    "        tr_a, te_a, te_auc = [], [], []\n",
    "        for i in range(5):\n",
    "            if verbose > 0: print(f'FOLD {i}')\n",
    "            X_train, X_test, y_train, y_test = self.train_test_kfold(self.kdf, i)\n",
    "            train_loader, val_loader = self.create_dataloaders(X_train, X_test, y_train, y_test)\n",
    "            train_acc, test_acc, test_auc = self.training_loop(train_loader=train_loader, \n",
    "                                                     val_loader=val_loader, verbose=verbose)\n",
    "            tr_a.append(np.round(train_acc, 2))\n",
    "            te_a.append(np.round(test_acc, 2))\n",
    "            te_auc.append(np.round(test_auc, 2))\n",
    "            if verbose > 0: print('--------------------------------')\n",
    "        if verbose!=-1:\n",
    "            print(\"FINAL RESULTS\")\n",
    "            print(f\"Mean training accuracy: {round(np.mean(tr_a), 2)} (+/- {round(np.std(tr_a), 2)})\")\n",
    "            print(f\"Mean validation accuracy: {round(np.mean(te_a), 2)} (+/- {round(np.std(te_a), 2)})\")\n",
    "            print(f\"Mean validation ROC AUC: {round(np.mean(te_auc), 2)} (+/- {round(np.std(te_auc), 2)})\")\n",
    "        if verbose==-1: return np.mean(te_auc)"
   ]
  },
  {
   "cell_type": "code",
   "execution_count": 67,
   "id": "3f401c5f-7c7d-4284-92d2-cc4e0ee43222",
   "metadata": {},
   "outputs": [
    {
     "ename": "AxisError",
     "evalue": "axis 1 is out of bounds for array of dimension 1",
     "output_type": "error",
     "traceback": [
      "\u001b[0;31m---------------------------------------------------------------------------\u001b[0m",
      "\u001b[0;31mAxisError\u001b[0m                                 Traceback (most recent call last)",
      "\u001b[0;32m/var/folders/k4/z1fdqs457dx3kgvlgz2mxrz80000gn/T/ipykernel_33386/807017093.py\u001b[0m in \u001b[0;36m<module>\u001b[0;34m\u001b[0m\n\u001b[1;32m      1\u001b[0m \u001b[0mete\u001b[0m \u001b[0;34m=\u001b[0m \u001b[0mPytorchKfolds\u001b[0m\u001b[0;34m(\u001b[0m\u001b[0mn_epochs\u001b[0m\u001b[0;34m=\u001b[0m\u001b[0;36m40\u001b[0m\u001b[0;34m)\u001b[0m\u001b[0;34m\u001b[0m\u001b[0;34m\u001b[0m\u001b[0m\n\u001b[0;32m----> 2\u001b[0;31m \u001b[0mtrainl\u001b[0m\u001b[0;34m,\u001b[0m \u001b[0mtestl\u001b[0m \u001b[0;34m=\u001b[0m \u001b[0mete\u001b[0m\u001b[0;34m.\u001b[0m\u001b[0mkfold_train\u001b[0m\u001b[0;34m(\u001b[0m\u001b[0;34m)\u001b[0m\u001b[0;34m\u001b[0m\u001b[0;34m\u001b[0m\u001b[0m\n\u001b[0m",
      "\u001b[0;32m/var/folders/k4/z1fdqs457dx3kgvlgz2mxrz80000gn/T/ipykernel_33386/547981000.py\u001b[0m in \u001b[0;36mkfold_train\u001b[0;34m(self, verbose)\u001b[0m\n\u001b[1;32m    140\u001b[0m             \u001b[0mX_train\u001b[0m\u001b[0;34m,\u001b[0m \u001b[0mX_test\u001b[0m\u001b[0;34m,\u001b[0m \u001b[0my_train\u001b[0m\u001b[0;34m,\u001b[0m \u001b[0my_test\u001b[0m \u001b[0;34m=\u001b[0m \u001b[0mself\u001b[0m\u001b[0;34m.\u001b[0m\u001b[0mtrain_test_kfold\u001b[0m\u001b[0;34m(\u001b[0m\u001b[0mself\u001b[0m\u001b[0;34m.\u001b[0m\u001b[0mkdf\u001b[0m\u001b[0;34m,\u001b[0m \u001b[0mi\u001b[0m\u001b[0;34m)\u001b[0m\u001b[0;34m\u001b[0m\u001b[0;34m\u001b[0m\u001b[0m\n\u001b[1;32m    141\u001b[0m             \u001b[0mtrain_loader\u001b[0m\u001b[0;34m,\u001b[0m \u001b[0mval_loader\u001b[0m \u001b[0;34m=\u001b[0m \u001b[0mself\u001b[0m\u001b[0;34m.\u001b[0m\u001b[0mcreate_dataloaders\u001b[0m\u001b[0;34m(\u001b[0m\u001b[0mX_train\u001b[0m\u001b[0;34m,\u001b[0m \u001b[0mX_test\u001b[0m\u001b[0;34m,\u001b[0m \u001b[0my_train\u001b[0m\u001b[0;34m,\u001b[0m \u001b[0my_test\u001b[0m\u001b[0;34m)\u001b[0m\u001b[0;34m\u001b[0m\u001b[0;34m\u001b[0m\u001b[0m\n\u001b[0;32m--> 142\u001b[0;31m             train_acc, test_acc, test_auc = self.training_loop(train_loader=train_loader, \n\u001b[0m\u001b[1;32m    143\u001b[0m                                                      val_loader=val_loader, verbose=verbose)\n\u001b[1;32m    144\u001b[0m             \u001b[0mtr_a\u001b[0m\u001b[0;34m.\u001b[0m\u001b[0mappend\u001b[0m\u001b[0;34m(\u001b[0m\u001b[0mnp\u001b[0m\u001b[0;34m.\u001b[0m\u001b[0mround\u001b[0m\u001b[0;34m(\u001b[0m\u001b[0mtrain_acc\u001b[0m\u001b[0;34m,\u001b[0m \u001b[0;36m2\u001b[0m\u001b[0;34m)\u001b[0m\u001b[0;34m)\u001b[0m\u001b[0;34m\u001b[0m\u001b[0;34m\u001b[0m\u001b[0m\n",
      "\u001b[0;32m/var/folders/k4/z1fdqs457dx3kgvlgz2mxrz80000gn/T/ipykernel_33386/547981000.py\u001b[0m in \u001b[0;36mtraining_loop\u001b[0;34m(self, train_loader, val_loader, verbose)\u001b[0m\n\u001b[1;32m    128\u001b[0m         \u001b[0mtrain_accuracy\u001b[0m \u001b[0;34m=\u001b[0m \u001b[0mself\u001b[0m\u001b[0;34m.\u001b[0m\u001b[0maccuracy_score\u001b[0m\u001b[0;34m(\u001b[0m\u001b[0mtrain_loader\u001b[0m\u001b[0;34m,\u001b[0m \u001b[0mmodel\u001b[0m\u001b[0;34m)\u001b[0m\u001b[0;34m\u001b[0m\u001b[0;34m\u001b[0m\u001b[0m\n\u001b[1;32m    129\u001b[0m         \u001b[0mtest_accuracy\u001b[0m \u001b[0;34m=\u001b[0m \u001b[0mself\u001b[0m\u001b[0;34m.\u001b[0m\u001b[0maccuracy_score\u001b[0m\u001b[0;34m(\u001b[0m\u001b[0mval_loader\u001b[0m\u001b[0;34m,\u001b[0m \u001b[0mmodel\u001b[0m\u001b[0;34m)\u001b[0m\u001b[0;34m\u001b[0m\u001b[0;34m\u001b[0m\u001b[0m\n\u001b[0;32m--> 130\u001b[0;31m         \u001b[0mtest_auc\u001b[0m \u001b[0;34m=\u001b[0m \u001b[0mself\u001b[0m\u001b[0;34m.\u001b[0m\u001b[0mauc_score\u001b[0m\u001b[0;34m(\u001b[0m\u001b[0mval_loader\u001b[0m\u001b[0;34m,\u001b[0m \u001b[0mmodel\u001b[0m\u001b[0;34m)\u001b[0m\u001b[0;34m\u001b[0m\u001b[0;34m\u001b[0m\u001b[0m\n\u001b[0m\u001b[1;32m    131\u001b[0m         \u001b[0;32mif\u001b[0m \u001b[0mverbose\u001b[0m\u001b[0;34m==\u001b[0m\u001b[0;36m1\u001b[0m\u001b[0;34m:\u001b[0m\u001b[0;34m\u001b[0m\u001b[0;34m\u001b[0m\u001b[0m\n\u001b[1;32m    132\u001b[0m             \u001b[0mprint\u001b[0m\u001b[0;34m(\u001b[0m\u001b[0;34mf\"Train accuracy = {train_accuracy*100}%, validation accuracy = {test_accuracy*100}%\"\u001b[0m\u001b[0;34m)\u001b[0m\u001b[0;34m\u001b[0m\u001b[0;34m\u001b[0m\u001b[0m\n",
      "\u001b[0;32m/var/folders/k4/z1fdqs457dx3kgvlgz2mxrz80000gn/T/ipykernel_33386/547981000.py\u001b[0m in \u001b[0;36mauc_score\u001b[0;34m(self, val_loader, model)\u001b[0m\n\u001b[1;32m     97\u001b[0m                 \u001b[0moutputs\u001b[0m \u001b[0;34m=\u001b[0m \u001b[0mmodel\u001b[0m\u001b[0;34m(\u001b[0m\u001b[0mimgs\u001b[0m\u001b[0;34m)\u001b[0m\u001b[0;34m.\u001b[0m\u001b[0mdetach\u001b[0m\u001b[0;34m(\u001b[0m\u001b[0;34m)\u001b[0m\u001b[0;34m.\u001b[0m\u001b[0mnumpy\u001b[0m\u001b[0;34m(\u001b[0m\u001b[0;34m)\u001b[0m\u001b[0;34m\u001b[0m\u001b[0;34m\u001b[0m\u001b[0m\n\u001b[1;32m     98\u001b[0m                 \u001b[0mlabels\u001b[0m \u001b[0;34m=\u001b[0m \u001b[0mlabels\u001b[0m\u001b[0;34m.\u001b[0m\u001b[0mdetach\u001b[0m\u001b[0;34m(\u001b[0m\u001b[0;34m)\u001b[0m\u001b[0;34m.\u001b[0m\u001b[0mnumpy\u001b[0m\u001b[0;34m(\u001b[0m\u001b[0;34m)\u001b[0m\u001b[0;34m\u001b[0m\u001b[0;34m\u001b[0m\u001b[0m\n\u001b[0;32m---> 99\u001b[0;31m                 aucs.append(roc_auc_score(labels, outputs[0], average=\"weighted\",\n\u001b[0m\u001b[1;32m    100\u001b[0m                                           multi_class='ovr'))\n\u001b[1;32m    101\u001b[0m             \u001b[0;32mreturn\u001b[0m \u001b[0mnp\u001b[0m\u001b[0;34m.\u001b[0m\u001b[0mround\u001b[0m\u001b[0;34m(\u001b[0m\u001b[0mnp\u001b[0m\u001b[0;34m.\u001b[0m\u001b[0mmean\u001b[0m\u001b[0;34m(\u001b[0m\u001b[0maucs\u001b[0m\u001b[0;34m)\u001b[0m\u001b[0;34m,\u001b[0m \u001b[0;36m4\u001b[0m\u001b[0;34m)\u001b[0m\u001b[0;34m\u001b[0m\u001b[0;34m\u001b[0m\u001b[0m\n",
      "\u001b[0;32m~/opt/anaconda3/lib/python3.9/site-packages/sklearn/metrics/_ranking.py\u001b[0m in \u001b[0;36mroc_auc_score\u001b[0;34m(y_true, y_score, average, sample_weight, max_fpr, multi_class, labels)\u001b[0m\n\u001b[1;32m    559\u001b[0m         \u001b[0;32mif\u001b[0m \u001b[0mmulti_class\u001b[0m \u001b[0;34m==\u001b[0m \u001b[0;34m\"raise\"\u001b[0m\u001b[0;34m:\u001b[0m\u001b[0;34m\u001b[0m\u001b[0;34m\u001b[0m\u001b[0m\n\u001b[1;32m    560\u001b[0m             \u001b[0;32mraise\u001b[0m \u001b[0mValueError\u001b[0m\u001b[0;34m(\u001b[0m\u001b[0;34m\"multi_class must be in ('ovo', 'ovr')\"\u001b[0m\u001b[0;34m)\u001b[0m\u001b[0;34m\u001b[0m\u001b[0;34m\u001b[0m\u001b[0m\n\u001b[0;32m--> 561\u001b[0;31m         return _multiclass_roc_auc_score(\n\u001b[0m\u001b[1;32m    562\u001b[0m             \u001b[0my_true\u001b[0m\u001b[0;34m,\u001b[0m \u001b[0my_score\u001b[0m\u001b[0;34m,\u001b[0m \u001b[0mlabels\u001b[0m\u001b[0;34m,\u001b[0m \u001b[0mmulti_class\u001b[0m\u001b[0;34m,\u001b[0m \u001b[0maverage\u001b[0m\u001b[0;34m,\u001b[0m \u001b[0msample_weight\u001b[0m\u001b[0;34m\u001b[0m\u001b[0;34m\u001b[0m\u001b[0m\n\u001b[1;32m    563\u001b[0m         )\n",
      "\u001b[0;32m~/opt/anaconda3/lib/python3.9/site-packages/sklearn/metrics/_ranking.py\u001b[0m in \u001b[0;36m_multiclass_roc_auc_score\u001b[0;34m(y_true, y_score, labels, multi_class, average, sample_weight)\u001b[0m\n\u001b[1;32m    625\u001b[0m     \"\"\"\n\u001b[1;32m    626\u001b[0m     \u001b[0;31m# validation of the input y_score\u001b[0m\u001b[0;34m\u001b[0m\u001b[0;34m\u001b[0m\u001b[0m\n\u001b[0;32m--> 627\u001b[0;31m     \u001b[0;32mif\u001b[0m \u001b[0;32mnot\u001b[0m \u001b[0mnp\u001b[0m\u001b[0;34m.\u001b[0m\u001b[0mallclose\u001b[0m\u001b[0;34m(\u001b[0m\u001b[0;36m1\u001b[0m\u001b[0;34m,\u001b[0m \u001b[0my_score\u001b[0m\u001b[0;34m.\u001b[0m\u001b[0msum\u001b[0m\u001b[0;34m(\u001b[0m\u001b[0maxis\u001b[0m\u001b[0;34m=\u001b[0m\u001b[0;36m1\u001b[0m\u001b[0;34m)\u001b[0m\u001b[0;34m)\u001b[0m\u001b[0;34m:\u001b[0m\u001b[0;34m\u001b[0m\u001b[0;34m\u001b[0m\u001b[0m\n\u001b[0m\u001b[1;32m    628\u001b[0m         raise ValueError(\n\u001b[1;32m    629\u001b[0m             \u001b[0;34m\"Target scores need to be probabilities for multiclass \"\u001b[0m\u001b[0;34m\u001b[0m\u001b[0;34m\u001b[0m\u001b[0m\n",
      "\u001b[0;32m~/opt/anaconda3/lib/python3.9/site-packages/numpy/core/_methods.py\u001b[0m in \u001b[0;36m_sum\u001b[0;34m(a, axis, dtype, out, keepdims, initial, where)\u001b[0m\n\u001b[1;32m     45\u001b[0m def _sum(a, axis=None, dtype=None, out=None, keepdims=False,\n\u001b[1;32m     46\u001b[0m          initial=_NoValue, where=True):\n\u001b[0;32m---> 47\u001b[0;31m     \u001b[0;32mreturn\u001b[0m \u001b[0mumr_sum\u001b[0m\u001b[0;34m(\u001b[0m\u001b[0ma\u001b[0m\u001b[0;34m,\u001b[0m \u001b[0maxis\u001b[0m\u001b[0;34m,\u001b[0m \u001b[0mdtype\u001b[0m\u001b[0;34m,\u001b[0m \u001b[0mout\u001b[0m\u001b[0;34m,\u001b[0m \u001b[0mkeepdims\u001b[0m\u001b[0;34m,\u001b[0m \u001b[0minitial\u001b[0m\u001b[0;34m,\u001b[0m \u001b[0mwhere\u001b[0m\u001b[0;34m)\u001b[0m\u001b[0;34m\u001b[0m\u001b[0;34m\u001b[0m\u001b[0m\n\u001b[0m\u001b[1;32m     48\u001b[0m \u001b[0;34m\u001b[0m\u001b[0m\n\u001b[1;32m     49\u001b[0m def _prod(a, axis=None, dtype=None, out=None, keepdims=False,\n",
      "\u001b[0;31mAxisError\u001b[0m: axis 1 is out of bounds for array of dimension 1"
     ]
    }
   ],
   "source": [
    "ete = PytorchKfolds(n_epochs=40)\n",
    "trainl, testl = ete.kfold_train()"
   ]
  },
  {
   "cell_type": "code",
   "execution_count": 41,
   "id": "082a638e-fd5b-44c1-a993-60a9fcf91bc8",
   "metadata": {},
   "outputs": [
    {
     "name": "stdout",
     "output_type": "stream",
     "text": [
      "torch.Size([64, 18])\n"
     ]
    }
   ],
   "source": [
    "ss = StandardScaler()\n",
    "X_trans = ss.fit_transform(X)\n",
    "\n",
    "X_train, X_test, y_train, y_test = train_test_split(X_trans, y, test_size=0.2)\n",
    "\n",
    "X_train_tensors = Variable(torch.Tensor(X_train))\n",
    "X_test_tensors = Variable(torch.Tensor(X_test))\n",
    "\n",
    "y_train_tensors = Variable(torch.Tensor(y_train))\n",
    "y_test_tensors = Variable(torch.Tensor(y_test))\n",
    "\n",
    "train_data, test_data = [], []\n",
    "for i in range(len(X_train)):\n",
    "    train_data.append([X_train_tensors[i].to(torch.float32), \n",
    "                       y_train_tensors[i].type(torch.LongTensor)])\n",
    "for i in range(len(X_test)):\n",
    "    test_data.append([X_test_tensors[i].to(torch.float32), \n",
    "                       y_test_tensors[i].type(torch.LongTensor)])\n",
    "\n",
    "train_loader = torch.utils.data.DataLoader(train_data, shuffle=False, \n",
    "                                           batch_size=64, drop_last=True)\n",
    "test_loader = torch.utils.data.DataLoader(test_data, shuffle=False, batch_size=64)\n",
    "\n",
    "# check shape\n",
    "i1, l1 = next(iter(train_loader))\n",
    "print(i1.shape)"
   ]
  },
  {
   "cell_type": "code",
   "execution_count": 42,
   "id": "7a691c7c-eeb3-4050-8374-8262c9d50255",
   "metadata": {},
   "outputs": [
    {
     "data": {
      "text/plain": [
       "torch.Size([18])"
      ]
     },
     "execution_count": 42,
     "metadata": {},
     "output_type": "execute_result"
    }
   ],
   "source": [
    "data, label = next(iter(train_loader))\n",
    "data = data[0]\n",
    "data.shape"
   ]
  },
  {
   "cell_type": "code",
   "execution_count": 51,
   "id": "c3d652f5-649b-44d5-b50a-3261f7284b70",
   "metadata": {},
   "outputs": [
    {
     "data": {
      "text/plain": [
       "array([ 0.22200005,  0.10221744, -0.05113522,  0.1969758 ], dtype=float32)"
      ]
     },
     "execution_count": 51,
     "metadata": {},
     "output_type": "execute_result"
    }
   ],
   "source": [
    "model = Net()\n",
    "model.eval()\n",
    "output = model(data.unsqueeze(0))\n",
    "output.detach().numpy()[0]"
   ]
  },
  {
   "cell_type": "code",
   "execution_count": 54,
   "id": "178ab1a4-6692-4d95-a395-e7b2da19d6da",
   "metadata": {},
   "outputs": [
    {
     "ename": "ModuleNotFoundError",
     "evalue": "No module named 'pycore.tikzeng'",
     "output_type": "error",
     "traceback": [
      "\u001b[0;31m---------------------------------------------------------------------------\u001b[0m",
      "\u001b[0;31mModuleNotFoundError\u001b[0m                       Traceback (most recent call last)",
      "\u001b[0;32m/var/folders/k4/z1fdqs457dx3kgvlgz2mxrz80000gn/T/ipykernel_33386/1444668627.py\u001b[0m in \u001b[0;36m<module>\u001b[0;34m\u001b[0m\n\u001b[1;32m      1\u001b[0m \u001b[0;32mimport\u001b[0m \u001b[0msys\u001b[0m\u001b[0;34m\u001b[0m\u001b[0;34m\u001b[0m\u001b[0m\n\u001b[1;32m      2\u001b[0m \u001b[0msys\u001b[0m\u001b[0;34m.\u001b[0m\u001b[0mpath\u001b[0m\u001b[0;34m.\u001b[0m\u001b[0mappend\u001b[0m\u001b[0;34m(\u001b[0m\u001b[0;34m'../'\u001b[0m\u001b[0;34m)\u001b[0m\u001b[0;34m\u001b[0m\u001b[0;34m\u001b[0m\u001b[0m\n\u001b[0;32m----> 3\u001b[0;31m \u001b[0;32mfrom\u001b[0m \u001b[0mpycore\u001b[0m\u001b[0;34m.\u001b[0m\u001b[0mtikzeng\u001b[0m \u001b[0;32mimport\u001b[0m \u001b[0;34m*\u001b[0m\u001b[0;34m\u001b[0m\u001b[0;34m\u001b[0m\u001b[0m\n\u001b[0m\u001b[1;32m      4\u001b[0m \u001b[0;34m\u001b[0m\u001b[0m\n\u001b[1;32m      5\u001b[0m \u001b[0;31m# defined your arch\u001b[0m\u001b[0;34m\u001b[0m\u001b[0;34m\u001b[0m\u001b[0m\n",
      "\u001b[0;31mModuleNotFoundError\u001b[0m: No module named 'pycore.tikzeng'"
     ]
    }
   ],
   "source": [
    "import sys\n",
    "sys.path.append('../')\n",
    "from pycore.tikzeng import *\n",
    "\n",
    "# defined your arch\n",
    "arch = [\n",
    "    to_head( '..' ),\n",
    "    to_cor(),\n",
    "    to_begin(),\n",
    "    to_Conv(\"conv1\", 512, 64, offset=\"(0,0,0)\", to=\"(0,0,0)\", height=64, depth=64, width=2 ),\n",
    "    to_Pool(\"pool1\", offset=\"(0,0,0)\", to=\"(conv1-east)\"),\n",
    "    to_Conv(\"conv2\", 128, 64, offset=\"(1,0,0)\", to=\"(pool1-east)\", height=32, depth=32, width=2 ),\n",
    "    to_connection( \"pool1\", \"conv2\"),\n",
    "    to_Pool(\"pool2\", offset=\"(0,0,0)\", to=\"(conv2-east)\", height=28, depth=28, width=1),\n",
    "    to_SoftMax(\"soft1\", 10 ,\"(3,0,0)\", \"(pool1-east)\", caption=\"SOFT\"  ),\n",
    "    to_connection(\"pool2\", \"soft1\"),\n",
    "    to_end()\n",
    "    ]\n",
    "\n",
    "def main():\n",
    "    namefile = str(sys.argv[0]).split('.')[0]\n",
    "    to_generate(arch, namefile + '.tex' )"
   ]
  },
  {
   "cell_type": "code",
   "execution_count": 57,
   "id": "6b0457c6-e561-4ac5-8513-6a056f6163fb",
   "metadata": {},
   "outputs": [
    {
     "name": "stdout",
     "output_type": "stream",
     "text": [
      "zsh:cd:1: no such file or directory: pyexamples/\n",
      "bash: ../tikzmake.sh: No such file or directory\n"
     ]
    }
   ],
   "source": [
    "!cd pyexamples/\n",
    "!bash ../tikzmake.sh test_simple"
   ]
  },
  {
   "cell_type": "code",
   "execution_count": 64,
   "id": "ace4d918-ca60-492f-851a-0d0b8adb854d",
   "metadata": {},
   "outputs": [
    {
     "data": {
      "text/plain": [
       "['Image',\n",
       " 'Lease',\n",
       " 'Network',\n",
       " 'NetworkPool',\n",
       " 'Permission',\n",
       " 'Task',\n",
       " 'Template',\n",
       " 'Token',\n",
       " 'VM',\n",
       " '__builtins__',\n",
       " '__cached__',\n",
       " '__doc__',\n",
       " '__file__',\n",
       " '__loader__',\n",
       " '__name__',\n",
       " '__package__',\n",
       " '__path__',\n",
       " '__spec__',\n",
       " 'base_model',\n",
       " 'image',\n",
       " 'lease',\n",
       " 'network',\n",
       " 'network_pool',\n",
       " 'permission',\n",
       " 'task',\n",
       " 'template',\n",
       " 'token',\n",
       " 'vm']"
      ]
     },
     "execution_count": 64,
     "metadata": {},
     "output_type": "execute_result"
    }
   ],
   "source": [
    "dir(pycore.models)"
   ]
  },
  {
   "cell_type": "code",
   "execution_count": 61,
   "id": "23f1ab72-7429-4a77-99d5-bdaf98eaae7f",
   "metadata": {},
   "outputs": [],
   "source": [
    "import pycore"
   ]
  },
  {
   "cell_type": "code",
   "execution_count": null,
   "id": "732d6aec-a3bf-41a6-8819-d9fc18402633",
   "metadata": {},
   "outputs": [],
   "source": []
  }
 ],
 "metadata": {
  "kernelspec": {
   "display_name": "Python 3 (ipykernel)",
   "language": "python",
   "name": "python3"
  },
  "language_info": {
   "codemirror_mode": {
    "name": "ipython",
    "version": 3
   },
   "file_extension": ".py",
   "mimetype": "text/x-python",
   "name": "python",
   "nbconvert_exporter": "python",
   "pygments_lexer": "ipython3",
   "version": "3.9.7"
  }
 },
 "nbformat": 4,
 "nbformat_minor": 5
}
