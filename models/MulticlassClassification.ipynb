{
 "cells": [
  {
   "cell_type": "markdown",
   "id": "07fcc71c-893b-453c-870c-9e63bff34981",
   "metadata": {},
   "source": [
    "# Multiclass Classification"
   ]
  },
  {
   "cell_type": "code",
   "execution_count": 327,
   "id": "5250be27-5cd9-4974-aa1f-718dd6ecc33c",
   "metadata": {},
   "outputs": [],
   "source": [
    "from sklearn.model_selection import cross_val_score\n",
    "from sklearn.model_selection import RandomizedSearchCV\n",
    "from sklearn.model_selection import train_test_split\n",
    "from sklearn import metrics\n",
    "from sklearn.metrics import roc_curve\n",
    "from sklearn.metrics import roc_auc_score\n",
    "from sklearn.metrics import confusion_matrix\n",
    "from sklearn.metrics import accuracy_score\n",
    "import warnings\n",
    "warnings.filterwarnings('ignore')\n",
    "import pandas as pd\n",
    "import numpy as np\n",
    "\n",
    "def label_bcva(row): \n",
    "    final_bcva = row.target_va\n",
    "    toRtn = 0\n",
    "    if final_bcva < 60: \n",
    "        if final_bcva < 40: toRtn = 0\n",
    "        else: toRtn = 1\n",
    "    else:\n",
    "        if final_bcva < 80: toRtn = 2\n",
    "        else: toRtn = 3\n",
    "    return toRtn\n",
    "\n",
    "df = pd.read_csv(\"~/Documents/Github/paper/input/df_3_years.csv\")\n",
    "df['outcome'] = df.apply(lambda row: label_bcva(row), axis=1)\n",
    "\n",
    "X, y = df.drop(columns=['target_va', 'outcome']), df.outcome.values\n",
    "X_train, X_valid, y_train, y_valid = train_test_split(X, y, test_size=0.2, random_state=4)\n",
    "\n",
    "def score(model, X, y, cv=5, scoring='accuracy'):\n",
    "    scores = cross_val_score(model, X, y, cv=cv, scoring=scoring)\n",
    "    return np.mean(scores), np.std(scores)"
   ]
  },
  {
   "cell_type": "markdown",
   "id": "6a85ca84-4834-4ad6-9386-4c1adbd17af9",
   "metadata": {},
   "source": [
    "## Logistic regression"
   ]
  },
  {
   "cell_type": "code",
   "execution_count": 328,
   "id": "fd9f34a0-0fb3-4be1-9a50-8e327940bdc4",
   "metadata": {
    "tags": []
   },
   "outputs": [
    {
     "data": {
      "text/plain": [
       "(0.5423909423909423, 0.04505416977033754)"
      ]
     },
     "execution_count": 328,
     "metadata": {},
     "output_type": "execute_result"
    }
   ],
   "source": [
    "from sklearn.linear_model import LogisticRegression\n",
    "\n",
    "lr = LogisticRegression()\n",
    "score(lr, X, y)"
   ]
  },
  {
   "cell_type": "code",
   "execution_count": 17,
   "id": "ed6f1b8c-52c4-4885-ac15-1b5b7a67f5cd",
   "metadata": {},
   "outputs": [
    {
     "data": {
      "text/plain": [
       "0.5641025641025641"
      ]
     },
     "execution_count": 17,
     "metadata": {},
     "output_type": "execute_result"
    }
   ],
   "source": [
    "lr.fit(X_train, y_train)\n",
    "preds = lr.predict(X_valid)\n",
    "accuracy_score(y_valid, preds)"
   ]
  },
  {
   "cell_type": "code",
   "execution_count": 18,
   "id": "ac678e78-23b8-4daa-9ebd-b2dee50c0b85",
   "metadata": {
    "tags": []
   },
   "outputs": [
    {
     "data": {
      "text/plain": [
       "0.7420809909045203"
      ]
     },
     "execution_count": 18,
     "metadata": {},
     "output_type": "execute_result"
    }
   ],
   "source": [
    "lr.fit(X_train, y_train)\n",
    "preds = lr.predict_proba(X_valid)\n",
    "roc_auc_score(y_valid, preds, average=\"weighted\", multi_class=\"ovr\")"
   ]
  },
  {
   "cell_type": "markdown",
   "id": "c6a7f5fa-479b-4f0a-8b2e-97c7bba3e63b",
   "metadata": {},
   "source": [
    "## Random forest"
   ]
  },
  {
   "cell_type": "code",
   "execution_count": 7,
   "id": "636a2caa-8e03-4fb3-82ff-7581cd809fed",
   "metadata": {},
   "outputs": [
    {
     "data": {
      "text/plain": [
       "(0.6914418914418914, 0.028919770470482862)"
      ]
     },
     "execution_count": 7,
     "metadata": {},
     "output_type": "execute_result"
    }
   ],
   "source": [
    "from sklearn.ensemble import RandomForestClassifier\n",
    "\n",
    "rf = RandomForestClassifier()\n",
    "score(rf, X, y)"
   ]
  },
  {
   "cell_type": "code",
   "execution_count": 19,
   "id": "e244e152-e21e-40db-ba11-7ef048ee10b3",
   "metadata": {},
   "outputs": [
    {
     "data": {
      "text/plain": [
       "0.6666666666666666"
      ]
     },
     "execution_count": 19,
     "metadata": {},
     "output_type": "execute_result"
    }
   ],
   "source": [
    "rf.fit(X_train, y_train)\n",
    "preds = rf.predict(X_valid)\n",
    "accuracy_score(y_valid, preds)"
   ]
  },
  {
   "cell_type": "code",
   "execution_count": 20,
   "id": "2d8d0622-f7dc-41c8-8bdc-9e7d1bbdd2f2",
   "metadata": {},
   "outputs": [
    {
     "data": {
      "text/plain": [
       "0.8835728323963619"
      ]
     },
     "execution_count": 20,
     "metadata": {},
     "output_type": "execute_result"
    }
   ],
   "source": [
    "rf.fit(X_train, y_train)\n",
    "preds = rf.predict_proba(X_test)\n",
    "roc_auc_score(y_test, preds, average=\"weighted\", multi_class=\"ovr\")"
   ]
  },
  {
   "cell_type": "markdown",
   "id": "196d2055-32f1-4122-a80b-723cc7c1ea19",
   "metadata": {},
   "source": [
    "## Gradient boosted classifier"
   ]
  },
  {
   "cell_type": "code",
   "execution_count": 11,
   "id": "a083af74-ca36-434d-a0b3-9255ef50a235",
   "metadata": {},
   "outputs": [
    {
     "data": {
      "text/plain": [
       "(0.7250749250749251, 0.04025564984934498)"
      ]
     },
     "execution_count": 11,
     "metadata": {},
     "output_type": "execute_result"
    }
   ],
   "source": [
    "from sklearn.ensemble import GradientBoostingClassifier\n",
    "\n",
    "gb = GradientBoostingClassifier()\n",
    "score(gb, X, y)"
   ]
  },
  {
   "cell_type": "code",
   "execution_count": 21,
   "id": "15be99f2-5e1d-45ff-85a5-be5ff3d398c4",
   "metadata": {},
   "outputs": [
    {
     "data": {
      "text/plain": [
       "0.7692307692307693"
      ]
     },
     "execution_count": 21,
     "metadata": {},
     "output_type": "execute_result"
    }
   ],
   "source": [
    "gb.fit(X_train, y_train)\n",
    "preds = gb.predict(X_valid)\n",
    "accuracy_score(y_valid, preds)"
   ]
  },
  {
   "cell_type": "code",
   "execution_count": 22,
   "id": "f4e27c0e-921f-473d-9eb6-5d8f52d6ca3b",
   "metadata": {},
   "outputs": [
    {
     "data": {
      "text/plain": [
       "0.9369237625119978"
      ]
     },
     "execution_count": 22,
     "metadata": {},
     "output_type": "execute_result"
    }
   ],
   "source": [
    "gb.fit(X_train, y_train)\n",
    "preds = gb.predict_proba(X_test)\n",
    "roc_auc_score(y_test, preds, average=\"weighted\", multi_class=\"ovr\")"
   ]
  },
  {
   "cell_type": "markdown",
   "id": "e5de5e3e-08a4-4aa9-b9be-9bd181005953",
   "metadata": {},
   "source": [
    "## TabNet"
   ]
  },
  {
   "cell_type": "code",
   "execution_count": 29,
   "id": "7f1f89b5-5f0a-4de9-a6e5-5bb1cfdfb52e",
   "metadata": {},
   "outputs": [],
   "source": [
    "from pytorch_tabnet.tab_model import TabNetClassifier\n",
    "\n",
    "import torch\n",
    "from sklearn.preprocessing import LabelEncoder\n",
    "from sklearn.metrics import accuracy_score\n",
    "from sklearn.model_selection import train_test_split\n",
    "import pandas as pd\n",
    "import numpy as np\n",
    "np.random.seed(0)\n",
    "\n",
    "from matplotlib import pyplot as plt\n",
    "%matplotlib inline\n",
    "\n",
    "X, y = df.drop(columns=['target_va', 'outcome']).values, df.outcome.values\n",
    "X_train, X_valid, y_train, y_valid = train_test_split(X, y, test_size=0.2, random_state=4)"
   ]
  },
  {
   "cell_type": "code",
   "execution_count": 33,
   "id": "1d155dde-aaf7-4cf3-93d9-7f11642edc59",
   "metadata": {},
   "outputs": [],
   "source": [
    "clf = TabNetClassifier(\n",
    "    n_d=64, n_a=64, n_steps=5,\n",
    "    gamma=1.5, n_independent=2, n_shared=2,\n",
    "    lambda_sparse=1e-4, momentum=0.3, clip_value=2.,\n",
    "    optimizer_fn=torch.optim.Adam,\n",
    "    optimizer_params=dict(lr=2e-2),\n",
    "    scheduler_params = {\"gamma\": 0.95,\n",
    "                     \"step_size\": 20},\n",
    "    scheduler_fn=torch.optim.lr_scheduler.StepLR, epsilon=1e-15,\n",
    "    verbose=0\n",
    ")"
   ]
  },
  {
   "cell_type": "code",
   "execution_count": 34,
   "id": "1ee4294c-00aa-47b2-a9c4-0190844f4442",
   "metadata": {},
   "outputs": [
    {
     "name": "stdout",
     "output_type": "stream",
     "text": [
      "\n",
      "Early stopping occurred at epoch 167 with best_epoch = 67 and best_valid_accuracy = 0.80769\n",
      "Best weights from best epoch are automatically used!\n"
     ]
    }
   ],
   "source": [
    "clf.fit(\n",
    "    X_train=X_train, y_train=y_train,\n",
    "    eval_set=[(X_train, y_train), (X_valid, y_valid)],\n",
    "    eval_name=['train', 'valid'],\n",
    "    max_epochs=1000, patience=100,\n",
    "    batch_size=64\n",
    ") "
   ]
  },
  {
   "cell_type": "code",
   "execution_count": 37,
   "id": "b49004b7-c737-4417-aac0-8704984307ee",
   "metadata": {},
   "outputs": [
    {
     "data": {
      "text/plain": [
       "0.9030568124685772"
      ]
     },
     "execution_count": 37,
     "metadata": {},
     "output_type": "execute_result"
    }
   ],
   "source": [
    "preds = clf.predict_proba(X_valid)\n",
    "valid_auc = roc_auc_score(y_score=preds, y_true=y_valid,\n",
    "                          average=\"weighted\", multi_class=\"ovr\")\n",
    "valid_auc"
   ]
  },
  {
   "cell_type": "code",
   "execution_count": 38,
   "id": "8b0ca0da-a602-491f-9d30-926d3365a1c0",
   "metadata": {},
   "outputs": [
    {
     "data": {
      "text/plain": [
       "0.8076923076923077"
      ]
     },
     "execution_count": 38,
     "metadata": {},
     "output_type": "execute_result"
    }
   ],
   "source": [
    "preds = clf.predict(X_valid)\n",
    "accuracy_score(y_valid, preds)"
   ]
  },
  {
   "cell_type": "code",
   "execution_count": 66,
   "id": "08231dd4-efc7-45ec-9efe-2711ef1c3038",
   "metadata": {},
   "outputs": [
    {
     "data": {
      "text/plain": [
       "array([[ 8,  1,  1,  0],\n",
       "       [ 0,  7,  5,  0],\n",
       "       [ 0,  1, 22,  5],\n",
       "       [ 0,  0,  2, 26]])"
      ]
     },
     "execution_count": 66,
     "metadata": {},
     "output_type": "execute_result"
    }
   ],
   "source": [
    "from sklearn.metrics import confusion_matrix\n",
    "\n",
    "confusion_matrix(y_valid, preds)"
   ]
  },
  {
   "cell_type": "markdown",
   "id": "d7f34274-2d62-4cc0-b64c-9e34a0969196",
   "metadata": {
    "tags": []
   },
   "source": [
    "# Probability distributions"
   ]
  },
  {
   "cell_type": "markdown",
   "id": "fa5b672f-d69f-4c67-ae79-ae1306082e24",
   "metadata": {},
   "source": [
    "## Single-year BCVA distribution"
   ]
  },
  {
   "cell_type": "code",
   "execution_count": 157,
   "id": "57ea7897-556e-4509-a1af-c35c1e8aa9ba",
   "metadata": {},
   "outputs": [],
   "source": [
    "import os \n",
    "os.chdir('/Users/charlesoneill/Documents/GitHub/paper/results')"
   ]
  },
  {
   "cell_type": "code",
   "execution_count": 209,
   "id": "7c69c59a-99c1-46b3-a77a-013e1906d420",
   "metadata": {},
   "outputs": [],
   "source": [
    "def return_tabnet():\n",
    "    return TabNetClassifier(\n",
    "    n_d=64, n_a=64, n_steps=5,\n",
    "    gamma=1.5, n_independent=2, n_shared=2,\n",
    "    lambda_sparse=1e-4, momentum=0.3, clip_value=2.,\n",
    "    optimizer_fn=torch.optim.Adam,\n",
    "    optimizer_params=dict(lr=2e-2),\n",
    "    scheduler_params = {\"gamma\": 0.95,\n",
    "                     \"step_size\": 20},\n",
    "    scheduler_fn=torch.optim.lr_scheduler.StepLR, epsilon=1e-15,\n",
    "    verbose=0)"
   ]
  },
  {
   "cell_type": "code",
   "execution_count": 212,
   "id": "34a6ea47-6997-44db-b162-af28d49ee1f9",
   "metadata": {},
   "outputs": [],
   "source": [
    "def train_tabnet(year):\n",
    "    df = pd.read_csv(f\"~/Documents/Github/paper/input/df_{year}_years.csv\")\n",
    "    df['outcome'] = df.apply(lambda row: label_bcva(row), axis=1)\n",
    "    X, y = df.drop(columns=['target_va', 'outcome']).values, df.outcome.values\n",
    "    X_train, X_valid, y_train, y_valid = train_test_split(X, y, test_size=0.2, random_state=4)\n",
    "    clf = return_tabnet()\n",
    "    clf.fit(X_train=X_train, y_train=y_train, \n",
    "            eval_set=[(X_train, y_train), (X_valid, y_valid)],\n",
    "            eval_name=['train', 'valid'], max_epochs=1000, patience=100,\n",
    "            batch_size=64)\n",
    "    return clf"
   ]
  },
  {
   "cell_type": "code",
   "execution_count": 213,
   "id": "f8c62d7d-f103-4a7a-9a9b-ad65a0b490b6",
   "metadata": {},
   "outputs": [
    {
     "name": "stdout",
     "output_type": "stream",
     "text": [
      "\n",
      "Early stopping occurred at epoch 222 with best_epoch = 122 and best_valid_accuracy = 0.83\n",
      "Best weights from best epoch are automatically used!\n",
      "\n",
      "Early stopping occurred at epoch 171 with best_epoch = 71 and best_valid_accuracy = 0.79787\n",
      "Best weights from best epoch are automatically used!\n",
      "\n",
      "Early stopping occurred at epoch 167 with best_epoch = 67 and best_valid_accuracy = 0.80769\n",
      "Best weights from best epoch are automatically used!\n"
     ]
    }
   ],
   "source": [
    "clf_1 = train_tabnet(1)\n",
    "clf_2 = train_tabnet(2)\n",
    "clf_3 = train_tabnet(3)\n",
    "model_lst = [clf_1, clf_2, clf_3]"
   ]
  },
  {
   "cell_type": "code",
   "execution_count": 260,
   "id": "7bea89c9-fde4-4f4b-9ff0-d5d80a475c5c",
   "metadata": {},
   "outputs": [],
   "source": [
    "def bcva_prob_dist(model, sample, year, ground_truth):\n",
    "    t = [0, 30, 50, 70, 90, 100]\n",
    "    preds_proba = model.predict_proba(sample).tolist()[0]\n",
    "    preds_proba.insert(0, 0.0)\n",
    "    preds_proba.append(0)\n",
    "    plt.plot(t, preds_proba, color=\"orange\")\n",
    "    plt.fill_between(t, preds_proba, color=\"navy\")\n",
    "    plt.axvline(x=ground_truth, color='r', linestyle='-', label=\"True vision\")\n",
    "    plt.ylabel(\"Probability of BCVA\")\n",
    "    plt.xlabel(f\"Vision at end of Year {year} (logMAR letters)\")\n",
    "    plt.legend()\n",
    "    plt.savefig(f\"year{year}_patient_distribution.png\", dpi=300)\n",
    "    plt.show()"
   ]
  },
  {
   "cell_type": "code",
   "execution_count": 261,
   "id": "2033678e-abaa-449d-a3bb-9e9a75be8b4f",
   "metadata": {},
   "outputs": [
    {
     "data": {
      "image/png": "[encoded data removed]",
      "text/plain": [
       "<Figure size 432x288 with 1 Axes>"
      ]
     },
     "metadata": {
      "needs_background": "light"
     },
     "output_type": "display_data"
    }
   ],
   "source": [
    "sample = X_valid[11:12]\n",
    "bcva_prob_dist(clf, sample, 3, 40)"
   ]
  },
  {
   "cell_type": "code",
   "execution_count": 262,
   "id": "940f57c2-55b3-43e8-acc7-5137e8b3ef3c",
   "metadata": {},
   "outputs": [],
   "source": [
    "def get_three_years(patient_id, model_lst, plot=True):\n",
    "    preds = []\n",
    "    for i in range(1, 4):\n",
    "        df = pd.read_csv(f\"~/Documents/Github/paper/input/df_{i}_years.csv\")\n",
    "        df['outcome'] = df.apply(lambda row: label_bcva(row), axis=1)\n",
    "        X = df.drop(columns=['target_va', 'outcome']).iloc[patient_id].values\n",
    "        y = df.outcome.iloc[patient_id]\n",
    "        ground_truth = df.target_va.iloc[patient_id]\n",
    "        if plot: bcva_prob_dist(model_lst[i-1], [X], i, ground_truth)\n",
    "        preds.append(model_lst[i-1].predict_proba([X]).tolist()[0])\n",
    "    if not plot: return preds"
   ]
  },
  {
   "cell_type": "code",
   "execution_count": 263,
   "id": "bed35031-0bae-4bb1-97bf-0c4448cc8672",
   "metadata": {},
   "outputs": [
    {
     "data": {
      "image/png": "[encoded data removed]",
      "text/plain": [
       "<Figure size 432x288 with 1 Axes>"
      ]
     },
     "metadata": {
      "needs_background": "light"
     },
     "output_type": "display_data"
    },
    {
     "data": {
      "image/png": "[encoded data removed]",
      "text/plain": [
       "<Figure size 432x288 with 1 Axes>"
      ]
     },
     "metadata": {
      "needs_background": "light"
     },
     "output_type": "display_data"
    },
    {
     "data": {
      "image/png": "[encoded data removed]",
      "text/plain": [
       "<Figure size 432x288 with 1 Axes>"
      ]
     },
     "metadata": {
      "needs_background": "light"
     },
     "output_type": "display_data"
    }
   ],
   "source": [
    "get_three_years(12, model_lst)"
   ]
  },
  {
   "cell_type": "markdown",
   "id": "67b1de0a-23aa-4f54-a1af-fc2f513676c9",
   "metadata": {},
   "source": [
    "## Temporal BCVA distributions"
   ]
  },
  {
   "cell_type": "code",
   "execution_count": 241,
   "id": "a76953e3-f988-48c2-895b-a5d9564619c8",
   "metadata": {},
   "outputs": [
    {
     "data": {
      "text/plain": [
       "[[6.580825720448047e-05,\n",
       "  0.00016460954793728888,\n",
       "  0.22467590868473053,\n",
       "  0.775093674659729],\n",
       " [0.00013951263099443167,\n",
       "  0.0001286290498683229,\n",
       "  0.3579482436180115,\n",
       "  0.641783595085144],\n",
       " [0.0001351299142697826,\n",
       "  9.594106086296961e-05,\n",
       "  0.09832429885864258,\n",
       "  0.9014445543289185]]"
      ]
     },
     "execution_count": 241,
     "metadata": {},
     "output_type": "execute_result"
    }
   ],
   "source": [
    "preds = get_three_years(12, model_lst, plot=False)\n",
    "preds"
   ]
  },
  {
   "cell_type": "code",
   "execution_count": 268,
   "id": "fcd9cbea-24fc-487c-8741-c928ccd695d5",
   "metadata": {},
   "outputs": [
    {
     "data": {
      "text/plain": [
       "90"
      ]
     },
     "execution_count": 268,
     "metadata": {},
     "output_type": "execute_result"
    }
   ],
   "source": [
    "prob_to_vision(preds_ind(preds[0]))"
   ]
  },
  {
   "cell_type": "code",
   "execution_count": 278,
   "id": "94e083ca-792f-43f2-b9bf-e87cb3bbdb8d",
   "metadata": {},
   "outputs": [],
   "source": [
    "def prob_to_vision(index): return 30 + (index*20)\n",
    "\n",
    "def preds_to_scalar(preds): \n",
    "    toRtn = 0\n",
    "    for i in range(3):\n",
    "        toRtn += prob_to_vision(i) * preds[i]\n",
    "    return toRtn\n",
    "\n",
    "def temporal_prob_dist(preds):\n",
    "    x, y_40, y_60, y_80, y_100 = [0,1,2,3], [0], [0], [0], \n",
    "    for i in range(3):\n",
    "        index = preds[i].index(max(preds[i]))\n",
    "        y.append(prob_to_vision(index))\n",
    "    plt.bar(x, y)\n",
    "    plt.ylim(0, 100)\n",
    "    plt.ylabel(\"BCVA (logMAR letters)\")\n",
    "    plt.xlabel(\"Year\")\n",
    "    plt.show()\n",
    "    return x, y"
   ]
  },
  {
   "cell_type": "code",
   "execution_count": 325,
   "id": "08aa98c3-4c49-4688-af68-d76dd6a5a027",
   "metadata": {},
   "outputs": [],
   "source": [
    "def prob(scalar): return np.ceil(scalar*100)\n",
    "\n",
    "def temporal_prob_dist(preds):\n",
    "    y_40, y_60, y_80, y_100 = [], [], [], [] \n",
    "    for i in range(3):\n",
    "        y_40.append(prob(preds[i][0])), y_60.append(prob(preds[i][1]))\n",
    "        y_80.append(prob(preds[i][2])), y_100.append(prob(preds[i][3]))\n",
    "    df_plot = pd.DataFrame({\"Below 40\": y_40, \"40-60\": y_60,\n",
    "                            \"60-80\": y_80, \"80-100\": y_100})\n",
    "    df_plot[[\"Below 40\", \"40-60\", \"60-80\", \"80-100\"]].plot(kind=\"bar\", width = .35)\n",
    "    ax = plt.gca()\n",
    "    ax.set_xticklabels((\"Year 1\", \"Year 2\", \"Year 3\"))\n",
    "    ax.set_ylabel(\"Probability of BCVA (%)\")\n",
    "    plt.savefig(\"temporal_patient_prob.png\", dpi=300)\n",
    "    plt.show()"
   ]
  },
  {
   "cell_type": "code",
   "execution_count": 326,
   "id": "24924590-b528-4b0b-97e8-ef7127e1ff36",
   "metadata": {},
   "outputs": [
    {
     "data": {
      "image/png": "[encoded data removed]",
      "text/plain": [
       "<Figure size 432x288 with 1 Axes>"
      ]
     },
     "metadata": {
      "needs_background": "light"
     },
     "output_type": "display_data"
    }
   ],
   "source": [
    "temporal_prob_dist(preds)"
   ]
  },
  {
   "cell_type": "code",
   "execution_count": null,
   "id": "e5489c9c-66b1-49a5-a5ed-85605417c7be",
   "metadata": {},
   "outputs": [],
   "source": []
  }
 ],
 "metadata": {
  "kernelspec": {
   "display_name": "Python 3 (ipykernel)",
   "language": "python",
   "name": "python3"
  },
  "language_info": {
   "codemirror_mode": {
    "name": "ipython",
    "version": 3
   },
   "file_extension": ".py",
   "mimetype": "text/x-python",
   "name": "python",
   "nbconvert_exporter": "python",
   "pygments_lexer": "ipython3",
   "version": "3.9.7"
  }
 },
 "nbformat": 4,
 "nbformat_minor": 5
}
