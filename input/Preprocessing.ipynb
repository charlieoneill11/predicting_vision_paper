{
 "cells": [
  {
   "cell_type": "code",
   "execution_count": 1,
   "id": "1d038ad9-e8ca-44c8-b533-4718a83f25a2",
   "metadata": {},
   "outputs": [],
   "source": [
    "import pandas as pd\n",
    "import numpy as np\n",
    "from datetime import timedelta \n",
    "import statistics\n",
    "import warnings\n",
    "warnings.filterwarnings('ignore')"
   ]
  },
  {
   "cell_type": "code",
   "execution_count": 2,
   "id": "050fd937-f6d1-4744-b185-b7530b512180",
   "metadata": {},
   "outputs": [],
   "source": [
    "df = pd.read_csv(\"~/Documents/github/paper/input/data.csv\", low_memory=False)\n",
    "features = ['eye_id', 'is_irf_present', 'is_srf_present',\n",
    "            'next_interval_in_weeks', 'admission_date', 'actual_drug_today',\n",
    "            'visual_acuity', 'ur', 'laterality']\n",
    "df.rename(columns={\"NextInt\": \"next_interval_in_weeks\", \"Drug\": \"actual_drug_today\",\n",
    "                   \"Laterality\": \"laterality\"}, inplace=True)\n",
    "df = df[features]\n",
    "\n",
    "def id_cleaner(df):\n",
    "    id_list = df['eye_id'].unique()\n",
    "    frames, i = [], 0\n",
    "    for eye in id_list:\n",
    "        pdf = df[df.eye_id == eye]\n",
    "        pdf_left = pdf[pdf.laterality == 'Left']\n",
    "        pdf_right = pdf[pdf.laterality == 'Right']\n",
    "        pdf_left.eye_id = i\n",
    "        pdf_right.eye_id = i + 1\n",
    "        if len(pdf_left) != 0:\n",
    "            frames.append(pdf_left)\n",
    "            i += 1\n",
    "        if len(pdf_right) != 0:\n",
    "            frames.append(pdf_right)\n",
    "            i += 1\n",
    "    return pd.concat(frames)\n",
    "\n",
    "def time_sort(df):\n",
    "    id_list = df.eye_id.unique()\n",
    "    frames = []\n",
    "    for eye in id_list:\n",
    "        pdf = df[df.eye_id == eye]\n",
    "        pdf.admission_date = pd.to_datetime(pdf.admission_date, dayfirst=True)\n",
    "        pdf.sort_values(by='admission_date', inplace=True)\n",
    "        frames.append(pdf)\n",
    "    return pd.concat(frames)\n",
    "\n",
    "def raw_data(df):\n",
    "    cleaned_df = time_sort(id_cleaner(df))\n",
    "    cleaned_df.reset_index(inplace=True, drop=True)\n",
    "    #cleaned_df.drop(columns=['next_interval_in_weeks', 'ur', 'laterality', 'id'], inplace=True)\n",
    "    #cleaned_df.rename(columns={\"eye_id\": \"id\"}, inplace=True)\n",
    "    cleaned_df.replace(['nil', np.nan], inplace=True)\n",
    "    cleaned_df[\"actual_drug_today\"].replace({\"nil\": np.nan}, inplace=True)\n",
    "    cleaned_df.head()\n",
    "    return cleaned_df"
   ]
  },
  {
   "cell_type": "code",
   "execution_count": 6,
   "id": "07ef5c31-5464-45e3-a992-60654d7e1049",
   "metadata": {},
   "outputs": [
    {
     "data": {
      "text/plain": [
       "31382"
      ]
     },
     "execution_count": 6,
     "metadata": {},
     "output_type": "execute_result"
    }
   ],
   "source": [
    "len(df)"
   ]
  },
  {
   "cell_type": "code",
   "execution_count": 8,
   "id": "9a2b701b-935a-40bd-aadc-1e9de577fa8a",
   "metadata": {},
   "outputs": [
    {
     "data": {
      "text/plain": [
       "0.7964438212988337"
      ]
     },
     "execution_count": 8,
     "metadata": {},
     "output_type": "execute_result"
    }
   ],
   "source": [
    "24994/len(df)"
   ]
  },
  {
   "cell_type": "code",
   "execution_count": 5,
   "id": "5fbcd851-f4d0-419a-86ce-31a6792d1b0f",
   "metadata": {},
   "outputs": [
    {
     "data": {
      "text/plain": [
       "eye_id                        0\n",
       "is_irf_present            24980\n",
       "is_srf_present            24994\n",
       "next_interval_in_weeks    12904\n",
       "admission_date                0\n",
       "actual_drug_today          3527\n",
       "visual_acuity               776\n",
       "ur                            0\n",
       "laterality                    0\n",
       "dtype: int64"
      ]
     },
     "execution_count": 5,
     "metadata": {},
     "output_type": "execute_result"
    }
   ],
   "source": [
    "df.isna().sum()"
   ]
  },
  {
   "cell_type": "code",
   "execution_count": 30,
   "id": "5050da6a-2bda-43ac-a2f7-b6bfce2a94d9",
   "metadata": {},
   "outputs": [],
   "source": [
    "cleaned_df = raw_data(df)\n",
    "cleaned_df.to_csv(\"raw_data_cleaned.csv\", index=False)\n",
    "\n",
    "def patient_cutoff(df, cutoff_year, cutoff_visits):\n",
    "    # patients must have this many years of data to be included.\n",
    "    frames = []\n",
    "    id_list = df.eye_id.unique()\n",
    "    for eye in id_list:\n",
    "        pdf = df[df.eye_id == eye]\n",
    "        dates = (pd.to_datetime(pdf.admission_date)).to_list()\n",
    "        if ((dates[-1] - dates[0]).days)/365 >= cutoff_year and len(pdf)>=cutoff_visits: \n",
    "            frames.append(pdf)\n",
    "    return pd.concat(frames)\n",
    "\n",
    "def cut_time(df, cutoff_time):\n",
    "        # shortens a patient's dataframe to x years after initiation.\n",
    "        frames = []\n",
    "        id_list = df.eye_id.unique()\n",
    "        for eye in id_list:\n",
    "            pdf = df[df.eye_id == eye]\n",
    "            pdf.admission_date = pd.to_datetime(pdf.admission_date)\n",
    "            dates = pdf['admission_date'].to_list()\n",
    "            first = pd.to_datetime(dates[0])\n",
    "            cutoff = first + timedelta(days=cutoff_time*365)\n",
    "            pdf = pdf[pdf['admission_date'] <= cutoff]\n",
    "            if len(pdf) > 0: frames.append(pdf)\n",
    "        return pd.concat(frames)\n",
    "    \n",
    "def impute_pdf(df):\n",
    "    fill_NaN = SimpleImputer(missing_values=np.nan, strategy='most_frequent')\n",
    "    imputed_df = pd.DataFrame(fill_NaN.fit_transform(df))\n",
    "    imputed_df.columns = df.columns\n",
    "    imputed_df.index = df.index\n",
    "    imputed_df.fillna(0, inplace=True)\n",
    "    return imputed_df\n",
    "\n",
    "def column_names(i):\n",
    "    return [f'va_{i}', f'irf_{i}', f'srf_{i}', f'int_{i}']\n",
    "\n",
    "def column_builder(i):\n",
    "    lst = []\n",
    "    for visits in range(1, i+1):\n",
    "        lst.extend(column_names(visits))\n",
    "    lst.append('mean_vision'), lst.append('std_vision')\n",
    "    lst.append('target_va')\n",
    "    lst.remove('int_1')\n",
    "    return lst\n",
    "\n",
    "def reshape_pdf(pdf, n_visits):\n",
    "    pdf[\"is_irf_present\"] = pdf[\"is_irf_present\"].astype(int)\n",
    "    pdf[\"is_srf_present\"] = pdf[\"is_srf_present\"].astype(int)\n",
    "    nums, columns = [], column_builder(n_visits)\n",
    "    pdf.fillna(0, inplace=True)\n",
    "    for i in range(n_visits): \n",
    "        nums.append(pdf.visual_acuity.iloc[i])\n",
    "        nums.append(pdf.is_irf_present.iloc[i])\n",
    "        nums.append(pdf.is_srf_present.iloc[i])\n",
    "        if i != 0: nums.append((pdf.admission_date.iloc[i] - pdf.admission_date.iloc[i-1]).days)\n",
    "    if n_visits > 6: nums.append(np.mean(pdf.visual_acuity))\n",
    "    else: nums.append(np.mean(pdf.visual_acuity.iloc[:n_visits+1]))\n",
    "    if n_visits > 3: nums.append(np.std(pdf.visual_acuity))\n",
    "    else: nums.append(np.std(pdf.visual_acuity.iloc[:n_visits+1]))\n",
    "    #mode = statistics.mode(pdf.actual_drug_today)\n",
    "    #if type(mode) == str: nums.append(mode)\n",
    "    #else: nums.append(\"None\")\n",
    "    #nums.append(pdf.age.iloc[0])\n",
    "    #nums.append(encode_gender(pdf.gender.iloc[0]))\n",
    "    nums.append(pdf.visual_acuity.iloc[-1])\n",
    "    return pd.DataFrame(data=[nums], columns=columns)\n",
    "\n",
    "def encode_gender(g):\n",
    "    return 0 if g == \"Male\" else 1\n",
    "\n",
    "def reshape_df(df, n_visits):\n",
    "    eyes = df.eye_id.unique()\n",
    "    frames = []\n",
    "    for eye in eyes:\n",
    "        pdf = df[df.eye_id == eye]\n",
    "        try: frames.append(reshape_pdf(pdf, n_visits))\n",
    "        except: pass\n",
    "    return pd.concat(frames)\n",
    "\n",
    "def save_df_patients(n_years, n_visits=4, test=False):\n",
    "    if test:\n",
    "        df = pd.read_csv(\"raw_test_data_cleaned.csv\")\n",
    "        df.drop(columns=['actual_drug_today', 'next_interval_in_weeks', 'InjNext',\n",
    "                 'laterality'], inplace=True)\n",
    "        df.rename(columns={'eye_id': 'id'}, inplace=True)\n",
    "        df[\"irf\"] = 0\n",
    "        df[\"srf\"] = 0\n",
    "    else: \n",
    "        df = pd.read_csv(\"raw_data_cleaned.csv\")\n",
    "    df = patient_cutoff(df, n_years, 4)\n",
    "    df = cut_time(df, n_years)\n",
    "    df = reshape_df(df, n_visits)\n",
    "    #df = pd.get_dummies(df, columns=[\"mode_drug\"])\n",
    "    #df.drop(columns=['admission_date'], inplace=True)\n",
    "    if test: df.to_csv(f\"test_{n_years}_years.csv\", index=False)\n",
    "    else: df.to_csv(f\"df_{n_years}_years_{n_visits}_visits.csv\", index=False)"
   ]
  },
  {
   "cell_type": "code",
   "execution_count": 31,
   "id": "659da805-b5e2-44cb-b40a-798b73d3535f",
   "metadata": {},
   "outputs": [],
   "source": [
    "save_df_patients(n_years=3, n_visits=2)\n",
    "save_df_patients(n_years=3, n_visits=3)\n",
    "save_df_patients(n_years=3, n_visits=4)\n",
    "save_df_patients(n_years=3, n_visits=5)\n",
    "save_df_patients(n_years=3, n_visits=6)\n",
    "save_df_patients(n_years=3, n_visits=7)\n",
    "save_df_patients(n_years=3, n_visits=8)"
   ]
  },
  {
   "cell_type": "code",
   "execution_count": 198,
   "id": "4b5b9673-3a45-4503-b833-2124388758ef",
   "metadata": {},
   "outputs": [],
   "source": [
    "save_df_patients(1)\n",
    "save_df_patients(2)\n",
    "save_df_patients(3)"
   ]
  },
  {
   "cell_type": "markdown",
   "id": "092d5f80-20c4-40b5-a6a8-99422a0dc77f",
   "metadata": {},
   "source": [
    "# Gender and age"
   ]
  },
  {
   "cell_type": "code",
   "execution_count": 167,
   "id": "ac5c59a0-3a93-42d5-a5e1-0626e679a5d7",
   "metadata": {},
   "outputs": [
    {
     "data": {
      "text/html": [
       "<div>\n",
       "<style scoped>\n",
       "    .dataframe tbody tr th:only-of-type {\n",
       "        vertical-align: middle;\n",
       "    }\n",
       "\n",
       "    .dataframe tbody tr th {\n",
       "        vertical-align: top;\n",
       "    }\n",
       "\n",
       "    .dataframe thead th {\n",
       "        text-align: right;\n",
       "    }\n",
       "</style>\n",
       "<table border=\"1\" class=\"dataframe\">\n",
       "  <thead>\n",
       "    <tr style=\"text-align: right;\">\n",
       "      <th></th>\n",
       "      <th>ur</th>\n",
       "      <th>Gender</th>\n",
       "      <th>Age</th>\n",
       "    </tr>\n",
       "  </thead>\n",
       "  <tbody>\n",
       "    <tr>\n",
       "      <th>0</th>\n",
       "      <td>18363</td>\n",
       "      <td>Female</td>\n",
       "      <td>74</td>\n",
       "    </tr>\n",
       "    <tr>\n",
       "      <th>1</th>\n",
       "      <td>ers21736</td>\n",
       "      <td>Male</td>\n",
       "      <td>80</td>\n",
       "    </tr>\n",
       "    <tr>\n",
       "      <th>2</th>\n",
       "      <td>ers27377</td>\n",
       "      <td>Male</td>\n",
       "      <td>73</td>\n",
       "    </tr>\n",
       "    <tr>\n",
       "      <th>3</th>\n",
       "      <td>ers22077</td>\n",
       "      <td>Male</td>\n",
       "      <td>84</td>\n",
       "    </tr>\n",
       "    <tr>\n",
       "      <th>4</th>\n",
       "      <td>ERS20676</td>\n",
       "      <td>Female</td>\n",
       "      <td>83</td>\n",
       "    </tr>\n",
       "    <tr>\n",
       "      <th>...</th>\n",
       "      <td>...</td>\n",
       "      <td>...</td>\n",
       "      <td>...</td>\n",
       "    </tr>\n",
       "    <tr>\n",
       "      <th>443</th>\n",
       "      <td>ERS29534</td>\n",
       "      <td>Female</td>\n",
       "      <td>87</td>\n",
       "    </tr>\n",
       "    <tr>\n",
       "      <th>444</th>\n",
       "      <td>ers29715</td>\n",
       "      <td>Male</td>\n",
       "      <td>84</td>\n",
       "    </tr>\n",
       "    <tr>\n",
       "      <th>445</th>\n",
       "      <td>ers29906</td>\n",
       "      <td>Female</td>\n",
       "      <td>72</td>\n",
       "    </tr>\n",
       "    <tr>\n",
       "      <th>446</th>\n",
       "      <td>ers25061</td>\n",
       "      <td>Male</td>\n",
       "      <td>93</td>\n",
       "    </tr>\n",
       "    <tr>\n",
       "      <th>447</th>\n",
       "      <td>ers28477</td>\n",
       "      <td>Male</td>\n",
       "      <td>80</td>\n",
       "    </tr>\n",
       "  </tbody>\n",
       "</table>\n",
       "<p>448 rows × 3 columns</p>\n",
       "</div>"
      ],
      "text/plain": [
       "           ur  Gender  Age\n",
       "0       18363  Female   74\n",
       "1    ers21736    Male   80\n",
       "2    ers27377    Male   73\n",
       "3    ers22077    Male   84\n",
       "4    ERS20676  Female   83\n",
       "..        ...     ...  ...\n",
       "443  ERS29534  Female   87\n",
       "444  ers29715    Male   84\n",
       "445  ers29906  Female   72\n",
       "446  ers25061    Male   93\n",
       "447  ers28477    Male   80\n",
       "\n",
       "[448 rows x 3 columns]"
      ]
     },
     "execution_count": 167,
     "metadata": {},
     "output_type": "execute_result"
    }
   ],
   "source": [
    "ag = pd.read_csv(\"~/Documents/GitHub/paper/input/age_gender.csv\")\n",
    "ag"
   ]
  },
  {
   "cell_type": "code",
   "execution_count": 168,
   "id": "740e02df-1e56-4744-b30c-12b60207a72e",
   "metadata": {},
   "outputs": [
    {
     "data": {
      "text/plain": [
       "83.0"
      ]
     },
     "execution_count": 168,
     "metadata": {},
     "output_type": "execute_result"
    }
   ],
   "source": [
    "np.median(ag.Age)"
   ]
  },
  {
   "cell_type": "code",
   "execution_count": 169,
   "id": "0b257bb9-a234-48f2-83bd-9638667c3df8",
   "metadata": {},
   "outputs": [],
   "source": [
    "df['age'] = 90\n",
    "df['gender'] = \"Male\""
   ]
  },
  {
   "cell_type": "code",
   "execution_count": 82,
   "id": "75f01a86-8427-467e-8246-7dfb41e60507",
   "metadata": {},
   "outputs": [],
   "source": [
    "urs = df.ur.unique()\n",
    "frames = []\n",
    "for ur in urs:\n",
    "    pdf = df[df.ur == ur]\n",
    "    ag_pdf = ag[ag.ur == ur]\n",
    "    if len(ag_pdf) > 0:\n",
    "        pdf.age = ag_pdf.Age.iloc[0]\n",
    "        pdf.gender = ag_pdf.Gender.iloc[0]\n",
    "    else: \n",
    "        pdf.age = np.mean(ag.Age)\n",
    "        pdf.gender = \"Female\"\n",
    "    frames.append(pdf)\n",
    "df = pd.concat(frames)"
   ]
  },
  {
   "cell_type": "code",
   "execution_count": null,
   "id": "da0adb4e-ac14-4466-9155-1571869f5b30",
   "metadata": {},
   "outputs": [],
   "source": []
  },
  {
   "cell_type": "code",
   "execution_count": null,
   "id": "5ae5b3fb-074a-44bf-a01d-a05d8e983fe8",
   "metadata": {},
   "outputs": [],
   "source": []
  }
 ],
 "metadata": {
  "kernelspec": {
   "display_name": "Python 3 (ipykernel)",
   "language": "python",
   "name": "python3"
  },
  "language_info": {
   "codemirror_mode": {
    "name": "ipython",
    "version": 3
   },
   "file_extension": ".py",
   "mimetype": "text/x-python",
   "name": "python",
   "nbconvert_exporter": "python",
   "pygments_lexer": "ipython3",
   "version": "3.9.7"
  }
 },
 "nbformat": 4,
 "nbformat_minor": 5
}
