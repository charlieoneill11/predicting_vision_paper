{
 "cells": [
  {
   "cell_type": "code",
   "execution_count": 2,
   "id": "a3b805a3-4251-4749-8577-0562faba5165",
   "metadata": {},
   "outputs": [],
   "source": [
    "# src/train_classify.py\n",
    "import pandas as pd\n",
    "import numpy as np\n",
    "import warnings\n",
    "warnings.filterwarnings('ignore')\n",
    "from sklearn import metrics\n",
    "from sklearn.model_selection import cross_val_score\n",
    "from sklearn.model_selection import train_test_split\n",
    "from sklearn.metrics import accuracy_score\n",
    "from sklearn.metrics import roc_auc_score\n",
    "from sklearn.metrics import confusion_matrix\n",
    "import os"
   ]
  },
  {
   "cell_type": "code",
   "execution_count": 3,
   "id": "fd1c2cdf-b91a-4dd4-b898-946530e8949e",
   "metadata": {},
   "outputs": [],
   "source": [
    "def score(model, X, y, cv=5, scoring='accuracy'):\n",
    "    scores = cross_val_score(model, X, y, cv=cv, scoring=scoring)\n",
    "    return np.mean(scores), np.std(scores)"
   ]
  },
  {
   "cell_type": "code",
   "execution_count": 4,
   "id": "232b0199-9ca1-4ed8-baef-076fb65fd81b",
   "metadata": {},
   "outputs": [],
   "source": [
    "def label_ovc(row): return 1 if (row.target_va - row.va_1) >= 0 else 0\n",
    "\n",
    "def label_ovc_multi(row):\n",
    "    final_bcva = row.target_va\n",
    "    toRtn = 0\n",
    "    if final_bcva < 60: \n",
    "        if final_bcva < 40: toRtn = 0\n",
    "        else: toRtn = 1\n",
    "    else:\n",
    "        if final_bcva < 80: toRtn = 2\n",
    "        else: toRtn = 3\n",
    "    return toRtn"
   ]
  },
  {
   "cell_type": "code",
   "execution_count": null,
   "id": "f57d9bcc-7e7f-42ed-94c7-8f877b0ad8a7",
   "metadata": {},
   "outputs": [],
   "source": []
  }
 ],
 "metadata": {
  "kernelspec": {
   "display_name": "Python 3 (ipykernel)",
   "language": "python",
   "name": "python3"
  },
  "language_info": {
   "codemirror_mode": {
    "name": "ipython",
    "version": 3
   },
   "file_extension": ".py",
   "mimetype": "text/x-python",
   "name": "python",
   "nbconvert_exporter": "python",
   "pygments_lexer": "ipython3",
   "version": "3.9.7"
  }
 },
 "nbformat": 4,
 "nbformat_minor": 5
}
